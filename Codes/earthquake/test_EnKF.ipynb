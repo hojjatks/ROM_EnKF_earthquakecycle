{
 "cells": [
  {
   "cell_type": "code",
   "execution_count": 4,
   "metadata": {},
   "outputs": [],
   "source": [
    "import numpy as np\n",
    "import torch\n",
    "import torch.nn as nn\n",
    "import torch.optim as optim\n",
    "import torch\n",
    "import sys\n",
    "sys.path.append('./..')\n",
    "import cte\n",
    "from torch.utils.data import TensorDataset, DataLoader\n",
    "from sklearn.model_selection import train_test_split\n",
    "from ProcessFunctions import find_Aisv2,Find_a_i,find_Aisv2_onlyv,Find_T_X_tau_without_p_input\n",
    "from torch.utils.data import TensorDataset, DataLoader\n",
    "from sklearn.model_selection import train_test_split\n",
    "import matplotlib.pyplot as plt\n",
    "import torch.nn.functional as F\n",
    "from scipy.interpolate import interp1d\n",
    "import seaborn as sns \n",
    "from scipy import integrate\n",
    "import scipy\n",
    "import cte_eq\n",
    "\n",
    "# Loading POD modes\n",
    "T_final=10500\n",
    "Ntout=cte_eq.Ntout\n",
    "Nxout=cte_eq.Nxout\n",
    "drs=0.012\n",
    "mu=3e10\n",
    "\n",
    "data_dir='/central/groups/Avouac_lab/hkaveh/Data/LearnROM/2D/MainSimulation2D_Tf'+str(T_final)+\"Nt=\"+str(Ntout)+\"Nx=\"+str(Nxout)+'PODonlyonV'+'drs'+str(drs)+\".npz\"\n",
    "PODmodes=np.load(data_dir)\n",
    "U_v=PODmodes['U']\n",
    "S_v=PODmodes['S']\n",
    "# VT_v=PODmodes['VT']\n",
    "q_bar_v=PODmodes['q_bar']\n",
    "Sigma_v=np.diagonal(S_v)\n",
    "Nt2=127534 # This is the number os snapshots used to find the POD, it is fined in the RunForward2D.ipynb\n",
    "Lambda_v=Sigma_v**2/Nt2 # Covariance matrix\n",
    "\n",
    "\n",
    "data_dir='/central/groups/Avouac_lab/hkaveh/Data/LearnROM/2D/MainSimulation2D_Tf'+str(T_final)+\"Nt=\"+str(Ntout)+\"Nx=\"+str(Nxout)+'PODonlyontheta'+'drs'+str(drs)+\".npz\"\n",
    "PODmodes=np.load(data_dir)\n",
    "U_theta=PODmodes['U']\n",
    "S_theta=PODmodes['S']\n",
    "# VT_theta=PODmodes['VT']\n",
    "q_bar_theta=PODmodes['q_bar']\n",
    "Sigma_theta=np.diagonal(S_theta)\n",
    "# Nt2=VT_theta.shape[0]\n",
    "Lambda_theta=Sigma_theta**2/Nt2 # Covariance matrix\n",
    "N_m_load=30\n",
    "phi=U_v[:,:N_m_load]    # This contains the eigen mode for velocity\n"
   ]
  },
  {
   "cell_type": "code",
   "execution_count": 5,
   "metadata": {},
   "outputs": [
    {
     "name": "stdout",
     "output_type": "stream",
     "text": [
      "cpu\n"
     ]
    }
   ],
   "source": [
    "device = torch.device('cuda' if torch.cuda.is_available() else 'cpu')\n",
    "print(device)"
   ]
  },
  {
   "cell_type": "code",
   "execution_count": 6,
   "metadata": {},
   "outputs": [],
   "source": [
    "dt=6*3600          #                for SSEs I used             5*24*3600 \n",
    "gamma_ratio=0.0001*5 # variance of the observation noise is multiplied by the value\n",
    "sigma_kernel=2000 # in meters\n",
    "\n",
    "N_m_v_list=[20,25,30]\n",
    "N_m_theta_list=[20,25,30]\n",
    "index=0\n",
    "N_m_theta=N_m_theta_list[index]\n",
    "N_m_v=N_m_v_list[index]\n",
    "\n",
    "Lambda=np.append(Lambda_v[:N_m_v],Lambda_theta[:N_m_theta]) # Lambda is the covariance matrix\n",
    "Lambda=np.diag(Lambda)\n",
    "\n",
    "Gamma=np.diag(Lambda_v[:N_m_v])\n",
    "\n",
    "t_yr=365*24*3600           # number of seconds in a year\n",
    "Nx=1024\n",
    "L_thresh=1e3\n",
    "L=240e3\n",
    "L_fault=L\n",
    "x_ox=np.linspace(-L/2,L/2,Nx)\n",
    "L_element_x=L/Nx\n",
    "\n",
    "sigma_x=sigma_kernel/L_element_x # in number of elements\n",
    "\n",
    "Obs_linear=0\n",
    "inflation=1  # inflection of the model noise covariance matrix"
   ]
  },
  {
   "cell_type": "code",
   "execution_count": 7,
   "metadata": {},
   "outputs": [
    {
     "name": "stdout",
     "output_type": "stream",
     "text": [
      "234.375\n",
      "8.533333333333333\n",
      "for SSE example sigma_x was 1.6\n"
     ]
    }
   ],
   "source": [
    "print(L_element_x)\n",
    "print(sigma_x)\n",
    "print(\"for SSE example sigma_x was 1.6\")"
   ]
  },
  {
   "cell_type": "code",
   "execution_count": 8,
   "metadata": {},
   "outputs": [],
   "source": [
    "# defining the model noise as xi \\in R^n which is a normal distribution with mean 0 and std proportional to Lambda,\n",
    "# We take the covarinace matrix of the model noise (remember covariance as the unit standard deviation squared)\n",
    "# Here covariance matrix is Sigma\n",
    "\n",
    "# def xi_call2(Lambda,xi_ratio,m):\n",
    "#     xi=np.random.multivariate_normal(np.zeros(Lambda.shape[0]),xi_ratio*Lambda,m)\n",
    "#     return xi.T\n",
    "\n",
    "def xi_call(N_m,cov,m):\n",
    "    xi=np.random.multivariate_normal(np.zeros(N_m),cov,m)\n",
    "    return xi.T"
   ]
  },
  {
   "cell_type": "code",
   "execution_count": 9,
   "metadata": {},
   "outputs": [
    {
     "data": {
      "text/plain": [
       "(20, 20)"
      ]
     },
     "execution_count": 9,
     "metadata": {},
     "output_type": "execute_result"
    }
   ],
   "source": [
    "Gamma.shape"
   ]
  },
  {
   "cell_type": "code",
   "execution_count": 10,
   "metadata": {},
   "outputs": [],
   "source": [
    "# defining the observation noise as eta \\in R^d which is a normal distribution with mean 0 and std proportional to Lambda_y,\n",
    "def eta_call(Gamma,gamma_ratio,m):\n",
    "    eta=np.random.multivariate_normal(np.zeros(Gamma.shape[0]),gamma_ratio*Gamma,m)\n",
    "    return eta.T"
   ]
  },
  {
   "cell_type": "code",
   "execution_count": 11,
   "metadata": {},
   "outputs": [],
   "source": [
    "# import the model from the code MLmodel8postprocess.ipynb\n",
    "# %% Defining model (g_1)\n",
    "class Forwardmap(nn.Module):\n",
    "    def __init__(self, N_m, dropout_rate=0.2, negative_slope=0.01):\n",
    "        super().__init__()\n",
    "        self.hidden1 = nn.Linear(N_m, 2 * N_m)\n",
    "        self.act1 = nn.LeakyReLU(negative_slope)\n",
    "        self.hidden2 = nn.Linear(2 * N_m, 4 * N_m)\n",
    "        self.act2 = nn.LeakyReLU(negative_slope)\n",
    "        self.hidden3 = nn.Linear(4 * N_m, 4 * N_m)\n",
    "        self.act3 = nn.LeakyReLU(negative_slope)\n",
    "        self.hidden4 = nn.Linear(4 * N_m, 2 * N_m)\n",
    "        self.act4 = nn.LeakyReLU(negative_slope)\n",
    "        self.output = nn.Linear(2 * N_m, N_m)\n",
    "        self.dropout = nn.Dropout(p=dropout_rate)\n",
    "\n",
    "    def forward(self, x):\n",
    "        x = self.act1(self.hidden1(x))\n",
    "        x = self.dropout(x)\n",
    "        x = self.act2(self.hidden2(x))\n",
    "        x = self.dropout(x)\n",
    "        x = self.act3(self.hidden3(x))\n",
    "        x = self.dropout(x)\n",
    "        x = self.act4(self.hidden4(x))\n",
    "        x = self.dropout(x)\n",
    "        x = self.output(x)\n",
    "        return x\n",
    "version=0\n",
    "    \n",
    "model=Forwardmap(N_m_v+N_m_theta)\n",
    "model.load_state_dict(torch.load(\n",
    "    \"/central/groups/astuart/hkaveh/Data/LearnROM/Earthquake2D_ROM_POD_separate_onV_theta\"\n",
    "    + str(version)\n",
    "    + \"N_m_v\"\n",
    "    + str(N_m_v)\n",
    "    + \"N_m_theta\"\n",
    "    + str(N_m_theta)\n",
    "    + \".pt\",\n",
    "    map_location=torch.device('cpu')\n",
    "))\n",
    "model.eval()\n",
    "model=model.to(device)"
   ]
  },
  {
   "cell_type": "code",
   "execution_count": 12,
   "metadata": {},
   "outputs": [],
   "source": [
    "# The reduced order model for v is already loaded\n",
    "# lets load the model for dt\n",
    "# Loading the pytorch ML model\n",
    "version_dt=0\n",
    "class Forwardmapdt(nn.Module):\n",
    "    def __init__(self,N_m_v, dropout_rate=0.2, negative_slope=0.01):\n",
    "        super().__init__()\n",
    "        self.hidden1=nn.Linear(N_m_v+1,2*N_m_v)\n",
    "        self.act1=nn.LeakyReLU(negative_slope)\n",
    "        self.hidden2=nn.Linear(2*N_m_v,4*N_m_v)\n",
    "        self.act2=nn.LeakyReLU(negative_slope)\n",
    "        self.hidden3=nn.Linear(4*N_m_v,4*N_m_v)\n",
    "        self.act3=nn.LeakyReLU(negative_slope)\n",
    "        self.hidden4=nn.Linear(4*N_m_v,2*N_m_v)\n",
    "        self.act4=nn.LeakyReLU(negative_slope)\n",
    "        self.output=nn.Linear(2*N_m_v,1)\n",
    "        self.dropout = nn.Dropout(p=dropout_rate)\n",
    "\n",
    "    def forward(self,x):\n",
    "        x=self.act1(self.hidden1(x))\n",
    "        x = self.dropout(x)\n",
    "        x=self.act2(self.hidden2(x))\n",
    "        x = self.dropout(x)\n",
    "        x=self.act3(self.hidden3(x))\n",
    "        x = self.dropout(x)\n",
    "        x=self.act4(self.hidden4(x))\n",
    "        x = self.dropout(x)\n",
    "        x=(self.output(x))\n",
    "        return x\n",
    "    \n",
    "modeldt=Forwardmapdt(N_m_v)\n",
    "modeldt.load_state_dict( torch.load(\"/central/groups/Avouac_lab/hkaveh/Data/LearnROM/2D/EQ_ROM_g2\"+str(version)+\"N_m_v\"+str(N_m_v)+\".pt\"))\n",
    "modeldt.eval()\n",
    "modeldt=modeldt.to(device)\n"
   ]
  },
  {
   "cell_type": "code",
   "execution_count": null,
   "metadata": {},
   "outputs": [],
   "source": [
    "\n"
   ]
  },
  {
   "cell_type": "code",
   "execution_count": null,
   "metadata": {},
   "outputs": [],
   "source": []
  },
  {
   "cell_type": "code",
   "execution_count": 13,
   "metadata": {},
   "outputs": [],
   "source": [
    "\n",
    "phi_torch     = torch.tensor(phi[:,:20], dtype=torch.float32, device=device)\n",
    "q_bar_v_torch = torch.tensor(q_bar_v, dtype=torch.float32, device=device)\n",
    "\n",
    "def find_logvmax(alpha):\n",
    "    if not isinstance(alpha, torch.Tensor):\n",
    "        alpha = torch.tensor(alpha, dtype=phi_torch.dtype, device=phi_torch.device)\n",
    "    v = torch.matmul(phi_torch, alpha).unsqueeze(1) + q_bar_v_torch\n",
    "    logvmax = torch.max(v).detach()  # Get the maximum value in v\n",
    "    return logvmax"
   ]
  },
  {
   "cell_type": "code",
   "execution_count": 15,
   "metadata": {},
   "outputs": [],
   "source": [
    "params_f=[N_m_v+N_m_theta]\n",
    "rho=2\n",
    "lambda_dissipation=0.1"
   ]
  },
  {
   "cell_type": "code",
   "execution_count": 16,
   "metadata": {},
   "outputs": [],
   "source": [
    "def dissipation_factor(xk,rho,Sigma,Beta=20):\n",
    "    # u=xk/Sigma # normalize by the std\n",
    "    alpha=xk[:,:N_m_v]\n",
    "    logvmax=find_logvmax(alpha.T)\n",
    "    # norm_u=torch.norm(u)\n",
    "    output=1/(1+torch.exp(Beta*(logvmax-rho)))\n",
    "    return output\n",
    "directory='/central/groups/Avouac_lab/hkaveh/Data/LearnROM/2D/sigma'+str(T_final)+\"Nt=\"+str(Ntout)+\"Nx=\"+str(Nxout)+'PODonlyonV'+'drs'+str(drs)+\".npz\"\n",
    "Sigma_v=np.load(directory)['Sigma_v']\n",
    "Sigma_theta=np.load(directory)['Sigma_theta']\n",
    "Sigma=np.concatenate((Sigma_v,Sigma_theta))\n",
    "Sigma = torch.tensor(Sigma, dtype=torch.float32, device=device)"
   ]
  },
  {
   "cell_type": "code",
   "execution_count": 17,
   "metadata": {},
   "outputs": [],
   "source": [
    "# This function is written to find the next time step in the Kalman filter algorithm and is the forward model\n",
    "# This function needs to be double checked.\n",
    "def f(alpha_k,dt,params_f):\n",
    "    # alpha_k is the state at time k\n",
    "    # alpha_kp1 is the state at time k+1\n",
    "    # dt is the time step (assume in seconds)\n",
    "    N_m=params_f[0]\n",
    "    xk=torch.tensor(alpha_k, dtype=torch.float32)           # xk is in torch.\n",
    "    forecast=xk.detach().cpu().numpy().reshape(N_m,1)       # forecast is in cpu.\n",
    "    time=np.array([0])                                      # time is in cpu\n",
    "    while time[-1]<dt:\n",
    "        xk=xk.to(device,dtype=torch.float32)\n",
    "        dissipate=dissipation_factor(xk.reshape((1,N_m)),rho,Sigma)          # torch\n",
    "        ykp1=(model(xk))                                    # ykp1 is the prediction of the model in torch\n",
    "        xkp1=(ykp1+xk)* dissipate + (1-dissipate)*(lambda_dissipation*xk) # This is the prediction of the model in torch\n",
    "\n",
    "        numpy_vector = xkp1.detach().cpu().numpy().reshape(N_m,1)\n",
    "        x_ML=numpy_vector                             # This is the alpha that has both v and theta\n",
    "        vmax=find_logvmax(x_ML[:N_m_v])       # This is the maximum of v\n",
    "\n",
    "        x_input_dt_ML=x_ML[:N_m_v]                 # This is the input for the dt model (except vmax)\n",
    "        x_input_dt_ML=np.append(x_input_dt_ML,vmax.detach().cpu().numpy())         # This is the input for the dt model\n",
    "        x_input_dt_ML=torch.tensor(x_input_dt_ML, dtype=torch.float32) # This is the input for the dt model\n",
    "        x_input_dt_ML=x_input_dt_ML.to(device)\n",
    "        dt_pred=modeldt(x_input_dt_ML)                      # This is the prediction for the time step\n",
    "        dt_pred=10 ** dt_pred.detach().cpu().double().numpy().astype(np.float64)    # This is the prediction for the time step\n",
    "        time=np.append(time,dt_pred+time[-1])                        # This is the time vector\n",
    "        forecast = np.hstack([forecast, numpy_vector])      # This is the forecasted alpha (not scaled though)\n",
    "        xk=xkp1\n",
    "    \n",
    "    # applying linear interpolation to find forecast at time dt, using only the last two points\n",
    "    f2 = interp1d([time[-2],time[-1]], forecast[:,-2:],axis=1)\n",
    "    alpha_kp1=f2(dt).reshape(N_m,1)\n",
    "    # Removing the last coulmn of forecast becasue it is for the time when t > dt\n",
    "    forecast=forecast[:,:-1]\n",
    "    time[-1]=dt\n",
    "    # Then appending it to the forecast\n",
    "    forecast = np.concatenate((forecast, alpha_kp1),axis=1)\n",
    "    return forecast,time\n"
   ]
  },
  {
   "cell_type": "markdown",
   "metadata": {},
   "source": [
    "# Find The Scaling and check if it makes sense"
   ]
  },
  {
   "cell_type": "code",
   "execution_count": 18,
   "metadata": {},
   "outputs": [
    {
     "ename": "",
     "evalue": "",
     "output_type": "error",
     "traceback": [
      "\u001b[1;31mThe Kernel crashed while executing code in the the current cell or a previous cell. Please review the code in the cell(s) to identify a possible cause of the failure. Click <a href='https://aka.ms/vscodeJupyterKernelCrash'>here</a> for more info. View Jupyter <a href='command:jupyter.viewOutput'>log</a> for further details."
     ]
    }
   ],
   "source": [
    "# # This cell runs the program for up to time t_test\n",
    "t_test=200*24*3600*365\n",
    "# t_test=10\n",
    "# size_x=256\n",
    "# size_y=32\n",
    "# size=U_v.shape[0]\n",
    "# specify random seed\n",
    "np.random.seed(0)\n",
    "alpha_k=xi_call(40,Lambda,1).T\n",
    "forecast,time=f(alpha_k,t_test,params_f)"
   ]
  },
  {
   "cell_type": "code",
   "execution_count": null,
   "metadata": {},
   "outputs": [
    {
     "data": {
      "text/plain": [
       "[<matplotlib.lines.Line2D at 0x7f8b43c4b950>]"
      ]
     },
     "execution_count": 87,
     "metadata": {},
     "output_type": "execute_result"
    },
    {
     "data": {
      "image/png": "[encoded data removed]",
      "text/plain": [
       "<Figure size 640x480 with 1 Axes>"
      ]
     },
     "metadata": {},
     "output_type": "display_data"
    }
   ],
   "source": [
    "plt.plot(forecast[0,:])"
   ]
  },
  {
   "cell_type": "code",
   "execution_count": null,
   "metadata": {},
   "outputs": [],
   "source": [
    "N_it=forecast.shape[1]"
   ]
  },
  {
   "cell_type": "code",
   "execution_count": null,
   "metadata": {},
   "outputs": [
    {
     "data": {
      "text/plain": [
       "240000.0"
      ]
     },
     "execution_count": 89,
     "metadata": {},
     "output_type": "execute_result"
    }
   ],
   "source": [
    "L"
   ]
  },
  {
   "cell_type": "code",
   "execution_count": null,
   "metadata": {},
   "outputs": [],
   "source": [
    "delta_x=L/Nx"
   ]
  },
  {
   "cell_type": "code",
   "execution_count": null,
   "metadata": {},
   "outputs": [],
   "source": [
    "def findscalingquantities(pdot,t,v,delta_x,V_event=1e-2): \n",
    "    flag_event=False\n",
    "    T1s=[] # this is the time of the start of events\n",
    "    T2s=[] # this is the time of the end of events\n",
    "    length_ruptures=[] # this is the length of the rupture\n",
    "    pots=[] # integral of pdot over the event duration\n",
    "\n",
    "    for i in range(v.shape[0]): # first dimension is time\n",
    "        if np.max(v[i,:])>V_event and flag_event==False:\n",
    "            start=i\n",
    "            T1s.append(t[i,0])\n",
    "            flag_event=True\n",
    "            print(i)\n",
    "        if np.max(v[i,:])<V_event and flag_event==True:\n",
    "            end=i\n",
    "            flag_event=False\n",
    "            T2s.append(t[i,0])\n",
    "            print(i)\n",
    "            # check from start to end for all elements of v[start,:] to v[end,:] which elements had v >v_event in one line, from this you can find the event extent\n",
    "            ruptured=np.where(v[start:end,:]>V_event,1,0)\n",
    "            # find the locations at which at least there is one element that is ruptured\n",
    "            ruptured=np.sum(ruptured,axis=0)\n",
    "            ruptured=(ruptured>0)\n",
    "            # summing number of ruptured elements\n",
    "            num_ruptured_elements=np.sum(ruptured)\n",
    "            # then the rupture length of this event is given by \n",
    "            length_rupture=num_ruptured_elements*delta_x\n",
    "            length_ruptures.append(length_rupture)\n",
    "            potency_of_event=integrate.cumtrapz(pdot[start:end],t[start:end,0])  \n",
    "            print(potency_of_event[-1])  \n",
    "            pots.append(potency_of_event[-1])\n",
    "    return  T1s,T2s,length_ruptures,pots"
   ]
  },
  {
   "cell_type": "code",
   "execution_count": null,
   "metadata": {},
   "outputs": [],
   "source": [
    "def Gut(Mw,NpointsM=30):\n",
    "    CumNumber=np.array([])\n",
    "    c1=np.min(Mw)\n",
    "    c2=np.max(Mw)-.0001 # To remove log10(0) error\n",
    "    # print(c1)\n",
    "    # print(c2)\n",
    "    c=np.linspace(c1,c2,NpointsM)\n",
    "    # print(c)\n",
    "    for i in range(c.size):\n",
    "        CumNumber=np.append(CumNumber,(sum(j > c[i] for j in Mw)))\n",
    "    return c,CumNumber "
   ]
  },
  {
   "cell_type": "code",
   "execution_count": null,
   "metadata": {},
   "outputs": [],
   "source": [
    "find_scaling=True"
   ]
  },
  {
   "cell_type": "code",
   "execution_count": null,
   "metadata": {},
   "outputs": [
    {
     "name": "stdout",
     "output_type": "stream",
     "text": [
      "111\n",
      "296\n",
      "27701.578986020944\n",
      "419\n",
      "575\n",
      "22946.8081057949\n",
      "671\n",
      "917\n",
      "29015.18267571831\n",
      "1027\n",
      "1339\n",
      "29082.400445745552\n"
     ]
    }
   ],
   "source": [
    "size_x=U_v.shape[0]\n",
    "V_ox_ROM=np.empty((N_it+1,size_x))\n",
    "t_ox_ROM=np.ones((N_it+1,size_x))\n",
    "vmax=[]\n",
    "U_ROM=U_v[:,0:N_m_v]\n",
    "for j in range(N_it):\n",
    "    V_snapshot = U_ROM @ (forecast[:N_m_v,j]) + q_bar_v.reshape(size_x,)\n",
    "    vmax.append(np.max(V_snapshot))\n",
    "    V_ox_ROM[j,:]=10**(V_snapshot)\n",
    "    t_ox_ROM[j,:]=time[j]*np.ones((1,size_x))\n",
    "if find_scaling:    \n",
    "    pdot=np.sum(V_ox_ROM,axis=1)*delta_x\n",
    "\n",
    "    T1s_ROM,T2s_ROM,length_ruptures_ROM,pots_ROM=findscalingquantities(pdot,t_ox_ROM,V_ox_ROM,delta_x,V_event=1e-3)\n",
    "    T1s_ROM=np.array(T1s_ROM)\n",
    "    T2s_ROM=np.array(T2s_ROM)\n",
    "    length_ruptures_ROM=np.array(length_ruptures_ROM)\n",
    "    pots_ROM=np.array(pots_ROM)\n",
    "    moment_ROM=mu*pots_ROM\n",
    "    log_10_moment_events_ROM=np.log10(moment_ROM)\n",
    "    mags_ROM,cumN_ROM=Gut(log_10_moment_events_ROM)\n",
    "    # if len(T2s_ROM) == len(T1s_ROM) - 1:\n",
    "    #     T1s_ROM = T1s_ROM[:-1]\n"
   ]
  },
  {
   "cell_type": "code",
   "execution_count": null,
   "metadata": {},
   "outputs": [
    {
     "data": {
      "text/plain": [
       "29.82914798246506"
      ]
     },
     "execution_count": 95,
     "metadata": {},
     "output_type": "execute_result"
    }
   ],
   "source": [
    "pdot[427]"
   ]
  },
  {
   "cell_type": "code",
   "execution_count": null,
   "metadata": {},
   "outputs": [
    {
     "data": {
      "text/plain": [
       "23.65501863192654"
      ]
     },
     "execution_count": 96,
     "metadata": {},
     "output_type": "execute_result"
    }
   ],
   "source": [
    "pdot[572]"
   ]
  },
  {
   "cell_type": "code",
   "execution_count": null,
   "metadata": {},
   "outputs": [
    {
     "data": {
      "text/plain": [
       "63207660.010643974"
      ]
     },
     "execution_count": 97,
     "metadata": {},
     "output_type": "execute_result"
    }
   ],
   "source": [
    "time[427]"
   ]
  },
  {
   "cell_type": "code",
   "execution_count": null,
   "metadata": {},
   "outputs": [
    {
     "data": {
      "text/plain": [
       "63207669.63503714"
      ]
     },
     "execution_count": 98,
     "metadata": {},
     "output_type": "execute_result"
    }
   ],
   "source": [
    "time[572]"
   ]
  },
  {
   "cell_type": "code",
   "execution_count": null,
   "metadata": {},
   "outputs": [
    {
     "data": {
      "text/plain": [
       "array([7.14393141e+02, 6.32076584e+07, 1.09206797e+09, 1.54290708e+09])"
      ]
     },
     "execution_count": 99,
     "metadata": {},
     "output_type": "execute_result"
    }
   ],
   "source": [
    "T1s_ROM"
   ]
  },
  {
   "cell_type": "code",
   "execution_count": null,
   "metadata": {},
   "outputs": [
    {
     "data": {
      "text/plain": [
       "array([7.28232982e+02, 6.32076721e+07, 1.09206799e+09, 1.54290710e+09])"
      ]
     },
     "execution_count": 100,
     "metadata": {},
     "output_type": "execute_result"
    }
   ],
   "source": [
    "T2s_ROM"
   ]
  },
  {
   "cell_type": "code",
   "execution_count": null,
   "metadata": {},
   "outputs": [
    {
     "name": "stdout",
     "output_type": "stream",
     "text": [
      "[ 8671.875  8671.875 12187.5   13828.125]\n"
     ]
    }
   ],
   "source": [
    "print(length_ruptures_ROM)"
   ]
  },
  {
   "cell_type": "code",
   "execution_count": null,
   "metadata": {},
   "outputs": [
    {
     "name": "stdout",
     "output_type": "stream",
     "text": [
      "[27701.57898602 22946.80810579 29015.18267572 29082.40044575]\n"
     ]
    }
   ],
   "source": [
    "print(pots_ROM)"
   ]
  },
  {
   "cell_type": "code",
   "execution_count": null,
   "metadata": {},
   "outputs": [
    {
     "data": {
      "text/plain": [
       "array([8.31047370e+14, 6.88404243e+14, 8.70455480e+14, 8.72472013e+14])"
      ]
     },
     "execution_count": 103,
     "metadata": {},
     "output_type": "execute_result"
    }
   ],
   "source": [
    "moment_ROM"
   ]
  },
  {
   "cell_type": "code",
   "execution_count": null,
   "metadata": {},
   "outputs": [
    {
     "data": {
      "text/plain": [
       "array([ 3.09426415e-03,  3.02476854e-03,  2.95815638e-03, ...,\n",
       "        1.98893207e-04,  1.96887805e-04, -7.06382204e+10])"
      ]
     },
     "execution_count": 104,
     "metadata": {},
     "output_type": "execute_result"
    }
   ],
   "source": [
    "pdot"
   ]
  },
  {
   "cell_type": "code",
   "execution_count": null,
   "metadata": {},
   "outputs": [
    {
     "data": {
      "image/png": "[encoded data removed]",
      "text/plain": [
       "<Figure size 640x480 with 1 Axes>"
      ]
     },
     "metadata": {},
     "output_type": "display_data"
    }
   ],
   "source": [
    "plt.plot(pdot)\n",
    "plt.yscale(\"log\")"
   ]
  },
  {
   "cell_type": "code",
   "execution_count": null,
   "metadata": {},
   "outputs": [
    {
     "name": "stdout",
     "output_type": "stream",
     "text": [
      "49.96714489103056\n"
     ]
    }
   ],
   "source": [
    "T_final_ROM=time[-1]/cte.t_yr\n",
    "print(T_final_ROM)"
   ]
  },
  {
   "cell_type": "code",
   "execution_count": null,
   "metadata": {},
   "outputs": [
    {
     "name": "stderr",
     "output_type": "stream",
     "text": [
      "/central/groups/astuart/hkaveh/soft/miniconda3/envs/learnmodel/lib/python3.7/site-packages/ipykernel_launcher.py:11: UserWarning: marker is redundantly defined by the 'marker' keyword argument and the fmt string \".\" (-> marker='.'). The keyword argument will take precedence.\n",
      "  # This is added back by InteractiveShellApp.init_path()\n",
      "/central/groups/astuart/hkaveh/soft/miniconda3/envs/learnmodel/lib/python3.7/site-packages/ipykernel_launcher.py:16: UserWarning: marker is redundantly defined by the 'marker' keyword argument and the fmt string \".\" (-> marker='.'). The keyword argument will take precedence.\n",
      "  \n",
      "/central/groups/astuart/hkaveh/soft/miniconda3/envs/learnmodel/lib/python3.7/site-packages/ipykernel_launcher.py:24: UserWarning: marker is redundantly defined by the 'marker' keyword argument and the fmt string \".\" (-> marker='.'). The keyword argument will take precedence.\n"
     ]
    },
    {
     "data": {
      "text/plain": [
       "Text(0.5, 1.0, 'dissipate with: 0.1')"
      ]
     },
     "execution_count": 107,
     "metadata": {},
     "output_type": "execute_result"
    },
    {
     "data": {
      "image/png": "[encoded data removed]",
      "text/plain": [
       "<Figure size 800x300 with 3 Axes>"
      ]
     },
     "metadata": {},
     "output_type": "display_data"
    }
   ],
   "source": [
    "# make a figure with\n",
    "plt.rcParams.update({\n",
    "    'font.family': 'serif',\n",
    "    'font.serif': ['Times New Roman'],\n",
    "    'text.usetex': True,  # If you want to use LaTeX for rendering text\n",
    "})\n",
    "fig, axs = plt.subplots(1, 3, figsize=(8, 3))\n",
    "\n",
    "plt.rcParams.update({'font.family': 'serif', 'font.serif': 'Times New Roman','font.size': 8})\n",
    "\n",
    "axs[0].plot(mags_ROM, cumN_ROM/T_final_ROM, '.',color='blue',label='ROM',marker='+')\n",
    "# axs[0].plot(mags, cumN/(number_to_load*T_final_run), '.', color='black',label=\"ROM\")\n",
    "axs[0].set_yscale(\"log\")\n",
    "# plotting in loglog scale the length of events in y axis and moment in x axis\n",
    "\n",
    "axs[1].plot(moment_ROM, T2s_ROM-T1s_ROM ,  '.', color='blue',label=\"ROM\",marker=\"+\")\n",
    "# axs[1].plot(moment_events, T2s_all-T1s_all ,  '.', color='black',label='PDE')\n",
    "\n",
    "axs[1].set_xscale('log')\n",
    "axs[1].set_yscale('log')\n",
    "axs[1].set_xlabel(r\"$\\mu \\int_{t_{start}}^{t_{end}} \\int_{A_{event}} v dz dt$\")\n",
    "axs[1].set_ylabel(r\"$t_{end}-t_{start}$ $(s)$\")\n",
    "\n",
    "axs[2].plot(moment_ROM, length_ruptures_ROM ,  '.', color='blue',label=\"ROM\",marker=\"+\")\n",
    "# axs[2].plot(moment_events, length_ruptures_all , '.', color='black',label=\"PDE\")\n",
    "\n",
    "axs[2].set_xscale('log')\n",
    "axs[2].set_yscale('log')\n",
    "axs[2].set_xlabel(r\"$\\mu \\int_{t_{start}}^{t_{end}} \\int_{A_{event}} v dz dt$\")\n",
    "axs[2].set_ylabel(r\"$A_{event}$ ($m^2$)\")\n",
    "plt.tight_layout()\n",
    "plt.title(\"dissipate with: \"+\n",
    "str(lambda_dissipation))\n",
    "#\n",
    "# plt.savefig(\"dissipate with: \"+str(lambda_dissipation)+\"rho\"+str(rho)+\".png\")"
   ]
  },
  {
   "cell_type": "markdown",
   "metadata": {},
   "source": [
    "so far, we have I have written the code to find the ROM and the scaling that I get is reasonable close to the original scaling\n",
    "\n",
    "\n",
    "\n",
    "To do:\n",
    "* find the model noise"
   ]
  },
  {
   "cell_type": "code",
   "execution_count": null,
   "metadata": {},
   "outputs": [
    {
     "data": {
      "text/plain": [
       "array([8.31047370e+14, 6.88404243e+14, 8.70455480e+14, 8.72472013e+14])"
      ]
     },
     "execution_count": 108,
     "metadata": {},
     "output_type": "execute_result"
    }
   ],
   "source": [
    "moment_ROM"
   ]
  },
  {
   "cell_type": "code",
   "execution_count": null,
   "metadata": {},
   "outputs": [],
   "source": []
  },
  {
   "cell_type": "code",
   "execution_count": null,
   "metadata": {},
   "outputs": [],
   "source": []
  },
  {
   "cell_type": "code",
   "execution_count": null,
   "metadata": {},
   "outputs": [],
   "source": []
  },
  {
   "cell_type": "code",
   "execution_count": null,
   "metadata": {},
   "outputs": [],
   "source": []
  },
  {
   "cell_type": "code",
   "execution_count": null,
   "metadata": {},
   "outputs": [],
   "source": []
  },
  {
   "cell_type": "code",
   "execution_count": null,
   "metadata": {},
   "outputs": [],
   "source": []
  },
  {
   "cell_type": "code",
   "execution_count": null,
   "metadata": {},
   "outputs": [],
   "source": []
  },
  {
   "cell_type": "code",
   "execution_count": null,
   "metadata": {},
   "outputs": [],
   "source": []
  },
  {
   "cell_type": "code",
   "execution_count": null,
   "metadata": {},
   "outputs": [],
   "source": []
  },
  {
   "cell_type": "code",
   "execution_count": null,
   "metadata": {},
   "outputs": [],
   "source": []
  }
 ],
 "metadata": {
  "kernelspec": {
   "display_name": "learnmodel",
   "language": "python",
   "name": "python3"
  },
  "language_info": {
   "codemirror_mode": {
    "name": "ipython",
    "version": 3
   },
   "file_extension": ".py",
   "mimetype": "text/x-python",
   "name": "python",
   "nbconvert_exporter": "python",
   "pygments_lexer": "ipython3",
   "version": "3.7.12"
  }
 },
 "nbformat": 4,
 "nbformat_minor": 2
}
