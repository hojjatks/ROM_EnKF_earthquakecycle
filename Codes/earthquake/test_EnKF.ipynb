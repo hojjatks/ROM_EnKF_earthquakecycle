{
 "cells": [
  {
   "cell_type": "code",
   "execution_count": 1,
   "metadata": {},
   "outputs": [],
   "source": [
    "import numpy as np\n",
    "import torch\n",
    "import torch.nn as nn \n",
    "import torch.optim as optim\n",
    "import torch\n",
    "import sys\n",
    "sys.path.append('./..')\n",
    "import cte\n",
    "from torch.utils.data import TensorDataset, DataLoader\n",
    "from sklearn.model_selection import train_test_split\n",
    "from ProcessFunctions import find_Aisv2,Find_a_i,find_Aisv2_onlyv,Find_T_X_tau_without_p_input\n",
    "from torch.utils.data import TensorDataset, DataLoader\n",
    "from sklearn.model_selection import train_test_split\n",
    "import matplotlib.pyplot as plt\n",
    "import torch.nn.functional as F\n",
    "from scipy.interpolate import interp1d\n",
    "import seaborn as sns \n",
    "from scipy import integrate\n",
    "import scipy\n",
    "import cte_eq\n",
    "\n",
    "# Loading POD modes\n",
    "T_final=10500\n",
    "Ntout=cte_eq.Ntout\n",
    "Nxout=cte_eq.Nxout\n",
    "drs=0.012\n",
    "mu=3e10\n",
    "\n",
    "data_dir='/central/groups/Avouac_lab/hkaveh/Data/LearnROM/2D/MainSimulation2D_Tf'+str(T_final)+\"Nt=\"+str(Ntout)+\"Nx=\"+str(Nxout)+'PODonlyonV'+'drs'+str(drs)+\".npz\"\n",
    "PODmodes=np.load(data_dir)\n",
    "U_v=PODmodes['U']\n",
    "S_v=PODmodes['S']\n",
    "# VT_v=PODmodes['VT']\n",
    "q_bar_v=PODmodes['q_bar']\n",
    "Sigma_v=np.diagonal(S_v)\n",
    "Nt2=127534 # This is the number os snapshots used to find the POD, it is fined in the RunForward2D.ipynb\n",
    "Lambda_v=Sigma_v**2/Nt2 # Covariance matrix\n",
    "\n",
    "\n",
    "data_dir='/central/groups/Avouac_lab/hkaveh/Data/LearnROM/2D/MainSimulation2D_Tf'+str(T_final)+\"Nt=\"+str(Ntout)+\"Nx=\"+str(Nxout)+'PODonlyontheta'+'drs'+str(drs)+\".npz\"\n",
    "PODmodes=np.load(data_dir)\n",
    "U_theta=PODmodes['U']\n",
    "S_theta=PODmodes['S']\n",
    "# VT_theta=PODmodes['VT']\n",
    "q_bar_theta=PODmodes['q_bar']\n",
    "Sigma_theta=np.diagonal(S_theta)\n",
    "# Nt2=VT_theta.shape[0]\n",
    "Lambda_theta=Sigma_theta**2/Nt2 # Covariance matrix\n",
    "N_m_load=30\n",
    "phi=U_v[:,:N_m_load]    # This contains the eigen mode for velocity\n"
   ]
  },
  {
   "cell_type": "code",
   "execution_count": 2,
   "metadata": {},
   "outputs": [
    {
     "name": "stdout",
     "output_type": "stream",
     "text": [
      "cpu\n"
     ]
    }
   ],
   "source": [
    "device = torch.device('cuda' if torch.cuda.is_available() else 'cpu')\n",
    "print(device)"
   ]
  },
  {
   "cell_type": "code",
   "execution_count": 3,
   "metadata": {},
   "outputs": [],
   "source": [
    "dt=6*3600           #                for SSEs I used             5*24*3600 \n",
    "gamma_ratio=0.0001 # variance of the observation noise is multiplied by the value\n",
    "sigma_kernel=2000 # in meters\n",
    "\n",
    "N_m_v_list=[20,25,30]\n",
    "N_m_theta_list=[20,25,30]\n",
    "index=0\n",
    "N_m_theta=N_m_theta_list[index]\n",
    "N_m_v=N_m_v_list[index]\n",
    "\n",
    "Lambda=np.append(Lambda_v[:N_m_v],Lambda_theta[:N_m_theta]) # Lambda is the covariance matrix\n",
    "Lambda=np.diag(Lambda)\n",
    "\n",
    "Gamma=np.diag(Lambda_v[:N_m_v])\n",
    "\n",
    "t_yr=365*24*3600           # number of seconds in a year\n",
    "Nx=1024\n",
    "L_thresh=1e3\n",
    "L=240e3\n",
    "L_fault=L\n",
    "x_ox=np.linspace(-L/2,L/2,Nx)\n",
    "L_element_x=L/Nx\n",
    "\n",
    "sigma_x=sigma_kernel/L_element_x # in number of elements\n",
    "\n",
    "Obs_linear=0\n",
    "inflation=1  # inflection of the model noise covariance matrix"
   ]
  },
  {
   "cell_type": "code",
   "execution_count": 4,
   "metadata": {},
   "outputs": [
    {
     "name": "stdout",
     "output_type": "stream",
     "text": [
      "234.375\n",
      "8.533333333333333\n",
      "for SSE example sigma_x was 1.6\n"
     ]
    }
   ],
   "source": [
    "print(L_element_x)\n",
    "print(sigma_x)\n",
    "print(\"for SSE example sigma_x was 1.6\")"
   ]
  },
  {
   "cell_type": "code",
   "execution_count": 5,
   "metadata": {},
   "outputs": [],
   "source": [
    "# defining the model noise as xi \\in R^n which is a normal distribution with mean 0 and std proportional to Lambda,\n",
    "# We take the covarinace matrix of the model noise (remember covariance as the unit standard deviation squared)\n",
    "# Here covariance matrix is Sigma\n",
    "\n",
    "# def xi_call2(Lambda,xi_ratio,m):\n",
    "#     xi=np.random.multivariate_normal(np.zeros(Lambda.shape[0]),xi_ratio*Lambda,m)\n",
    "#     return xi.T\n",
    "\n",
    "def xi_call(N_m,cov,m):\n",
    "    xi=np.random.multivariate_normal(np.zeros(N_m),cov,m)\n",
    "    return xi.T"
   ]
  },
  {
   "cell_type": "code",
   "execution_count": 6,
   "metadata": {},
   "outputs": [
    {
     "data": {
      "text/plain": [
       "(20, 20)"
      ]
     },
     "execution_count": 6,
     "metadata": {},
     "output_type": "execute_result"
    }
   ],
   "source": [
    "Gamma.shape"
   ]
  },
  {
   "cell_type": "code",
   "execution_count": 7,
   "metadata": {},
   "outputs": [],
   "source": [
    "# defining the observation noise as eta \\in R^d which is a normal distribution with mean 0 and std proportional to Lambda_y,\n",
    "def eta_call(Gamma,gamma_ratio,m):\n",
    "    eta=np.random.multivariate_normal(np.zeros(Gamma.shape[0]),gamma_ratio*Gamma,m)\n",
    "    return eta.T"
   ]
  },
  {
   "cell_type": "code",
   "execution_count": 8,
   "metadata": {},
   "outputs": [],
   "source": [
    "# import the model from the code MLmodel8postprocess.ipynb\n",
    "# %% Defining model (g_1)\n",
    "class Forwardmap(nn.Module):\n",
    "    def __init__(self, N_m, dropout_rate=0.2, negative_slope=0.01):\n",
    "        super().__init__()\n",
    "        self.hidden1 = nn.Linear(N_m, 2 * N_m)\n",
    "        self.act1 = nn.LeakyReLU(negative_slope)\n",
    "        self.hidden2 = nn.Linear(2 * N_m, 4 * N_m)\n",
    "        self.act2 = nn.LeakyReLU(negative_slope)\n",
    "        self.hidden3 = nn.Linear(4 * N_m, 4 * N_m)\n",
    "        self.act3 = nn.LeakyReLU(negative_slope)\n",
    "        self.hidden4 = nn.Linear(4 * N_m, 2 * N_m)\n",
    "        self.act4 = nn.LeakyReLU(negative_slope)\n",
    "        self.output = nn.Linear(2 * N_m, N_m)\n",
    "        self.dropout = nn.Dropout(p=dropout_rate)\n",
    "\n",
    "    def forward(self, x):\n",
    "        x = self.act1(self.hidden1(x))\n",
    "        x = self.dropout(x)\n",
    "        x = self.act2(self.hidden2(x))\n",
    "        x = self.dropout(x)\n",
    "        x = self.act3(self.hidden3(x))\n",
    "        x = self.dropout(x)\n",
    "        x = self.act4(self.hidden4(x))\n",
    "        x = self.dropout(x)\n",
    "        x = self.output(x)\n",
    "        return x\n",
    "version=0\n",
    "    \n",
    "model=Forwardmap(N_m_v+N_m_theta)\n",
    "model.load_state_dict(torch.load(\n",
    "    \"/central/groups/astuart/hkaveh/Data/LearnROM/Earthquake2D_ROM_POD_separate_onV_theta\"\n",
    "    + str(version)\n",
    "    + \"N_m_v\"\n",
    "    + str(N_m_v)\n",
    "    + \"N_m_theta\"\n",
    "    + str(N_m_theta)\n",
    "    + \".pt\",\n",
    "    map_location=torch.device('cpu')\n",
    "))\n",
    "model.eval()\n",
    "model=model.to(device)"
   ]
  },
  {
   "cell_type": "code",
   "execution_count": 9,
   "metadata": {},
   "outputs": [],
   "source": [
    "# The reduced order model for v is already loaded\n",
    "# lets load the model for dt\n",
    "# Loading the pytorch ML model\n",
    "version_dt=0\n",
    "class Forwardmapdt(nn.Module):\n",
    "    def __init__(self,N_m_v, dropout_rate=0.2, negative_slope=0.01):\n",
    "        super().__init__()\n",
    "        self.hidden1=nn.Linear(N_m_v+1,2*N_m_v)\n",
    "        self.act1=nn.LeakyReLU(negative_slope)\n",
    "        self.hidden2=nn.Linear(2*N_m_v,4*N_m_v)\n",
    "        self.act2=nn.LeakyReLU(negative_slope)\n",
    "        self.hidden3=nn.Linear(4*N_m_v,4*N_m_v)\n",
    "        self.act3=nn.LeakyReLU(negative_slope)\n",
    "        self.hidden4=nn.Linear(4*N_m_v,2*N_m_v)\n",
    "        self.act4=nn.LeakyReLU(negative_slope)\n",
    "        self.output=nn.Linear(2*N_m_v,1)\n",
    "        self.dropout = nn.Dropout(p=dropout_rate)\n",
    "\n",
    "    def forward(self,x):\n",
    "        x=self.act1(self.hidden1(x))\n",
    "        x = self.dropout(x)\n",
    "        x=self.act2(self.hidden2(x))\n",
    "        x = self.dropout(x)\n",
    "        x=self.act3(self.hidden3(x))\n",
    "        x = self.dropout(x)\n",
    "        x=self.act4(self.hidden4(x))\n",
    "        x = self.dropout(x)\n",
    "        x=(self.output(x))\n",
    "        return x\n",
    "    \n",
    "modeldt=Forwardmapdt(N_m_v)\n",
    "modeldt.load_state_dict( torch.load(\"/central/groups/Avouac_lab/hkaveh/Data/LearnROM/2D/EQ_ROM_g2\"+str(version)+\"N_m_v\"+str(N_m_v)+\".pt\"))\n",
    "modeldt.eval()\n",
    "modeldt=modeldt.to(device)\n"
   ]
  },
  {
   "cell_type": "code",
   "execution_count": null,
   "metadata": {},
   "outputs": [],
   "source": [
    "\n"
   ]
  },
  {
   "cell_type": "code",
   "execution_count": null,
   "metadata": {},
   "outputs": [],
   "source": []
  },
  {
   "cell_type": "code",
   "execution_count": 10,
   "metadata": {},
   "outputs": [],
   "source": [
    "\n",
    "phi_torch     = torch.tensor(phi[:,:20], dtype=torch.float32, device=device)\n",
    "q_bar_v_torch = torch.tensor(q_bar_v, dtype=torch.float32, device=device)\n",
    "\n",
    "def find_logvmax(alpha):\n",
    "    if not isinstance(alpha, torch.Tensor):\n",
    "        alpha = torch.tensor(alpha, dtype=phi_torch.dtype, device=phi_torch.device)\n",
    "    v = torch.matmul(phi_torch, alpha).unsqueeze(1) + q_bar_v_torch\n",
    "    logvmax = torch.max(v).detach()  # Get the maximum value in v\n",
    "    return logvmax"
   ]
  },
  {
   "cell_type": "code",
   "execution_count": 11,
   "metadata": {},
   "outputs": [],
   "source": [
    "params_f=[N_m_v+N_m_theta]\n",
    "rho=2\n",
    "lambda_dissipation=0.15"
   ]
  },
  {
   "cell_type": "code",
   "execution_count": 12,
   "metadata": {},
   "outputs": [],
   "source": [
    "def dissipation_factor(xk,rho,Sigma,Beta=20):\n",
    "    # u=xk/Sigma # normalize by the std\n",
    "    alpha=xk[:,:N_m_v]\n",
    "    logvmax=find_logvmax(alpha.T)\n",
    "    # norm_u=torch.norm(u)\n",
    "    output=1/(1+torch.exp(Beta*(logvmax-rho)))\n",
    "    return output\n",
    "directory='/central/groups/Avouac_lab/hkaveh/Data/LearnROM/2D/sigma'+str(T_final)+\"Nt=\"+str(Ntout)+\"Nx=\"+str(Nxout)+'PODonlyonV'+'drs'+str(drs)+\".npz\"\n",
    "Sigma_v=np.load(directory)['Sigma_v']\n",
    "Sigma_theta=np.load(directory)['Sigma_theta']\n",
    "Sigma=np.concatenate((Sigma_v,Sigma_theta))\n",
    "Sigma = torch.tensor(Sigma, dtype=torch.float32, device=device)"
   ]
  },
  {
   "cell_type": "code",
   "execution_count": 13,
   "metadata": {},
   "outputs": [],
   "source": [
    "# This function is written to find the next time step in the Kalman filter algorithm and is the forward model\n",
    "# This function needs to be double checked.\n",
    "def f(alpha_k,dt,params_f):\n",
    "    # alpha_k is the state at time k\n",
    "    # alpha_kp1 is the state at time k+1\n",
    "    # dt is the time step (assume in seconds)\n",
    "    N_m=params_f[0]\n",
    "    xk=torch.tensor(alpha_k, dtype=torch.float32)           # xk is in torch.\n",
    "    forecast=xk.detach().cpu().numpy().reshape(N_m,1)       # forecast is in cpu.\n",
    "    time=np.array([0])                                      # time is in cpu\n",
    "    while time[-1]<dt:\n",
    "        xk=xk.to(device,dtype=torch.float32)\n",
    "        dissipate=dissipation_factor(xk.reshape((1,N_m)),rho,Sigma)          # torch\n",
    "        ykp1=(model(xk))                                    # ykp1 is the prediction of the model in torch\n",
    "        xkp1=(ykp1+xk)* dissipate + (1-dissipate)*(lambda_dissipation*xk) # This is the prediction of the model in torch\n",
    "\n",
    "        numpy_vector = xkp1.detach().cpu().numpy().reshape(N_m,1)\n",
    "        x_ML=numpy_vector                             # This is the alpha that has both v and theta\n",
    "        vmax=find_logvmax(x_ML[:N_m_v])       # This is the maximum of v\n",
    "\n",
    "        x_input_dt_ML=x_ML[:N_m_v]                 # This is the input for the dt model (except vmax)\n",
    "        x_input_dt_ML=np.append(x_input_dt_ML,vmax.detach().cpu().numpy())         # This is the input for the dt model\n",
    "        x_input_dt_ML=torch.tensor(x_input_dt_ML, dtype=torch.float32) # This is the input for the dt model\n",
    "        x_input_dt_ML=x_input_dt_ML.to(device)\n",
    "        dt_pred=modeldt(x_input_dt_ML)                      # This is the prediction for the time step\n",
    "        dt_pred=10 ** dt_pred.detach().cpu().double().numpy().astype(np.float64)    # This is the prediction for the time step\n",
    "        time=np.append(time,dt_pred+time[-1])                        # This is the time vector\n",
    "        forecast = np.hstack([forecast, numpy_vector])      # This is the forecasted alpha (not scaled though)\n",
    "        xk=xkp1\n",
    "    \n",
    "    # applying linear interpolation to find forecast at time dt, using only the last two points\n",
    "    f2 = interp1d([time[-2],time[-1]], forecast[:,-2:],axis=1)\n",
    "    alpha_kp1=f2(dt).reshape(N_m,1)\n",
    "    # Removing the last coulmn of forecast becasue it is for the time when t > dt\n",
    "    forecast=forecast[:,:-1]\n",
    "    time[-1]=dt\n",
    "    # Then appending it to the forecast\n",
    "    forecast = np.concatenate((forecast, alpha_kp1),axis=1)\n",
    "    return forecast,time\n"
   ]
  },
  {
   "cell_type": "markdown",
   "metadata": {},
   "source": [
    "# Find The Scaling and check if it makes sense"
   ]
  },
  {
   "cell_type": "code",
   "execution_count": 14,
   "metadata": {},
   "outputs": [],
   "source": [
    "# # This cell runs the program for up to time t_test\n",
    "t_test=200*24*3600*365\n",
    "t_test=100\n",
    "# t_test=10\n",
    "# size_x=256\n",
    "# size_y=32\n",
    "# size=U_v.shape[0]\n",
    "# specify random seed\n",
    "np.random.seed(0)\n",
    "alpha_k=xi_call(40,Lambda,1).T\n",
    "forecast,time=f(alpha_k,t_test,params_f)"
   ]
  },
  {
   "cell_type": "code",
   "execution_count": 15,
   "metadata": {},
   "outputs": [
    {
     "data": {
      "text/plain": [
       "(40, 19)"
      ]
     },
     "execution_count": 15,
     "metadata": {},
     "output_type": "execute_result"
    }
   ],
   "source": [
    "forecast.shape"
   ]
  },
  {
   "cell_type": "code",
   "execution_count": 16,
   "metadata": {},
   "outputs": [
    {
     "data": {
      "text/plain": [
       "[<matplotlib.lines.Line2D at 0x7f30f23cbf50>]"
      ]
     },
     "execution_count": 16,
     "metadata": {},
     "output_type": "execute_result"
    },
    {
     "data": {
      "image/png": "[encoded data removed]",
      "text/plain": [
       "<Figure size 640x480 with 1 Axes>"
      ]
     },
     "metadata": {},
     "output_type": "display_data"
    }
   ],
   "source": [
    "plt.plot(forecast[0,:])"
   ]
  },
  {
   "cell_type": "code",
   "execution_count": 17,
   "metadata": {},
   "outputs": [],
   "source": [
    "N_it=forecast.shape[1]"
   ]
  },
  {
   "cell_type": "code",
   "execution_count": 18,
   "metadata": {},
   "outputs": [],
   "source": [
    "delta_x=L/Nx"
   ]
  },
  {
   "cell_type": "code",
   "execution_count": 19,
   "metadata": {},
   "outputs": [],
   "source": [
    "def findscalingquantities(pdot,t,v,delta_x,V_event=1e-2): \n",
    "    flag_event=False\n",
    "    T1s=[] # this is the time of the start of events\n",
    "    T2s=[] # this is the time of the end of events\n",
    "    length_ruptures=[] # this is the length of the rupture\n",
    "    pots=[] # integral of pdot over the event duration\n",
    "\n",
    "    for i in range(v.shape[0]): # first dimension is time\n",
    "        if np.max(v[i,:])>V_event and flag_event==False:\n",
    "            start=i\n",
    "            T1s.append(t[i,0])\n",
    "            flag_event=True\n",
    "            print(i)\n",
    "        if np.max(v[i,:])<V_event and flag_event==True:\n",
    "            end=i\n",
    "            flag_event=False\n",
    "            T2s.append(t[i,0])\n",
    "            print(i)\n",
    "            # check from start to end for all elements of v[start,:] to v[end,:] which elements had v >v_event in one line, from this you can find the event extent\n",
    "            ruptured=np.where(v[start:end,:]>V_event,1,0)\n",
    "            # find the locations at which at least there is one element that is ruptured\n",
    "            ruptured=np.sum(ruptured,axis=0)\n",
    "            ruptured=(ruptured>0)\n",
    "            # summing number of ruptured elements\n",
    "            num_ruptured_elements=np.sum(ruptured)\n",
    "            # then the rupture length of this event is given by \n",
    "            length_rupture=num_ruptured_elements*delta_x\n",
    "            length_ruptures.append(length_rupture)\n",
    "            potency_of_event=integrate.cumtrapz(pdot[start:end],t[start:end,0])  \n",
    "            print(potency_of_event[-1])  \n",
    "            pots.append(potency_of_event[-1])\n",
    "    return  T1s,T2s,length_ruptures,pots"
   ]
  },
  {
   "cell_type": "code",
   "execution_count": 20,
   "metadata": {},
   "outputs": [],
   "source": [
    "def Gut(Mw,NpointsM=30):\n",
    "    CumNumber=np.array([])\n",
    "    c1=np.min(Mw)\n",
    "    c2=np.max(Mw)-.0001 # To remove log10(0) error\n",
    "    # print(c1)\n",
    "    # print(c2)\n",
    "    c=np.linspace(c1,c2,NpointsM)\n",
    "    # print(c)\n",
    "    for i in range(c.size):\n",
    "        CumNumber=np.append(CumNumber,(sum(j > c[i] for j in Mw)))\n",
    "    return c,CumNumber "
   ]
  },
  {
   "cell_type": "code",
   "execution_count": 21,
   "metadata": {},
   "outputs": [],
   "source": [
    "find_scaling=True\n",
    "size_x=U_v.shape[0]\n"
   ]
  },
  {
   "cell_type": "code",
   "execution_count": 22,
   "metadata": {},
   "outputs": [],
   "source": [
    "# V_ox_ROM=np.empty((N_it+1,size_x))\n",
    "# t_ox_ROM=np.ones((N_it+1,size_x))\n",
    "# vmax=[]\n",
    "# U_ROM=U_v[:,0:N_m_v]\n",
    "# for j in range(N_it):\n",
    "#     V_snapshot = U_ROM @ (forecast[:N_m_v,j]) + q_bar_v.reshape(size_x,)\n",
    "#     vmax.append(np.max(V_snapshot))\n",
    "#     V_ox_ROM[j,:]=10**(V_snapshot)\n",
    "#     t_ox_ROM[j,:]=time[j]*np.ones((1,size_x))\n",
    "# if find_scaling:    \n",
    "#     pdot=np.sum(V_ox_ROM,axis=1)*delta_x\n",
    "\n",
    "#     T1s_ROM,T2s_ROM,length_ruptures_ROM,pots_ROM=findscalingquantities(pdot,t_ox_ROM,V_ox_ROM,delta_x,V_event=1e-3)\n",
    "#     T1s_ROM=np.array(T1s_ROM)\n",
    "#     T2s_ROM=np.array(T2s_ROM)\n",
    "#     length_ruptures_ROM=np.array(length_ruptures_ROM)\n",
    "#     pots_ROM=np.array(pots_ROM)\n",
    "#     moment_ROM=mu*pots_ROM\n",
    "#     log_10_moment_events_ROM=np.log10(moment_ROM)\n",
    "#     mags_ROM,cumN_ROM=Gut(log_10_moment_events_ROM)\n",
    "#     # if len(T2s_ROM) == len(T1s_ROM) - 1:\n",
    "    \n",
    "#     #     T1s_ROM = T1s_ROM[:-1]\n"
   ]
  },
  {
   "cell_type": "code",
   "execution_count": 23,
   "metadata": {},
   "outputs": [
    {
     "name": "stdout",
     "output_type": "stream",
     "text": [
      "3.1688955410344087e-06\n"
     ]
    }
   ],
   "source": [
    "T_final_ROM=time[-1]/cte.t_yr\n",
    "print(T_final_ROM)"
   ]
  },
  {
   "cell_type": "code",
   "execution_count": 24,
   "metadata": {},
   "outputs": [],
   "source": [
    "# # make a figure with\n",
    "# plt.rcParams.update({\n",
    "#     'font.family': 'serif',\n",
    "#     'font.serif': ['Times New Roman'],\n",
    "#     'text.usetex': True,  # If you want to use LaTeX for rendering text\n",
    "# })\n",
    "# fig, axs = plt.subplots(1, 3, figsize=(8, 3))\n",
    "\n",
    "# plt.rcParams.update({'font.family': 'serif', 'font.serif': 'Times New Roman','font.size': 8})\n",
    "\n",
    "# axs[0].plot(mags_ROM, cumN_ROM/T_final_ROM, '.',color='blue',label='ROM',marker='+')\n",
    "# # axs[0].plot(mags, cumN/(number_to_load*T_final_run), '.', color='black',label=\"ROM\")\n",
    "# axs[0].set_yscale(\"log\")\n",
    "# # plotting in loglog scale the length of events in y axis and moment in x axis\n",
    "\n",
    "# axs[1].plot(moment_ROM, T2s_ROM-T1s_ROM ,  '.', color='blue',label=\"ROM\",marker=\"+\")\n",
    "# # axs[1].plot(moment_events, T2s_all-T1s_all ,  '.', color='black',label='PDE')\n",
    "\n",
    "# axs[1].set_xscale('log')\n",
    "# axs[1].set_yscale('log')\n",
    "# axs[1].set_xlabel(r\"$\\mu \\int_{t_{start}}^{t_{end}} \\int_{A_{event}} v dz dt$\")\n",
    "# axs[1].set_ylabel(r\"$t_{end}-t_{start}$ $(s)$\")\n",
    "\n",
    "# axs[2].plot(moment_ROM, length_ruptures_ROM ,  '.', color='blue',label=\"ROM\",marker=\"+\")\n",
    "# # axs[2].plot(moment_events, length_ruptures_all , '.', color='black',label=\"PDE\")\n",
    "\n",
    "# axs[2].set_xscale('log')\n",
    "# axs[2].set_yscale('log')\n",
    "# axs[2].set_xlabel(r\"$\\mu \\int_{t_{start}}^{t_{end}} \\int_{A_{event}} v dz dt$\")\n",
    "# axs[2].set_ylabel(r\"$A_{event}$ ($m^2$)\")\n",
    "# plt.tight_layout()\n",
    "# plt.title(\"dissipate with: \"+\n",
    "# str(lambda_dissipation))\n",
    "# #\n",
    "# # plt.savefig(\"dissipate with: \"+str(lambda_dissipation)+\"rho\"+str(rho)+\".png\")"
   ]
  },
  {
   "cell_type": "markdown",
   "metadata": {},
   "source": [
    "so far, we have I have written the code to find the ROM and the scaling that I get is reasonable close to the original scaling\n",
    "\n",
    "\n",
    "\n",
    "To do:\n",
    "* find the model noise"
   ]
  },
  {
   "cell_type": "code",
   "execution_count": 25,
   "metadata": {},
   "outputs": [
    {
     "name": "stdout",
     "output_type": "stream",
     "text": [
      "[0.55098855 0.27171977 0.17654795 0.08932769 0.03753948 0.12318173\n",
      " 0.03773844 0.02274779 0.0165304  0.0470226  0.03379696 0.02129202\n",
      " 0.00934021 0.02172195 0.00878158 0.00596367 0.00301582 0.0136998\n",
      " 0.00480487 0.00888292 0.29593523 0.23143733 0.13066449 0.07641905\n",
      " 0.02822715 0.0833861  0.04793173 0.00894015 0.01519566 0.0168177\n",
      " 0.01689157 0.01790479 0.01498624 0.00790753 0.00731855 0.00557153\n",
      " 0.00724113 0.00372885 0.00304018 0.00309683]\n",
      "[-5.92018016e-03  2.99556260e-03 -4.47690080e-03  2.69892099e-03\n",
      " -2.14500223e-04 -1.14791892e-03  1.71699851e-03 -1.12158897e-03\n",
      " -8.34821189e-04  2.08817864e-03 -1.57633172e-03  1.24389320e-03\n",
      "  1.30249988e-04 -8.52612893e-04  2.03290893e-04  1.21356814e-04\n",
      " -3.68453257e-04 -4.62582555e-04  5.85293030e-04  8.50010230e-04\n",
      " -3.27336465e-03 -2.85065200e-03 -4.06763045e-03 -2.99049909e-03\n",
      " -1.04069837e-03 -1.41527014e-03 -2.28649931e-03  3.00665225e-04\n",
      "  6.03144414e-04 -4.59634918e-04 -1.00346910e-03 -1.16575039e-03\n",
      "  9.36718207e-04  3.43861399e-04 -8.71071217e-04  2.33070506e-05\n",
      "  1.26439184e-04 -2.24198181e-04 -5.30942714e-04  5.79200627e-05]\n",
      "(40, 40)\n"
     ]
    }
   ],
   "source": [
    "# loading the model noise:\n",
    "data_noise=np.load(\"/central/groups/Avouac_lab/hkaveh/Data/LearnROM/2D/ML_EQ_Errors_N_m_v\"+str(N_m_v)+\"N_m_theta\"+str(N_m_theta)+\"version\"+str(version)+\".npz\")\n",
    "# find the mean and std of the error along the columns\n",
    "Errors=data_noise['Errors'] # Errors is a matrix of size (N_m_v+N_m_theta,N_it)\n",
    "mean_error=np.mean(Errors,axis=0)\n",
    "cov_matrix = np.cov(Errors-mean_error, rowvar=False)\n",
    "cov_matrix=cov_matrix*inflation\n",
    "diag_cov_matrix=np.diag(cov_matrix)\n",
    "# Create a diagonal matrix with the diagonal elements of the covariance matrix\n",
    "print(diag_cov_matrix)\n",
    "print(mean_error)\n",
    "print(cov_matrix.shape)"
   ]
  },
  {
   "cell_type": "code",
   "execution_count": null,
   "metadata": {},
   "outputs": [],
   "source": []
  },
  {
   "cell_type": "markdown",
   "metadata": {},
   "source": [
    "# Observation model"
   ]
  },
  {
   "cell_type": "code",
   "execution_count": 26,
   "metadata": {},
   "outputs": [],
   "source": [
    "U_ROM=U_v[:,0:N_m_v]\n",
    "vpl=50e-3/cte_eq.t_yr     # Plate velocity\n",
    "Obs_nonlinear_params=[U_ROM,q_bar_v,N_m_v,size_x,sigma_x,vpl]\n",
    "\n",
    "def Obs_operator_linear(alpha):\n",
    "\n",
    "    return alpha[:N_m_v].reshape(-1,1)\n",
    "\n",
    "def Obs_operator_nonlinear(alpha,Obs_nonlinear_params):\n",
    "    # this function takes alpha as input, finds slip rate from alpha, applies the gaussian kernel, then project the log10 of the slip rate again, and then finds observation. All of the steps are written in the paper so dont worry about it.\n",
    "    U_ROM=Obs_nonlinear_params[0]\n",
    "    q_bar_v=Obs_nonlinear_params[1]\n",
    "    N_m_v=Obs_nonlinear_params[2]\n",
    "    size_x=Obs_nonlinear_params[3]\n",
    "    sigma_x=Obs_nonlinear_params[4]\n",
    "    vpl=Obs_nonlinear_params[5]\n",
    "    # finding v from alphas:\n",
    "    \n",
    "\n",
    "    V_snapshot1 = U_ROM @ (alpha[:N_m_v]) + q_bar_v.reshape(size_x,)\n",
    "    V_snapshot2 = 10**(V_snapshot1)\n",
    "    # Apply gaussian filter here:\n",
    "    V_snapshot4 = scipy.ndimage.gaussian_filter(V_snapshot2, sigma=(sigma_x),mode='constant',cval=(vpl))\n",
    "    \n",
    "    V_snapshot_back1=np.log10(V_snapshot4)\n",
    "    V_snapshot_back2=V_snapshot_back1.reshape(size_x,)\n",
    "    alpha_v=U_ROM.T @ (V_snapshot_back2-q_bar_v.reshape(size_x,))\n",
    "\n",
    "    return alpha_v.reshape(-1,1)\n"
   ]
  },
  {
   "cell_type": "code",
   "execution_count": null,
   "metadata": {},
   "outputs": [],
   "source": []
  },
  {
   "cell_type": "code",
   "execution_count": 27,
   "metadata": {},
   "outputs": [],
   "source": [
    "# This piece of code is written to load a simuulation in data the output of this block is V_ox,theta_ox,t_ox. We project them onto the first POD modes. and then extract the time series and name them A. We also remove some of the data to remove the transient response in it.\n",
    "\n",
    "## defining the quantities for loading the data:\n",
    "\n",
    "T_final_run = 350 # each initial condition is simulated for 250 years\n",
    "Nt=5     # it is recorded every Nt time stes\n",
    "N_m_v=20 # number of modes that they have considered\n",
    "N_m_theta=20 # number of modes that they have considered\n",
    "coeff=1 # How the inital conditions are from the chaotic attractor\n",
    "number=104 # Which one do you want to load\n",
    "N_m_load=30\n",
    "X_full=np.empty((1,N_m_load*2))\n",
    "L=240e3\n",
    "filter_ratio = 0.2\n",
    "## \n",
    "# loading raw data\n",
    "data_dir='/central/groups/Avouac_lab/hkaveh/Data/LearnROM/2D/SampleSimulation_Tf_2D'+str(T_final_run)+\"Nt=\"+str(cte_eq.Ntout)+\"N_m\"+str(N_m_load)+\"coeff\"+str(coeff)+\"number\"+str(number)+\".npz\"\n",
    "data_smaple=np.load(data_dir)\n",
    "V_ox=data_smaple['array1']\n",
    "theta_ox=data_smaple['array2']\n",
    "t_ox=data_smaple['array3']\n",
    "\n",
    "# preprocessing \n",
    "t=t_ox[:,0].reshape(-1,1)\n",
    "V_ox=np.log10(V_ox)\n",
    "theta_ox=np.log10(theta_ox)\n",
    "A_v,P_v=find_Aisv2_onlyv(U_v,V_ox,q_bar_v,N_m_load) # you dont need P in general, but I need it to check if I do everything correctly\n",
    "A_theta,P_theta=find_Aisv2_onlyv(U_theta,theta_ox,q_bar_theta,N_m_load)\n",
    "# concatenating the two arrays\n",
    "A=np.concatenate((A_v,A_theta),axis=1)\n",
    "Start_index=int(V_ox.shape[0]*filter_ratio)\n",
    "A_filtered=A[Start_index:,:] # with removig the first 20 percent of the data to remove the transient\n",
    "time_nonuniform=t[Start_index:,:]\n",
    "\n",
    "index_delete=np.array([])\n",
    "if N_m_v<N_m_load:\n",
    "    index_delete=np.append(index_delete,np.arange(N_m_v,N_m_load))\n",
    "if N_m_theta<N_m_load:\n",
    "    index_delete=np.append(index_delete,np.arange(N_m_load+N_m_theta,2*N_m_load))\n",
    "\n",
    "index_delete = index_delete.astype(int) # Convert the array elements to integers\n",
    "A_filtered=np.delete(A_filtered,index_delete,axis=1)\n",
    "t_0=time_nonuniform[0]\n",
    "t_end=time_nonuniform[-1]\n",
    "\n"
   ]
  },
  {
   "cell_type": "code",
   "execution_count": 28,
   "metadata": {},
   "outputs": [
    {
     "data": {
      "text/plain": [
       "[<matplotlib.lines.Line2D at 0x7f30aa69be50>]"
      ]
     },
     "execution_count": 28,
     "metadata": {},
     "output_type": "execute_result"
    },
    {
     "data": {
      "image/png": "[encoded data removed]",
      "text/plain": [
       "<Figure size 640x480 with 1 Axes>"
      ]
     },
     "metadata": {},
     "output_type": "display_data"
    }
   ],
   "source": [
    "plt.plot(A_filtered[:,0])"
   ]
  },
  {
   "cell_type": "code",
   "execution_count": 29,
   "metadata": {},
   "outputs": [
    {
     "data": {
      "text/plain": [
       "(7388, 40)"
      ]
     },
     "execution_count": 29,
     "metadata": {},
     "output_type": "execute_result"
    }
   ],
   "source": [
    "A_filtered.shape"
   ]
  },
  {
   "cell_type": "code",
   "execution_count": 30,
   "metadata": {},
   "outputs": [
    {
     "data": {
      "text/plain": [
       "Text(0.5, 1.0, 'Low resolution data vs high resolution')"
      ]
     },
     "execution_count": 30,
     "metadata": {},
     "output_type": "execute_result"
    },
    {
     "data": {
      "image/png": "[encoded data removed]",
      "text/plain": [
       "<Figure size 640x480 with 1 Axes>"
      ]
     },
     "metadata": {},
     "output_type": "display_data"
    },
    {
     "data": {
      "image/png": "[encoded data removed]",
      "text/plain": [
       "<Figure size 640x480 with 1 Axes>"
      ]
     },
     "metadata": {},
     "output_type": "display_data"
    }
   ],
   "source": [
    "# This is a code to see the effect of resolution reduction\n",
    "# check point1\n",
    "# Study the effect of low resolution\n",
    "plt.figure()\n",
    "V_snapshot4 = scipy.ndimage.gaussian_filter(V_ox[0,:], sigma=(sigma_x),mode='constant',cval=(vpl))\n",
    "plt.plot(V_ox[0,:])\n",
    "plt.plot(V_snapshot4)\n",
    "# checkpoint 2\n",
    "# see the effect of function\n",
    "index=3000\n",
    "V_snapshot_clean=(U_ROM @ (A_filtered[index,:N_m_v])).reshape(size_x,) + q_bar_v.reshape(size_x,)\n",
    "alpha_output_test=Obs_operator_nonlinear(A_filtered[index,:],Obs_nonlinear_params)\n",
    "V_snapshot1 = (U_ROM @ (alpha_output_test)).reshape(size_x,) + q_bar_v.reshape(size_x,)\n",
    "plt.figure()\n",
    "plt.plot(V_snapshot_clean)\n",
    "plt.plot(V_snapshot1)\n",
    "plt.title(\"Low resolution data vs high resolution\")"
   ]
  },
  {
   "cell_type": "code",
   "execution_count": 42,
   "metadata": {},
   "outputs": [],
   "source": [
    "# make uniform time steps with dt strating from t_0\n",
    "N_data=410000 # this was 5000 for SSEs and it took a long time.\n",
    "\n",
    "time_uniform=np.linspace(t_0,t_0+N_data*dt,N_data)\n",
    "time_uniform.shape\n",
    "X_uniform=np.empty((N_data,A_filtered.shape[1]))\n",
    "y_obs=np.empty((N_data,N_m_v))\n",
    "\n",
    "for i in range(A_filtered.shape[1]):\n",
    "    X_uniform[:,i]=np.interp(time_uniform,time_nonuniform[:,0],A_filtered[:,i]).reshape(-1)\n",
    "\n",
    "if Obs_linear==1:\n",
    "    y_obs=X_uniform[:,:N_m_v]+eta_call(Gamma,gamma_ratio,N_data).T\n",
    "else:\n",
    "    for i in range(N_data):\n",
    "        y_obs[i,:]=Obs_operator_nonlinear(X_uniform[i,:],Obs_nonlinear_params).reshape(-1)+eta_call(Gamma,gamma_ratio,1).reshape(-1)\n",
    "y_obs=y_obs.T"
   ]
  },
  {
   "cell_type": "code",
   "execution_count": null,
   "metadata": {},
   "outputs": [],
   "source": []
  },
  {
   "cell_type": "code",
   "execution_count": 46,
   "metadata": {},
   "outputs": [
    {
     "data": {
      "text/plain": [
       "[<matplotlib.lines.Line2D at 0x7f30aa4276d0>]"
      ]
     },
     "execution_count": 46,
     "metadata": {},
     "output_type": "execute_result"
    },
    {
     "data": {
      "image/png": "[encoded data removed]",
      "text/plain": [
       "<Figure size 640x480 with 1 Axes>"
      ]
     },
     "metadata": {},
     "output_type": "display_data"
    }
   ],
   "source": [
    "# Checking interpolation\n",
    "index_component_to_show=19\n",
    "plt.plot(time_uniform/24/3600/365,y_obs[index_component_to_show,:],label='Obs Uniform',color='r',linestyle='None',marker='o',markersize=2)\n",
    "# plot with no line only with marker:\n",
    "plt.plot(time_nonuniform/24/3600/365,A_filtered[:,index_component_to_show],label='Non-uniform',color='b',linestyle='None',marker='o',markersize=2)\n",
    "# plt.xlim([150,180])\n"
   ]
  },
  {
   "cell_type": "code",
   "execution_count": 33,
   "metadata": {},
   "outputs": [],
   "source": [
    "H=np.append(np.eye(N_m_v,N_m_v),np.zeros((N_m_v,N_m_theta)),axis=1)"
   ]
  },
  {
   "cell_type": "code",
   "execution_count": 34,
   "metadata": {},
   "outputs": [],
   "source": [
    "np.random.seed(0)"
   ]
  },
  {
   "cell_type": "code",
   "execution_count": 35,
   "metadata": {},
   "outputs": [
    {
     "name": "stdout",
     "output_type": "stream",
     "text": [
      "0\n",
      "0\n",
      "1\n",
      "2\n",
      "3\n",
      "4\n",
      "5\n",
      "6\n",
      "7\n",
      "8\n",
      "9\n",
      "10\n",
      "11\n",
      "12\n",
      "13\n",
      "14\n",
      "15\n",
      "16\n",
      "17\n",
      "18\n",
      "19\n",
      "20\n",
      "21\n",
      "22\n",
      "23\n",
      "24\n",
      "25\n",
      "26\n",
      "27\n",
      "28\n",
      "29\n",
      "30\n",
      "31\n",
      "32\n",
      "33\n",
      "34\n",
      "35\n",
      "36\n",
      "37\n",
      "38\n",
      "39\n",
      "40\n",
      "41\n",
      "42\n",
      "43\n",
      "44\n",
      "45\n",
      "46\n",
      "47\n",
      "48\n",
      "49\n",
      "50\n",
      "51\n",
      "52\n",
      "53\n",
      "54\n",
      "55\n",
      "56\n",
      "57\n",
      "58\n",
      "59\n",
      "60\n",
      "61\n",
      "62\n",
      "63\n",
      "64\n",
      "65\n",
      "66\n",
      "67\n",
      "68\n",
      "69\n",
      "70\n",
      "71\n",
      "72\n",
      "73\n",
      "74\n",
      "75\n",
      "76\n",
      "77\n",
      "78\n",
      "79\n",
      "1\n",
      "0\n",
      "1\n",
      "2\n",
      "3\n",
      "4\n",
      "5\n",
      "6\n",
      "7\n",
      "8\n",
      "9\n",
      "10\n",
      "11\n",
      "12\n",
      "13\n",
      "14\n",
      "15\n",
      "16\n",
      "17\n",
      "18\n",
      "19\n",
      "20\n",
      "21\n",
      "22\n",
      "23\n",
      "24\n",
      "25\n",
      "26\n",
      "27\n",
      "28\n",
      "29\n",
      "30\n",
      "31\n",
      "32\n",
      "33\n",
      "34\n",
      "35\n",
      "36\n",
      "37\n",
      "38\n",
      "39\n",
      "40\n",
      "41\n",
      "42\n",
      "43\n",
      "44\n",
      "45\n",
      "46\n",
      "47\n",
      "48\n",
      "49\n",
      "50\n",
      "51\n",
      "52\n",
      "53\n",
      "54\n",
      "55\n",
      "56\n",
      "57\n",
      "58\n",
      "59\n",
      "60\n",
      "61\n",
      "62\n",
      "63\n",
      "64\n",
      "65\n",
      "66\n",
      "67\n",
      "68\n",
      "69\n",
      "70\n",
      "71\n",
      "72\n",
      "73\n",
      "74\n",
      "75\n",
      "76\n",
      "77\n",
      "78\n",
      "79\n"
     ]
    }
   ],
   "source": [
    "# applying EnKF,\n",
    "# The forward model is f and the observation operator is Obs_operator_linear\n",
    "# The observation operator is linear and it is the first N_m_v components of the state\n",
    "# start from m random initial conditions:\n",
    "m=80\n",
    "\n",
    "N_t=400000 # number of time units\n",
    "N_m=N_m_v+N_m_theta\n",
    "alpha_f=np.empty((N_m,m,N_t))\n",
    "alpha_a=np.empty((N_m,m,N_t))\n",
    "# specifying random seed\n",
    "np.random.seed(1)\n",
    "alpha_a[:,:,0]=xi_call(N_m,Lambda,m) # initial conditions, every column is an ensemble member, The first analysis is the initial condition and is randomly selected based on the PDF of the chaotic attractor\n",
    "Innovations=np.empty((N_m_v,m,N_t))\n",
    "Obs_an=np.empty((N_m_v,m,N_t))      # Observation anomaly \n",
    "Obs=np.empty((N_m_v,m,N_t))         # Observation\n",
    "for k in range(N_t-1):\n",
    "    # print(k)\n",
    "    # forecast step:\n",
    "    for i in range(m):\n",
    "        # print(i)\n",
    "        alpha_f[:,i,k+1]=f(alpha_a[:,i,k],dt,params_f)[0][:,-1] + xi_call(N_m,cov_matrix,1).reshape(N_m,) # this is the forecast ,[0] is to not consider time and -1 is to take the last time step\n",
    "    # finding Kalman gain:\n",
    "    alpha_bar=np.mean(alpha_f[:,:,k+1],axis=1).reshape(N_m,1) # this is the mean of the forecast with adding one dimension\n",
    "    # anomaly matrix:\n",
    "    A_f=(alpha_f[:,:,k+1]-alpha_bar)/np.sqrt(m-1)\n",
    "    # covariance matrix of the forecast:\n",
    "    P_f=np.dot(A_f,A_f.T)\n",
    "    # Kalman gain:\n",
    "    if Obs_linear==1:\n",
    "        K=scipy.linalg.solve(np.dot(H,np.dot(P_f,H.T))+gamma_ratio*Gamma,np.dot(H,P_f)).T\n",
    "        # analysis step:\n",
    "        for i in range(m):\n",
    "            alpha_a[:,i,k+1]=alpha_f[:,i,k+1]+np.matmul(K,y_obs[:,k+1].reshape(-1,1)-Obs_operator_linear(alpha_f[:,i,k+1])).reshape(N_m,)\n",
    "            Innovations[:,i,k+1]=y_obs[:,k+1]-Obs_operator_linear(alpha_f[:,i,k+1]).reshape(-1)\n",
    "    else:\n",
    "        # finding the observation anomaly matrix:\n",
    "        for i in range(m):\n",
    "            Obs[:,i,k+1]=Obs_operator_nonlinear(alpha_f[:,i,k+1],Obs_nonlinear_params).reshape(N_m_v,) # h(\\alpha^{f,i}) in the paper\n",
    "        \n",
    "        etas=eta_call(Gamma,gamma_ratio,m) # This function makes noise with shape N_m_v* m, each column is one noise for one ensemble member\n",
    "        mean_obs=np.mean(Obs[:,:,k+1],axis=1) # this is the mean of the observation (denoted by \\bar z in Jeff's paper) or \\bar y^f in my paper, has the shape (N_m_v,)\n",
    "        mean_eta=np.mean(etas,axis=1) # this is the mean of the observation noise (denoted by \\bar v in Jeff's paper) or \\bar \\eta in my paper , has the shape (N_m_v,)\n",
    "\n",
    "        Obs_an[:,:,k+1]=(Obs[:,:,k+1]-mean_obs[:,np.newaxis]-etas+mean_eta[:,np.newaxis])/np.sqrt(m-1) # This is matrix Z i Jeff's paper or Y in my paper\n",
    "        # Finding Kalman gain:\n",
    "        K=scipy.linalg.solve(Obs_an[:,:,k+1]@Obs_an[:,:,k+1].T,Obs_an[:,:,k+1]@A_f.T).T       \n",
    "        # analysis step:\n",
    "        for i in range(m):\n",
    "            alpha_a[:,i,k+1]=alpha_f[:,i,k+1]+np.matmul(K,y_obs[:,k+1]-Obs[:,i,k+1])     \n",
    "            Innovations[:,i,k+1]=y_obs[:,k+1]-Obs[:,i,k+1]\n",
    "            \n",
    "        "
   ]
  },
  {
   "cell_type": "code",
   "execution_count": null,
   "metadata": {},
   "outputs": [],
   "source": [
    "time=np.linspace(0,N_t*dt,N_t)"
   ]
  },
  {
   "cell_type": "code",
   "execution_count": null,
   "metadata": {},
   "outputs": [],
   "source": [
    "mean_a=np.mean(alpha_a,axis=1)\n"
   ]
  },
  {
   "cell_type": "code",
   "execution_count": null,
   "metadata": {},
   "outputs": [],
   "source": [
    "for i in range(m):\n",
    "    plt.plot(time/3600/24,alpha_a[0,i,:],color='b',alpha=0.1)\n",
    "plt.plot(time/3600/24,y_obs[0,:N_t],label='Observation',color='r')\n",
    "plt.xlim([5,100])\n",
    "plt.ylim([0,50])"
   ]
  },
  {
   "cell_type": "code",
   "execution_count": null,
   "metadata": {},
   "outputs": [],
   "source": [
    "# plotting the time series of innovations\n",
    "for i in range(m):\n",
    "    plt.plot(time/3600/24,Innovations[0,i,:],color='b',alpha=0.1)\n",
    "plt.xlim([5,100])\n",
    "plt.ylim([-50,50])"
   ]
  },
  {
   "cell_type": "code",
   "execution_count": null,
   "metadata": {},
   "outputs": [],
   "source": []
  },
  {
   "cell_type": "code",
   "execution_count": null,
   "metadata": {},
   "outputs": [],
   "source": [
    "# Postprocessing and plotting the the behavior of the EnKF\n",
    "# One natural figure to think of is plotting the first four dims of observation and the first four dims of the EnKF for all members\n",
    "plt.rcParams.update({\n",
    "    'font.family': 'serif',\n",
    "    'font.serif': ['Times New Roman'],\n",
    "    'text.usetex': True,  # If you want to use LaTeX for rendering text\n",
    "})\n",
    "\n",
    "fig, axs = plt.subplots(10, 1, figsize=(3.8, 14))\n",
    "# adjust the font size for anything in this figure\n",
    "\n",
    "# Flatten the axs array so that we can iterate over it easily\n",
    "axs = axs.flatten()\n",
    "plt.rcParams.update({'font.family': 'serif', 'font.serif': 'Times New Roman','font.size': 8})\n",
    "\n",
    "# Plot the KDE plot for each column of X_full\n",
    "for i in range(10):\n",
    "    for j in range(m-1):\n",
    "        axs[i].plot(time/3600/24/365,alpha_a[i,j,:],color='b',alpha=0.1)\n",
    "    axs[i].plot(time/3600/24/365,alpha_a[i,-1,:],color='b',alpha=0.1,label='Ensemble Members')\n",
    "    axs[i].plot(time/3600/24/365,y_obs[i,:N_t],label='Observation',color='r')\n",
    "    axs[i].plot(time/3600/24/365,X_uniform[:N_t,i],label='True State',color='k')\n",
    "    axs[i].set_title(r'$\\alpha^v_{{{}}}$'.format(i+1))\n",
    "    axs[i].set_xlim(left=0)\n",
    "    axs[i].legend(ncol=2)\n",
    "    axs[i].set_xlabel('Time (years)')\n",
    "    leg = axs[i].legend()\n",
    "    for lh in leg.legendHandles:\n",
    "          lh.set_alpha(1)\n",
    "    \n",
    "# Adjust layout and show plot\n",
    "plt.tight_layout()\n",
    "plt.show()\n",
    "# save the figure in the central directory\n",
    "#fig.savefig(\"/central/groups/astuart/hkaveh/Figs/ROM/draft_EnKF_vel\"+\"4.pdf\", bbox_inches='tight')\n"
   ]
  },
  {
   "cell_type": "code",
   "execution_count": null,
   "metadata": {},
   "outputs": [],
   "source": [
    "# Postprocessing and plotting the the behavior of the EnKF\n",
    "# One natural figure to think of is plotting the first four dims of observation and the first four dims of the EnKF for all members\n",
    "theta_data=X_uniform[:,N_m_v:].T\n",
    "fig, axs = plt.subplots(10, 1, figsize=(3.8, 14))\n",
    "\n",
    "# Flatten the axs array so that we can iterate over it easily\n",
    "axs = axs.flatten()\n",
    "\n",
    "# Plot the KDE plot for each column of X_full\n",
    "for i in range(10):\n",
    "    for j in range(m-1):\n",
    "        axs[i].plot(time/3600/24/365,alpha_a[i+N_m_v,j,:],color='b',alpha=0.1)\n",
    "    axs[i].plot(time/3600/24/365,alpha_a[i+N_m_v,-1,:],color='b',alpha=0.1,label='Ensemble Members')\n",
    "    axs[i].plot(time/3600/24/365,theta_data[i,:N_t],label='Non-Observable state',color='r')\n",
    "    axs[i].set_title(r'$\\alpha^\\theta_{{{}}}$'.format(i+1))\n",
    "    axs[i].set_xlim(left=0)\n",
    "    axs[i].legend(ncol=2)\n",
    "    axs[i].set_xlabel('Time (years)')\n",
    "    leg = axs[i].legend()\n",
    "    for lh in leg.legendHandles:\n",
    "          lh.set_alpha(1)\n",
    "\n",
    "# Adjust layout and show plot\n",
    "plt.tight_layout()\n",
    "plt.show()\n",
    "# save the figure in the central directory\n",
    "#fig.savefig(\"/central/groups/astuart/hkaveh/Figs/ROM/draft_EnKF_theta\"+\"4.pdf\", bbox_inches='tight')\n",
    "\n",
    " \n"
   ]
  },
  {
   "cell_type": "code",
   "execution_count": null,
   "metadata": {},
   "outputs": [],
   "source": [
    "np.savez(\"/central/groups/Avouac_lab/hkaveh/Data/LearnROM/2D/EnKF_N_m_v\"+str(N_m_v)+\"N_m_theta\"+str(N_m_theta)+\"Obs_linear\"+str(Obs_linear)+\"N_t\"+str(N_t)+\"m\"+str(m)+\"sigma_kernel\"+str(sigma_kernel)+\"gamma_ratio\"+str(gamma_ratio)+\"version\"+str(version)+\"NumberinDataset\"+str(number),alpha_a=alpha_a,alpha_f=alpha_f,Innovations=Innovations,time=time,y_obs=y_obs[:,:N_t],X_uniform=X_uniform[:N_t,:],t_0=t_0,number=number)\n"
   ]
  }
 ],
 "metadata": {
  "kernelspec": {
   "display_name": "learnmodel",
   "language": "python",
   "name": "python3"
  },
  "language_info": {
   "codemirror_mode": {
    "name": "ipython",
    "version": 3
   },
   "file_extension": ".py",
   "mimetype": "text/x-python",
   "name": "python",
   "nbconvert_exporter": "python",
   "pygments_lexer": "ipython3",
   "version": "3.7.12"
  }
 },
 "nbformat": 4,
 "nbformat_minor": 2
}
