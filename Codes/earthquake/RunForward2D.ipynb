{
 "cells": [
  {
   "cell_type": "markdown",
   "metadata": {},
   "source": [
    "This is a long simulation to save the output, run POD and save eigenmodes.\n"
   ]
  },
  {
   "cell_type": "code",
   "execution_count": null,
   "metadata": {},
   "outputs": [],
   "source": [
    "from Forward2d import forwardmodel\n",
    "import cte_eq\n",
    "import pickle\n",
    "import numpy as np\n",
    "import sys\n",
    "sys.path.append('./..')\n",
    "import ProcessFunctions\n",
    "import matplotlib.pyplot as plt"
   ]
  },
  {
   "cell_type": "code",
   "execution_count": null,
   "metadata": {},
   "outputs": [],
   "source": [
    "drs=0.012\n",
    "T_final=1e5\n",
    "Specifyinit=False\n",
    "u_init=0\n",
    "T_filter=500 # remove T_filter years before applying the POD\n",
    "downsampleratio=1 # not downsampling anything\n",
    "Nxout=cte_eq.Nxout\n",
    "Ntout=cte_eq.Ntout\n",
    "p=forwardmodel(T_final,cte_eq.Ntout,cte_eq.Nxout,Specifyinit,u_init,drs)"
   ]
  },
  {
   "cell_type": "markdown",
   "metadata": {},
   "source": [
    "postprocessing:"
   ]
  },
  {
   "cell_type": "code",
   "execution_count": null,
   "metadata": {},
   "outputs": [],
   "source": [
    "direct='/central/groups/astuart/hkaveh/Data/LearnROM/transfer/2DSim_MainSimulation_Tf'+str(T_final)+\"Nx=\"+str(Nxout)+\"Nt=\"+str(Ntout)+'drs'+str(drs)+\".npz\"\n",
    "v=p.ox[\"v\"]\n",
    "theta=p.ox[\"theta\"]\n",
    "tau=p.ox[\"tau\"]\n",
    "slip=p.ox[\"slip\"]\n",
    "t=p.ox[\"t\"]\n",
    "a=p.mesh_dict[\"A\"]\n",
    "b=p.mesh_dict[\"B\"]\n",
    "dc=p.mesh_dict[\"DC\"]\n",
    "sigma=p.mesh_dict[\"SIGMA\"]\n",
    "np.savez(direct,v=v,theta=theta,tau=tau,slip=slip,t=t,a=a,b=b,dc=dc,sigma=sigma)\n"
   ]
  },
  {
   "cell_type": "code",
   "execution_count": null,
   "metadata": {},
   "outputs": [],
   "source": [
    "Nx=int(p.ox[\"x\"].unique().shape[0])\n",
    "N_snapshots=0 # is not going to be used in the function\n",
    "specify_N_snapshots=False"
   ]
  },
  {
   "cell_type": "code",
   "execution_count": null,
   "metadata": {},
   "outputs": [],
   "source": [
    "v=np.array(v)\n",
    "theta=np.array(theta)\n",
    "t=np.array(t)"
   ]
  },
  {
   "cell_type": "code",
   "execution_count": null,
   "metadata": {},
   "outputs": [],
   "source": [
    "v_or_theta=\"v\"\n",
    "U,S,VT,P_bar,Nx,V_ox_filtered,theta_ox_filtered,Nt2,t_ox_filtered=ProcessFunctions.ApplyPODV_2D(v,theta,t,Nx,T_filter,v_or_theta,downsampleratio,N_snapshots,specify_N_snapshots)\n",
    "direct1='/central/groups/astuart/hkaveh/Data/LearnROM/transfer/MainSimulation2D_Tf'+str(T_final)+\"Nt=\"+str(Ntout)+\"Nx=\"+str(Nxout)+'PODonlyonV'+'drs'+str(drs)\n",
    "np.savez_compressed(direct1+'.npz', U=U, S=S, VT=VT,q_bar=P_bar)\n",
    "v_or_theta=\"theta\"\n",
    "U,S,VT,P_bar,Nx,V_ox_filtered,theta_ox_filtered,Nt2,t_ox_filtered=ProcessFunctions.ApplyPODV_2D(v,theta,t,Nx,T_filter,v_or_theta,downsampleratio,N_snapshots,specify_N_snapshots)\n",
    "direct2='/central/groups/astuart/hkaveh/Data/LearnROM/transfer/MainSimulation2D_Tf'+str(T_final)+\"Nt=\"+str(Ntout)+\"Nx=\"+str(Nxout)+'PODonlyontheta'+'drs'+str(drs)\n",
    "np.savez_compressed(direct2+'.npz', U=U, S=S, VT=VT,q_bar=P_bar)    \n"
   ]
  },
  {
   "cell_type": "code",
   "execution_count": null,
   "metadata": {},
   "outputs": [],
   "source": [
    "\n",
    "Data_V=np.load(direct1+'.npz')\n",
    "Data_theta=np.load(direct2+'.npz')\n",
    "# Plotting the POD components for slip rate and state variable\n",
    "# making everything serif font\n",
    "# Set global font family to 'serif' and font size to 14\n",
    "plt.rcParams['font.family'] = 'serif'\n",
    "plt.rcParams['font.size'] = 8  # You can adjust this value as needed\n",
    "plt.rcParams['mathtext.fontset'] = 'dejavuserif'\n",
    "fig,axs=plt.subplots(3,1,figsize=(3.7,8))\n",
    "\n",
    "Nx=Data_V[\"U\"].shape[0]\n",
    "x_grid=np.linspace(-cte_eq.L/2,cte_eq.L/2,Nx)/1e3\n",
    "N_plot=4\n",
    "\n",
    "# # Plotting on axs[0] two lines with shared x axis but different y axis\n",
    "axs[0].plot(x_grid,Data_V[\"q_bar\"],color='black',label=r'$v$')\n",
    "# # make another plot with different y-axis using twinx:\n",
    "ax2=axs[0].twinx()\n",
    "ax2.plot(x_grid,Data_theta[\"q_bar\"],color='red',linestyle='--',label=r'$\\theta$')\n",
    "ax2.tick_params('y', colors='r')\n",
    "ax2.spines['right'].set_color('r')\n",
    "\n",
    "for i in range(3):\n",
    "    axs[i].set_xlabel('Distance along strike (km)')\n",
    "    axs[i].set_xlim(-cte_eq.L/2/1e3,cte_eq.L/2/1e3)\n",
    "axs[0].set_ylabel(r'$\\phi_0^v$')\n",
    "ax2.set_ylabel(r'$\\phi_0^\\theta$',color='red')\n",
    "axs[1].set_ylabel(r'$\\phi_i^v$')\n",
    "axs[2].set_ylabel(r'$\\phi_i^\\theta$')\n",
    "\n",
    "for i in range(N_plot):\n",
    "\n",
    "\n",
    "    axs[1].plot(x_grid,Data_V[\"U\"][:,i],label=\"$i={}$\".format(i+1))\n",
    "    axs[2].plot(x_grid,Data_theta[\"U\"][:,i],label=\"$i={}$\".format(i+1))\n",
    "axs[1].set_ylim(top=0.04)\n",
    "axs[2].set_ylim(top=0.04)\n",
    "axs[1].legend(ncol=4,frameon=False,fontsize=6)\n",
    "axs[2].legend(ncol=4,frameon=False,fontsize=6)\n",
    "axs[0].text(-100,-5.3,'(a)')\n",
    "axs[1].text(-100,0.042,'(b)')\n",
    "axs[2].text(-100,0.042,'(c)')\n",
    "plt.tight_layout()\n",
    "\n",
    "plt.savefig('/central/groups/astuart/hkaveh/Figs/ROM/Eq_PODcomponents.png',dpi=300)\n",
    "\n"
   ]
  },
  {
   "cell_type": "code",
   "execution_count": null,
   "metadata": {},
   "outputs": [],
   "source": []
  },
  {
   "cell_type": "code",
   "execution_count": null,
   "metadata": {},
   "outputs": [],
   "source": []
  },
  {
   "cell_type": "code",
   "execution_count": null,
   "metadata": {},
   "outputs": [],
   "source": []
  }
 ],
 "metadata": {
  "kernelspec": {
   "display_name": "learnmodel",
   "language": "python",
   "name": "python3"
  },
  "language_info": {
   "codemirror_mode": {
    "name": "ipython",
    "version": 3
   },
   "file_extension": ".py",
   "mimetype": "text/x-python",
   "name": "python",
   "nbconvert_exporter": "python",
   "pygments_lexer": "ipython3",
   "version": "3.7.12"
  }
 },
 "nbformat": 4,
 "nbformat_minor": 2
}
