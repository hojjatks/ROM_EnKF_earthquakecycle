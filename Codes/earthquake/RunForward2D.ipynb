{
 "cells": [
  {
   "cell_type": "code",
   "execution_count": null,
   "metadata": {},
   "outputs": [],
   "source": [
    "from Forward2d import forwardmodel\n",
    "import cte_eq\n",
    "import pickle\n",
    "import numpy as np\n",
    "import sys\n",
    "sys.path.append('./..')\n",
    "import ProcessFunctions\n",
    "import matplotlib.pyplot as plt\n",
    "import cte_eq\n"
   ]
  },
  {
   "cell_type": "code",
   "execution_count": null,
   "metadata": {},
   "outputs": [],
   "source": [
    "drs=0.012\n",
    "T_final=10500\n",
    "Specifyinit=False\n",
    "u_init=0\n",
    "T_filter=4500 # remove T_filter years before applying the POD\n",
    "downsampleratio=1 # not downsampling anything\n",
    "Nxout=cte_eq.Nxout\n",
    "Ntout=cte_eq.Ntout\n",
    "RunModel=False\n",
    "loaddata=True\n",
    "FindPOD=True\n",
    "PlotPOD=True\n",
    "FindNt=True"
   ]
  },
  {
   "cell_type": "code",
   "execution_count": null,
   "metadata": {},
   "outputs": [],
   "source": [
    "if RunModel==True:\n",
    "    p=forwardmodel(T_final,cte_eq.Ntout,cte_eq.Nxout,Specifyinit,u_init,drs)\n",
    "    direct='/central/groups/Avouac_lab/hkaveh/Data/LearnROM/2D/2DSim_MainSimulation_Tf'+str(T_final)+\"Nx=\"+str(Nxout)+\"Nt=\"+str(Ntout)+'drs'+str(drs)+\".npz\"\n",
    "    v=p.ox[\"v\"]\n",
    "    theta=p.ox[\"theta\"]\n",
    "    tau=p.ox[\"tau\"]\n",
    "    slip=p.ox[\"slip\"]\n",
    "    t=p.ox[\"t\"]\n",
    "    a=p.mesh_dict[\"A\"]\n",
    "    b=p.mesh_dict[\"B\"]\n",
    "    dc=p.mesh_dict[\"DC\"]\n",
    "    sigma=p.mesh_dict[\"SIGMA\"]\n",
    "    np.savez(direct,v=v,theta=theta,tau=tau,slip=slip,t=t,a=a,b=b,dc=dc,sigma=sigma)\n",
    "elif loaddata:\n",
    "    direct='/central/groups/Avouac_lab/hkaveh/Data/LearnROM/2D/2DSim_MainSimulation_Tf'+str(T_final)+\"Nx=\"+str(Nxout)+\"Nt=\"+str(Ntout)+'drs'+str(drs)+\".npz\"\n",
    "    data = np.load(direct)\n",
    "    v=data['v']\n",
    "    theta=data['theta']\n",
    "    t=data['t']\n",
    "    a=data['a']  \n",
    "    b=data['b']\n",
    "    dc=data['dc']\n",
    "    sigma=data['sigma']\n",
    "    v=np.array(v)\n",
    "    theta=np.array(theta)\n",
    "    t=np.array(t)"
   ]
  },
  {
   "cell_type": "code",
   "execution_count": null,
   "metadata": {},
   "outputs": [],
   "source": [
    "Nx=int(a.shape[0]//cte_eq.Nxout)\n",
    "N_snapshots=0 # is not going to be used in the function\n",
    "specify_N_snapshots=False\n"
   ]
  },
  {
   "cell_type": "code",
   "execution_count": null,
   "metadata": {},
   "outputs": [],
   "source": [
    "if FindNt:\n",
    "    v_or_theta=\"v\"\n",
    "    Nt=ProcessFunctions.FindNt(v,theta,t,Nx,T_filter,v_or_theta,downsampleratio,N_snapshots,specify_N_snapshots=True)\n",
    "    print(Nt)"
   ]
  },
  {
   "cell_type": "code",
   "execution_count": null,
   "metadata": {},
   "outputs": [],
   "source": [
    "if FindPOD==True:\n",
    "    v_or_theta=\"v\"\n",
    "    U,S,VT,P_bar,Nx,V_ox_filtered,theta_ox_filtered,Nt2,t_ox_filtered=ProcessFunctions.ApplyPODV_2D(v,theta,t,Nx,T_filter,v_or_theta,downsampleratio,N_snapshots,specify_N_snapshots)\n",
    "    direct1='/central/groups/Avouac_lab/hkaveh/Data/LearnROM/2D/MainSimulation2D_Tf'+str(T_final)+\"Nt=\"+str(Ntout)+\"Nx=\"+str(Nxout)+'PODonlyonV'+'drs'+str(drs)\n",
    "    np.savez_compressed(direct1+'.npz', U=U, S=S, VT=VT,q_bar=P_bar)\n",
    "    v_or_theta=\"theta\"\n",
    "    U,S,VT,P_bar,Nx,V_ox_filtered,theta_ox_filtered,Nt2,t_ox_filtered=ProcessFunctions.ApplyPODV_2D(v,theta,t,Nx,T_filter,v_or_theta,downsampleratio,N_snapshots,specify_N_snapshots)\n",
    "    direct2='/central/groups/Avouac_lab/hkaveh/Data/LearnROM/2D/MainSimulation2D_Tf'+str(T_final)+\"Nt=\"+str(Ntout)+\"Nx=\"+str(Nxout)+'PODonlyontheta'+'drs'+str(drs)\n",
    "    np.savez_compressed(direct2+'.npz', U=U, S=S, VT=VT,q_bar=P_bar)    \n",
    "else:\n",
    "    direct1='/central/groups/Avouac_lab/hkaveh/Data/LearnROM/2D/MainSimulation2D_Tf'+str(T_final)+\"Nt=\"+str(Ntout)+\"Nx=\"+str(Nxout)+'PODonlyonV'+'drs'+str(drs)\n",
    "    direct2='/central/groups/Avouac_lab/hkaveh/Data/LearnROM/2D/MainSimulation2D_Tf'+str(T_final)+\"Nt=\"+str(Ntout)+\"Nx=\"+str(Nxout)+'PODonlyontheta'+'drs'+str(drs)\n",
    "\n"
   ]
  },
  {
   "cell_type": "code",
   "execution_count": null,
   "metadata": {},
   "outputs": [],
   "source": [
    "if PlotPOD:\n",
    "    Data_V=np.load(direct1+'.npz')\n",
    "    Data_theta=np.load(direct2+'.npz')\n",
    "    # Plotting the POD components for slip rate and state variable\n",
    "    # making everything serif font\n",
    "    # Set global font family to 'serif' and font size to 14\n",
    "    plt.rcParams['font.family'] = 'serif'\n",
    "    plt.rcParams['font.size'] = 8  # You can adjust this value as needed\n",
    "    plt.rcParams['mathtext.fontset'] = 'dejavuserif'\n",
    "    fig,axs=plt.subplots(3,1,figsize=(3.7,8))\n",
    "\n",
    "    Nx=Data_V[\"U\"].shape[0]\n",
    "    x_grid=np.linspace(-cte_eq.L/2,cte_eq.L/2,Nx)/1e3\n",
    "    N_plot=4\n",
    "\n",
    "    # # Plotting on axs[0] two lines with shared x axis but different y axis\n",
    "    axs[0].plot(x_grid,Data_V[\"q_bar\"],color='black',label=r'$v$')\n",
    "    # # make another plot with different y-axis using twinx:\n",
    "    ax2=axs[0].twinx()\n",
    "    ax2.plot(x_grid,Data_theta[\"q_bar\"],color='red',linestyle='--',label=r'$\\theta$')\n",
    "    ax2.tick_params('y', colors='r')\n",
    "    ax2.spines['right'].set_color('r')\n",
    "\n",
    "    for i in range(3):\n",
    "        axs[i].set_xlabel('Distance along strike (km)')\n",
    "        axs[i].set_xlim(-cte_eq.L/2/1e3,cte_eq.L/2/1e3)\n",
    "    axs[0].set_ylabel(r'$\\phi_0^v$')\n",
    "    ax2.set_ylabel(r'$\\phi_0^\\theta$',color='red')\n",
    "    axs[1].set_ylabel(r'$\\phi_i^v$')\n",
    "    axs[2].set_ylabel(r'$\\phi_i^\\theta$')\n",
    "\n",
    "    for i in range(N_plot):\n",
    "\n",
    "\n",
    "        axs[1].plot(x_grid,Data_V[\"U\"][:,i],label=\"$i={}$\".format(i+1))\n",
    "        axs[2].plot(x_grid,Data_theta[\"U\"][:,i],label=\"$i={}$\".format(i+1))\n",
    "    # axs[1].set_ylim(top=0.04)\n",
    "    # axs[2].set_ylim(top=0.04)\n",
    "    axs[1].legend(ncol=4,frameon=False,fontsize=6)\n",
    "    axs[2].legend(ncol=4,frameon=False,fontsize=6)\n",
    "    axs[0].text(-100,-5.3,'(a)')\n",
    "    axs[1].text(-100,0.042,'(b)')\n",
    "    axs[2].text(-100,0.042,'(c)')\n",
    "    plt.tight_layout()\n",
    "\n",
    "    plt.savefig('/central/groups/astuart/hkaveh/Figs/ROM/Eq_PODcomponents.png',dpi=300)"
   ]
  }
 ],
 "metadata": {
  "kernelspec": {
   "display_name": "learnmodel",
   "language": "python",
   "name": "python3"
  },
  "language_info": {
   "codemirror_mode": {
    "name": "ipython",
    "version": 3
   },
   "file_extension": ".py",
   "mimetype": "text/x-python",
   "name": "python",
   "nbconvert_exporter": "python",
   "pygments_lexer": "ipython3",
   "version": "3.7.12"
  }
 },
 "nbformat": 4,
 "nbformat_minor": 2
}
