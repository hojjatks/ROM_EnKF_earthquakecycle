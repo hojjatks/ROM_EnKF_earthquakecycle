{
 "cells": [
  {
   "cell_type": "code",
   "execution_count": 2,
   "metadata": {},
   "outputs": [
    {
     "ename": "ValueError",
     "evalue": "invalid literal for int() with base 10: '--f=/home/hkaveh/.local/share/jupyter/runtime/kernel-v2-3543634e68Ap7p0ct23.json'",
     "output_type": "error",
     "traceback": [
      "\u001b[0;31m---------------------------------------------------------------------------\u001b[0m",
      "\u001b[0;31mValueError\u001b[0m                                Traceback (most recent call last)",
      "\u001b[0;32m/central/groups/astuart/hkaveh/Research/Paper4/ROM_EnKF_earthquakecycle/Codes/earthquake/GenData.py\u001b[0m in \u001b[0;36m<module>\u001b[0;34m\u001b[0m\n\u001b[1;32m      <a href='file:///central/groups/astuart/hkaveh/Research/Paper4/ROM_EnKF_earthquakecycle/Codes/earthquake/GenData.py?line=9'>10</a>\u001b[0m \u001b[0;32mfrom\u001b[0m \u001b[0mForward2d\u001b[0m \u001b[0;32mimport\u001b[0m \u001b[0mforwardmodel\u001b[0m\u001b[0;34m\u001b[0m\u001b[0;34m\u001b[0m\u001b[0m\n\u001b[1;32m     <a href='file:///central/groups/astuart/hkaveh/Research/Paper4/ROM_EnKF_earthquakecycle/Codes/earthquake/GenData.py?line=10'>11</a>\u001b[0m \u001b[0;32mimport\u001b[0m \u001b[0msys\u001b[0m\u001b[0;34m\u001b[0m\u001b[0;34m\u001b[0m\u001b[0m\n\u001b[0;32m---> <a href='file:///central/groups/astuart/hkaveh/Research/Paper4/ROM_EnKF_earthquakecycle/Codes/earthquake/GenData.py?line=11'>12</a>\u001b[0;31m \u001b[0mindex\u001b[0m \u001b[0;34m=\u001b[0m \u001b[0mint\u001b[0m\u001b[0;34m(\u001b[0m\u001b[0msys\u001b[0m\u001b[0;34m.\u001b[0m\u001b[0margv\u001b[0m\u001b[0;34m[\u001b[0m\u001b[0;36m1\u001b[0m\u001b[0;34m]\u001b[0m\u001b[0;34m)\u001b[0m\u001b[0;34m\u001b[0m\u001b[0;34m\u001b[0m\u001b[0m\n\u001b[0m\u001b[1;32m     <a href='file:///central/groups/astuart/hkaveh/Research/Paper4/ROM_EnKF_earthquakecycle/Codes/earthquake/GenData.py?line=12'>13</a>\u001b[0m \u001b[0mnp\u001b[0m\u001b[0;34m.\u001b[0m\u001b[0mrandom\u001b[0m\u001b[0;34m.\u001b[0m\u001b[0mseed\u001b[0m\u001b[0;34m(\u001b[0m\u001b[0mindex\u001b[0m\u001b[0;34m)\u001b[0m  \u001b[0;31m# seed is set using the index\u001b[0m\u001b[0;34m\u001b[0m\u001b[0;34m\u001b[0m\u001b[0m\n\u001b[1;32m     <a href='file:///central/groups/astuart/hkaveh/Research/Paper4/ROM_EnKF_earthquakecycle/Codes/earthquake/GenData.py?line=13'>14</a>\u001b[0m \u001b[0;32mimport\u001b[0m \u001b[0mtime\u001b[0m\u001b[0;34m\u001b[0m\u001b[0;34m\u001b[0m\u001b[0m\n",
      "\u001b[0;31mValueError\u001b[0m: invalid literal for int() with base 10: '--f=/home/hkaveh/.local/share/jupyter/runtime/kernel-v2-3543634e68Ap7p0ct23.json'"
     ]
    }
   ],
   "source": [
    "import numpy as np\n",
    "import cte_eq\n",
    "import sys\n",
    "sys.path.append('./..')\n",
    "import cte\n",
    "import matplotlib.pyplot as plt\n",
    "from ProcessFunctions import Ploteigs,ApplyPODStateSpace2D,GenRandom_ai,FindInitFromAi\n",
    "from Forward2d import forwardmodel\n",
    "import sys\n",
    "index = int(sys.argv[1])\n",
    "np.random.seed(index)  # seed is set using the index\n",
    "import time\n",
    "start_time = time.time()"
   ]
  },
  {
   "cell_type": "code",
   "execution_count": 3,
   "metadata": {},
   "outputs": [],
   "source": [
    "index = 0\n",
    "np.random.seed(index)  # seed is set using the index\n",
    "import time\n",
    "start_time = time.time()"
   ]
  },
  {
   "cell_type": "code",
   "execution_count": 4,
   "metadata": {},
   "outputs": [],
   "source": [
    "drs=0.012\n",
    "T_final_load=10500\n",
    "ApplyPOD=True             # True if you want to apply POD, 0 if you want to load the data\n",
    "Nxout=cte_eq.Nxout\n",
    "Ntout=cte_eq.Ntout\n",
    "T_filter=10300 \n"
   ]
  }
 ],
 "metadata": {
  "kernelspec": {
   "display_name": "learnmodel",
   "language": "python",
   "name": "python3"
  },
  "language_info": {
   "codemirror_mode": {
    "name": "ipython",
    "version": 3
   },
   "file_extension": ".py",
   "mimetype": "text/x-python",
   "name": "python",
   "nbconvert_exporter": "python",
   "pygments_lexer": "ipython3",
   "version": "3.7.12"
  }
 },
 "nbformat": 4,
 "nbformat_minor": 2
}
