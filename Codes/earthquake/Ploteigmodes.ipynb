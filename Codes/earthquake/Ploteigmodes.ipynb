{
 "cells": [
  {
   "cell_type": "code",
   "execution_count": 1,
   "metadata": {},
   "outputs": [],
   "source": [
    "import sys\n",
    "sys.path.append('./..')\n",
    "sys.path.append('/central/groups/astuart/hkaveh/QDYN/qdyn-read-only/src')  # For pyqdyn\n",
    "import matplotlib.pyplot as plt\n",
    "import numpy as np\n",
    "from pyqdyn import qdyn\n",
    "import ProcessFunctions\n",
    "import matplotlib.font_manager\n",
    "from matplotlib.gridspec import GridSpec\n",
    "from scipy.interpolate import interp1d\n",
    "from ProcessFunctions import FindMw\n",
    "import cte\n"
   ]
  },
  {
   "cell_type": "code",
   "execution_count": 4,
   "metadata": {},
   "outputs": [],
   "source": [
    "Ploteigenfunctions=1\n",
    "T_final=3500#2500\n",
    "Ntout=300\n",
    "Nxout=2\n",
    "drs=np.array([12])*0.001\n",
    "L=240e3\n"
   ]
  },
  {
   "cell_type": "code",
   "execution_count": 5,
   "metadata": {},
   "outputs": [
    {
     "ename": "FileNotFoundError",
     "evalue": "[Errno 2] No such file or directory: '/central/groups/astuart/hkaveh/Data/LearnROM/transfer/2DSim_MainSimulation_Tf3500Nt=300drs0.012.npz'",
     "output_type": "error",
     "traceback": [
      "\u001b[0;31m---------------------------------------------------------------------------\u001b[0m",
      "\u001b[0;31mFileNotFoundError\u001b[0m                         Traceback (most recent call last)",
      "\u001b[0;32m/tmp/ipykernel_2399001/1058336568.py\u001b[0m in \u001b[0;36m<module>\u001b[0;34m\u001b[0m\n\u001b[1;32m      2\u001b[0m     \u001b[0mi\u001b[0m\u001b[0;34m=\u001b[0m\u001b[0;36m0\u001b[0m \u001b[0;31m# plot eigenfunctinos for i=1\u001b[0m\u001b[0;34m\u001b[0m\u001b[0;34m\u001b[0m\u001b[0m\n\u001b[1;32m      3\u001b[0m     \u001b[0mdirect\u001b[0m\u001b[0;34m=\u001b[0m\u001b[0;34m'/central/groups/astuart/hkaveh/Data/LearnROM/transfer/2DSim_MainSimulation_Tf'\u001b[0m\u001b[0;34m+\u001b[0m\u001b[0mstr\u001b[0m\u001b[0;34m(\u001b[0m\u001b[0mT_final\u001b[0m\u001b[0;34m)\u001b[0m\u001b[0;34m+\u001b[0m\u001b[0;34m\"Nt=\"\u001b[0m\u001b[0;34m+\u001b[0m\u001b[0mstr\u001b[0m\u001b[0;34m(\u001b[0m\u001b[0mNtout\u001b[0m\u001b[0;34m)\u001b[0m\u001b[0;34m+\u001b[0m\u001b[0;34m'drs'\u001b[0m\u001b[0;34m+\u001b[0m\u001b[0mstr\u001b[0m\u001b[0;34m(\u001b[0m\u001b[0mdrs\u001b[0m\u001b[0;34m[\u001b[0m\u001b[0mi\u001b[0m\u001b[0;34m]\u001b[0m\u001b[0;34m)\u001b[0m\u001b[0;34m+\u001b[0m\u001b[0;34m\".npz\"\u001b[0m\u001b[0;34m\u001b[0m\u001b[0;34m\u001b[0m\u001b[0m\n\u001b[0;32m----> 4\u001b[0;31m     \u001b[0mdata\u001b[0m\u001b[0;34m=\u001b[0m\u001b[0mnp\u001b[0m\u001b[0;34m.\u001b[0m\u001b[0mload\u001b[0m\u001b[0;34m(\u001b[0m\u001b[0mdirect\u001b[0m\u001b[0;34m)\u001b[0m\u001b[0;34m\u001b[0m\u001b[0;34m\u001b[0m\u001b[0m\n\u001b[0m\u001b[1;32m      5\u001b[0m     \u001b[0mv\u001b[0m\u001b[0;34m=\u001b[0m\u001b[0mdata\u001b[0m\u001b[0;34m[\u001b[0m\u001b[0;34m\"v\"\u001b[0m\u001b[0;34m]\u001b[0m\u001b[0;34m\u001b[0m\u001b[0;34m\u001b[0m\u001b[0m\n\u001b[1;32m      6\u001b[0m     \u001b[0mtheta\u001b[0m\u001b[0;34m=\u001b[0m\u001b[0mdata\u001b[0m\u001b[0;34m[\u001b[0m\u001b[0;34m\"theta\"\u001b[0m\u001b[0;34m]\u001b[0m\u001b[0;34m\u001b[0m\u001b[0;34m\u001b[0m\u001b[0m\n",
      "\u001b[0;32m/central/groups/astuart/hkaveh/soft/miniconda3/envs/learnmodel/lib/python3.7/site-packages/numpy/lib/npyio.py\u001b[0m in \u001b[0;36mload\u001b[0;34m(file, mmap_mode, allow_pickle, fix_imports, encoding)\u001b[0m\n\u001b[1;32m    415\u001b[0m             \u001b[0mown_fid\u001b[0m \u001b[0;34m=\u001b[0m \u001b[0;32mFalse\u001b[0m\u001b[0;34m\u001b[0m\u001b[0;34m\u001b[0m\u001b[0m\n\u001b[1;32m    416\u001b[0m         \u001b[0;32melse\u001b[0m\u001b[0;34m:\u001b[0m\u001b[0;34m\u001b[0m\u001b[0;34m\u001b[0m\u001b[0m\n\u001b[0;32m--> 417\u001b[0;31m             \u001b[0mfid\u001b[0m \u001b[0;34m=\u001b[0m \u001b[0mstack\u001b[0m\u001b[0;34m.\u001b[0m\u001b[0menter_context\u001b[0m\u001b[0;34m(\u001b[0m\u001b[0mopen\u001b[0m\u001b[0;34m(\u001b[0m\u001b[0mos_fspath\u001b[0m\u001b[0;34m(\u001b[0m\u001b[0mfile\u001b[0m\u001b[0;34m)\u001b[0m\u001b[0;34m,\u001b[0m \u001b[0;34m\"rb\"\u001b[0m\u001b[0;34m)\u001b[0m\u001b[0;34m)\u001b[0m\u001b[0;34m\u001b[0m\u001b[0;34m\u001b[0m\u001b[0m\n\u001b[0m\u001b[1;32m    418\u001b[0m             \u001b[0mown_fid\u001b[0m \u001b[0;34m=\u001b[0m \u001b[0;32mTrue\u001b[0m\u001b[0;34m\u001b[0m\u001b[0;34m\u001b[0m\u001b[0m\n\u001b[1;32m    419\u001b[0m \u001b[0;34m\u001b[0m\u001b[0m\n",
      "\u001b[0;31mFileNotFoundError\u001b[0m: [Errno 2] No such file or directory: '/central/groups/astuart/hkaveh/Data/LearnROM/transfer/2DSim_MainSimulation_Tf3500Nt=300drs0.012.npz'"
     ]
    }
   ],
   "source": [
    "\n",
    "if Ploteigenfunctions==1:\n",
    "    i=0 # plot eigenfunctinos for i=1\n",
    "    direct='/central/groups/astuart/hkaveh/Data/LearnROM/transfer/2DSim_MainSimulation_Tf'+str(T_final)+\"Nt=\"+str(Ntout)+'drs'+str(drs[i])+\".npz\"\n",
    "    data=np.load(direct)\n",
    "    v=data[\"v\"]\n",
    "    theta=data[\"theta\"]\n",
    "    #tau=p.ox[\"tau\"]\n",
    "    slip=data[\"slip\"]\n",
    "    t=data[\"t\"]\n",
    "    a=data[\"a\"]\n",
    "    Nx=int(a.shape[0]//2)\n",
    "    direct1='/central/groups/astuart/hkaveh/Data/LearnROM/transfer/MainSimulation2D_Tf'+str(T_final)+\"Nt=\"+str(Ntout)+'PODonlyonV'+'drs'+str(drs[i])\n",
    "    direct2='/central/groups/astuart/hkaveh/Data/LearnROM/transfer/MainSimulation2D_Tf'+str(T_final)+\"Nt=\"+str(Ntout)+'PODonlyontheta'+'drs'+str(drs[i])\n",
    "    Data_V=np.load(direct1+'.npz')\n",
    "    Data_theta=np.load(direct2+'.npz')\n",
    "    # Plotting the POD components for slip rate and state variable\n",
    "    # making everything serif font\n",
    "    # Set global font family to 'serif' and font size to 14\n",
    "    plt.rcParams['font.family'] = 'serif'\n",
    "    plt.rcParams['font.size'] = 8  # You can adjust this value as needed\n",
    "    plt.rcParams['mathtext.fontset'] = 'dejavuserif'\n",
    "    fig,axs=plt.subplots(3,1,figsize=(3.7,8))\n",
    "\n",
    "    Nx=Data_V[\"U\"].shape[0]\n",
    "    x_grid=np.linspace(-L/2,L/2,Nx)/1e3\n",
    "    N_plot=4\n",
    "\n",
    "# # Plotting on axs[0] two lines with shared x axis but different y axis\n",
    "    axs[0].plot(x_grid,Data_V[\"q_bar\"],color='black',label=r'$v$')\n",
    "# # make another plot with different y-axis using twinx:\n",
    "    ax2=axs[0].twinx()\n",
    "    ax2.plot(x_grid,Data_theta[\"q_bar\"],color='red',linestyle='--',label=r'$\\theta$')\n",
    "    ax2.tick_params('y', colors='r')\n",
    "    ax2.spines['right'].set_color('r')\n",
    "\n",
    "    for i in range(3):\n",
    "        axs[i].set_xlabel('Distance along strike (km)')\n",
    "        axs[i].set_xlim(-L/2/1e3,L/2/1e3)\n",
    "    axs[0].set_ylabel(r'$\\phi_0^v$')\n",
    "    ax2.set_ylabel(r'$\\phi_0^\\theta$',color='red')\n",
    "    axs[1].set_ylabel(r'$\\phi_i^v$')\n",
    "    axs[2].set_ylabel(r'$\\phi_i^\\theta$')\n",
    "\n",
    "    for i in range(N_plot):\n",
    "\n",
    "\n",
    "        axs[1].plot(x_grid,Data_V[\"U\"][:,i],label=\"$i={}$\".format(i+1))\n",
    "        axs[2].plot(x_grid,Data_theta[\"U\"][:,i],label=\"$i={}$\".format(i+1))\n",
    "    axs[1].set_ylim(top=0.04)\n",
    "    axs[2].set_ylim(top=0.04)\n",
    "    axs[1].legend(ncol=4,frameon=False,fontsize=6)\n",
    "    axs[2].legend(ncol=4,frameon=False,fontsize=6)\n",
    "    axs[0].text(-100,-5.3,'(a)')\n",
    "    axs[1].text(-100,0.042,'(b)')\n",
    "    axs[2].text(-100,0.042,'(c)')\n",
    "    plt.tight_layout()\n",
    "    \n",
    "    #plt.savefig('/central/groups/astuart/hkaveh/Figs/ROM/Eq_PODcomponents.png',dpi=300)\n",
    "\n"
   ]
  },
  {
   "cell_type": "code",
   "execution_count": null,
   "metadata": {},
   "outputs": [],
   "source": []
  }
 ],
 "metadata": {
  "kernelspec": {
   "display_name": "learnmodel",
   "language": "python",
   "name": "python3"
  },
  "language_info": {
   "codemirror_mode": {
    "name": "ipython",
    "version": 3
   },
   "file_extension": ".py",
   "mimetype": "text/x-python",
   "name": "python",
   "nbconvert_exporter": "python",
   "pygments_lexer": "ipython3",
   "version": "3.7.12"
  }
 },
 "nbformat": 4,
 "nbformat_minor": 2
}
