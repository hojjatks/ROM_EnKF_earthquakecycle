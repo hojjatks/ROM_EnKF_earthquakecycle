{
 "cells": [
  {
   "cell_type": "code",
   "execution_count": 18,
   "metadata": {},
   "outputs": [],
   "source": [
    "# importing stuff:\n",
    "import numpy as np\n",
    "import cte_eq\n",
    "import sys\n",
    "sys.path.append('./..')\n",
    "import ProcessFunctions\n",
    "from ProcessFunctions import find_Aisv2_onlyv\n",
    "import matplotlib.pyplot as plt\n",
    "from scipy.stats import shapiro\n",
    "\n"
   ]
  },
  {
   "cell_type": "code",
   "execution_count": 28,
   "metadata": {},
   "outputs": [],
   "source": [
    "# load the simulation data that is recorded in RunForward2D.ipynb\n",
    "# the data is saved in this directory:\n",
    "drs=0.012\n",
    "T_final=10500\n",
    "Nx=4096\n",
    "N_m_load=20\n",
    "T_filter=8000 # taking T_filter large for now to see if the my idea with earthquakes works well.\n",
    "# apply POD in a loop:\n",
    "downsampleratio=1 # not downsampling anything\n",
    "N_snapshots=0 # is not going to be used in the function\n",
    "specify_N_snapshots=False\n",
    "direct='/central/groups/astuart/hkaveh/Data/LearnROM/transfer/2DSim_MainSimulation_Tf'+str(T_final)+\"Nx=\"+str(cte_eq.Nxout)+\"Nt=\"+str(cte_eq.Ntout)+'drs'+str(drs)+\".npz\"\n",
    "data=np.load(direct)\n",
    "v=data[\"v\"]\n",
    "theta=data[\"theta\"]\n",
    "t=data[\"t\"]"
   ]
  },
  {
   "cell_type": "code",
   "execution_count": 29,
   "metadata": {},
   "outputs": [],
   "source": [
    "# loading test data:\n",
    "T_final_run = 350 # each initial condition is simulated for 250 years\n",
    "coeff=1 # How the inital conditions are from the chaotic attractor\n",
    "number=100\n",
    "data_dir='/central/groups/astuart/hkaveh/Data/LearnROM/transfer/SampleSimulation_Tf_2D'+str(T_final_run)+\"Nt=\"+str(cte_eq.Ntout)+\"N_m\"+str(30)+\"coeff\"+str(coeff)+\"number\"+str(number)+\".npz\"\n",
    "data_smaple=np.load(data_dir)\n",
    "V_ox_test=data_smaple['array1']\n",
    "theta_ox_test=data_smaple['array2']\n",
    "t_ox_test=data_smaple['array3']\n",
    "\n",
    "# V_ox_test=np.log10(V_ox_test)\n",
    "# theta_ox_test=np.log10(theta_ox_test)"
   ]
  },
  {
   "cell_type": "code",
   "execution_count": 30,
   "metadata": {},
   "outputs": [
    {
     "data": {
      "text/plain": [
       "(1250, 4096)"
      ]
     },
     "execution_count": 30,
     "metadata": {},
     "output_type": "execute_result"
    }
   ],
   "source": [
    "V_ox_test.shape"
   ]
  },
  {
   "cell_type": "code",
   "execution_count": 31,
   "metadata": {},
   "outputs": [
    {
     "name": "stdout",
     "output_type": "stream",
     "text": [
      "Nt is 38140\n"
     ]
    }
   ],
   "source": [
    "Nt=int(t.shape[0]/Nx)\n",
    "print(\"Nt is\", Nt)"
   ]
  },
  {
   "cell_type": "code",
   "execution_count": 32,
   "metadata": {},
   "outputs": [
    {
     "name": "stdout",
     "output_type": "stream",
     "text": [
      "[1.00000000e+00 3.16227766e+01 1.00000000e+03 3.16227766e+04\n",
      " 1.00000000e+06]\n"
     ]
    }
   ],
   "source": [
    "xis=np.logspace(0,6,5)\n",
    "print(xis)"
   ]
  },
  {
   "cell_type": "code",
   "execution_count": 40,
   "metadata": {},
   "outputs": [
    {
     "name": "stdout",
     "output_type": "stream",
     "text": [
      "xi is  1.0\n",
      "total number of snapsots before filtering is  38140\n",
      "number of snapsots after filtering is 16112\n",
      "PC 1: Shapiro p-value = 1.9083001152124733e-31\n",
      "PC 2: Shapiro p-value = 1.1540641599006924e-24\n",
      "PC 3: Shapiro p-value = 1.9672872099386118e-25\n",
      "PC 4: Shapiro p-value = 3.4368886995270534e-15\n",
      "PC 5: Shapiro p-value = 3.2106511226944357e-16\n",
      "PC 6: Shapiro p-value = 9.653902790719064e-20\n",
      "PC 7: Shapiro p-value = 1.4716252945915316e-21\n",
      "PC 8: Shapiro p-value = 1.8895834739704628e-19\n",
      "PC 9: Shapiro p-value = 3.6617698020765947e-25\n",
      "PC 10: Shapiro p-value = 4.5431009172678424e-18\n",
      "PC 11: Shapiro p-value = 1.6248368742973533e-18\n",
      "PC 12: Shapiro p-value = 1.6225680467187725e-13\n",
      "PC 13: Shapiro p-value = 4.3176614085253806e-13\n",
      "PC 14: Shapiro p-value = 6.316674935799007e-15\n",
      "PC 15: Shapiro p-value = 1.906285458954486e-25\n",
      "PC 16: Shapiro p-value = 3.3514115872647474e-17\n",
      "PC 17: Shapiro p-value = 9.27200453126347e-28\n",
      "PC 18: Shapiro p-value = 9.626290158737524e-16\n",
      "PC 19: Shapiro p-value = 1.2937268562090638e-17\n",
      "PC 20: Shapiro p-value = 5.896737091670712e-14\n",
      "xi is  31.622776601683793\n",
      "total number of snapsots before filtering is  38140\n",
      "number of snapsots after filtering is 2943\n",
      "PC 1: Shapiro p-value = 1.0787204465661155e-18\n",
      "PC 2: Shapiro p-value = 6.626603030576102e-18\n",
      "PC 3: Shapiro p-value = 5.3528838535873485e-18\n",
      "PC 4: Shapiro p-value = 4.4903048739007266e-18\n",
      "PC 5: Shapiro p-value = 2.8067505838212967e-18\n",
      "PC 6: Shapiro p-value = 1.343440824613807e-17\n",
      "PC 7: Shapiro p-value = 1.2345361742093938e-19\n",
      "PC 8: Shapiro p-value = 4.239805219507924e-19\n",
      "PC 9: Shapiro p-value = 3.1148602659511204e-18\n",
      "PC 10: Shapiro p-value = 5.628110831621505e-18\n",
      "PC 11: Shapiro p-value = 2.3140187384630062e-18\n",
      "PC 12: Shapiro p-value = 8.5844157735899655e-19\n",
      "PC 13: Shapiro p-value = 6.685032277312281e-19\n",
      "PC 14: Shapiro p-value = 1.952105506979977e-18\n",
      "PC 15: Shapiro p-value = 2.59271310252862e-19\n",
      "PC 16: Shapiro p-value = 2.7591317398310583e-16\n",
      "PC 17: Shapiro p-value = 1.3708813833823962e-17\n",
      "PC 18: Shapiro p-value = 3.955030199060645e-19\n",
      "PC 19: Shapiro p-value = 2.8907814324075094e-19\n",
      "PC 20: Shapiro p-value = 8.562547186145595e-19\n",
      "xi is  1000.0\n",
      "total number of snapsots before filtering is  38140\n",
      "number of snapsots after filtering is 2225\n",
      "PC 1: Shapiro p-value = 1.068689094928787e-16\n",
      "PC 2: Shapiro p-value = 5.947535806863656e-17\n",
      "PC 3: Shapiro p-value = 9.235850321700654e-16\n",
      "PC 4: Shapiro p-value = 1.8162047367802206e-17\n",
      "PC 5: Shapiro p-value = 3.247420095015806e-17\n",
      "PC 6: Shapiro p-value = 3.136843318648656e-16\n",
      "PC 7: Shapiro p-value = 5.030065981995852e-16\n",
      "PC 8: Shapiro p-value = 6.672823385120116e-16\n",
      "PC 9: Shapiro p-value = 1.6365166761271306e-15\n",
      "PC 10: Shapiro p-value = 1.6751382815577133e-16\n",
      "PC 11: Shapiro p-value = 1.1072039874429054e-15\n",
      "PC 12: Shapiro p-value = 1.9865596060853114e-16\n",
      "PC 13: Shapiro p-value = 3.109717088512837e-16\n",
      "PC 14: Shapiro p-value = 3.1428374002394604e-16\n",
      "PC 15: Shapiro p-value = 1.0038417083248758e-16\n",
      "PC 16: Shapiro p-value = 1.943944213838645e-15\n",
      "PC 17: Shapiro p-value = 7.851199210076945e-16\n",
      "PC 18: Shapiro p-value = 5.302434720141393e-15\n",
      "PC 19: Shapiro p-value = 1.2046319404975816e-15\n",
      "PC 20: Shapiro p-value = 2.4119345229382967e-16\n",
      "xi is  31622.776601683792\n",
      "total number of snapsots before filtering is  38140\n",
      "number of snapsots after filtering is 1764\n"
     ]
    },
    {
     "name": "stderr",
     "output_type": "stream",
     "text": [
      "/central/groups/astuart/hkaveh/soft/miniconda3/envs/learnmodel/lib/python3.7/site-packages/scipy/stats/morestats.py:1757: UserWarning: Input data for shapiro has range zero. The results may not be accurate.\n",
      "  warnings.warn(\"Input data for shapiro has range zero. The results \"\n"
     ]
    },
    {
     "name": "stdout",
     "output_type": "stream",
     "text": [
      "PC 1: Shapiro p-value = 1.0\n",
      "PC 2: Shapiro p-value = 9.897793401264538e-18\n",
      "PC 3: Shapiro p-value = 9.804526305657347e-18\n",
      "PC 4: Shapiro p-value = 9.814434275034507e-18\n",
      "PC 5: Shapiro p-value = 1.0098559234917896e-17\n",
      "PC 6: Shapiro p-value = 1.5375540581907072e-17\n",
      "PC 7: Shapiro p-value = 1.370354800204445e-17\n",
      "PC 8: Shapiro p-value = 6.5040119686636e-17\n",
      "PC 9: Shapiro p-value = 1.0204295251078712e-17\n",
      "PC 10: Shapiro p-value = 5.2120842302868386e-17\n",
      "PC 11: Shapiro p-value = 1.7577361369264e-17\n",
      "PC 12: Shapiro p-value = 1.7892178038595555e-17\n",
      "PC 13: Shapiro p-value = 1.8381156262411172e-16\n",
      "PC 14: Shapiro p-value = 1.8595733199880083e-17\n",
      "PC 15: Shapiro p-value = 5.001111815055189e-17\n",
      "PC 16: Shapiro p-value = 1.900850790607262e-17\n",
      "PC 17: Shapiro p-value = 2.4102431701961973e-17\n",
      "PC 18: Shapiro p-value = 6.400375502333566e-17\n",
      "PC 19: Shapiro p-value = 1.359408140132102e-17\n",
      "PC 20: Shapiro p-value = 1.1083454238963347e-17\n",
      "xi is  1000000.0\n",
      "total number of snapsots before filtering is  38140\n",
      "number of snapsots after filtering is 1491\n",
      "PC 1: Shapiro p-value = 1.0\n",
      "PC 2: Shapiro p-value = 3.8944460641107044e-17\n",
      "PC 3: Shapiro p-value = 1.0\n",
      "PC 4: Shapiro p-value = 3.7615465946865047e-17\n",
      "PC 5: Shapiro p-value = 3.802315680101283e-17\n",
      "PC 6: Shapiro p-value = 1.0\n",
      "PC 7: Shapiro p-value = 3.975621929831963e-17\n",
      "PC 8: Shapiro p-value = 3.905919059206815e-17\n",
      "PC 9: Shapiro p-value = 3.7871405554556304e-17\n",
      "PC 10: Shapiro p-value = 3.823433601139762e-17\n",
      "PC 11: Shapiro p-value = 3.7547279794611076e-17\n",
      "PC 12: Shapiro p-value = 3.765218283989505e-17\n",
      "PC 13: Shapiro p-value = 3.757999313347632e-17\n",
      "PC 14: Shapiro p-value = 1.0\n",
      "PC 15: Shapiro p-value = 3.905919059206815e-17\n",
      "PC 16: Shapiro p-value = 3.7615465946865047e-17\n",
      "PC 17: Shapiro p-value = 1.0\n",
      "PC 18: Shapiro p-value = 5.69377308972871e-14\n",
      "PC 19: Shapiro p-value = 3.9744688400580644e-17\n",
      "PC 20: Shapiro p-value = 1.0\n"
     ]
    }
   ],
   "source": [
    "# resmaple v based on a probability p\n",
    "score=np.zeros_like(xis)\n",
    "p_shapiro=np.zeros((1,N_m_load))\n",
    "for index_xi,xi in enumerate(xis):\n",
    "\n",
    "    print('xi is ', xi)\n",
    "    Nt=int(t.shape[0]/Nx)\n",
    "    print('total number of snapsots before filtering is ', Nt)\n",
    "    t_ox=t.reshape((Nt,Nx)) \n",
    "    v_ox=v.reshape((Nt,Nx))\n",
    "    theta_ox=theta.reshape((Nt,Nx))\n",
    "    p=np.tanh(xi*np.max(v_ox,axis=1))\n",
    "    # Generate a mask to keep rows with probability (1 - p)\n",
    "    keep_mask = np.random.rand(Nt) > p  # shape: (Nt,)\n",
    "\n",
    "    # Apply the mask\n",
    "    t_resampled = t_ox[keep_mask].reshape(-1)\n",
    "    v_resampled = v_ox[keep_mask].reshape(-1)\n",
    "    theta_resampled=theta_ox[keep_mask].reshape(-1)\n",
    "    Nt2=int(t_resampled.shape[0]/Nx)\n",
    "    print('number of snapsots after filtering is', Nt2)\n",
    "    v_or_theta=\"v\"\n",
    "    U_v,S_v,VT_v,q_bar_v,Nx,V_ox_filtered,theta_ox_filtered,Nt2,t_ox_filtered=ProcessFunctions.ApplyPODV_2D(v_resampled,theta_resampled,t_resampled,Nx,T_filter,v_or_theta,downsampleratio,N_snapshots,specify_N_snapshots)\n",
    "    v_or_theta=\"theta\"\n",
    "    U_theta,S_theta,VT_theta,q_bar_theta,Nx,V_ox_filtered,theta_ox_filtered,Nt2,t_ox_filtered=ProcessFunctions.ApplyPODV_2D(v_resampled,theta_resampled,t_resampled,Nx,T_filter,v_or_theta,downsampleratio,N_snapshots,specify_N_snapshots)\n",
    "\n",
    "    # check normality on the test data:\n",
    "    # find p\n",
    "    p_test=np.tanh(xi*np.max(V_ox_test,axis=1))\n",
    "    Nt_test=p_test.shape[0]\n",
    "    keep_mask_test=np.random.rand(Nt_test) > p_test\n",
    "    t_resampled_test = t_ox_test[keep_mask_test]\n",
    "    v_resampled_test = V_ox_test[keep_mask_test]\n",
    "    theta_resampled_test=theta_ox_test[keep_mask_test]\n",
    "\n",
    "    # apply log10 to v\n",
    "    v_log10_test_filterd=np.log10(v_resampled_test)\n",
    "    A_v,P_v=find_Aisv2_onlyv(U_v,V_ox_test,q_bar_v,N_m_load) # you dont need P in general, but I need it to check if I do everything correctly\n",
    "    y=A_v[1:]-A_v[:-1]\n",
    "    A_v_filtered=A_v[keep_mask_test]\n",
    "    y_filtered=y[keep_mask_test[:-1]]\n",
    "    for i in range(N_m_load):\n",
    "        stat, p_shapiro[0,i] = shapiro(A_v_filtered[:, i])\n",
    "        print(f\"PC {i+1}: Shapiro p-value = {p_shapiro[0,i]}\")\n",
    "    score[index_xi] = np.mean(np.log10(p_shapiro))"
   ]
  },
  {
   "cell_type": "code",
   "execution_count": 41,
   "metadata": {},
   "outputs": [
    {
     "data": {
      "text/plain": [
       "1.0"
      ]
     },
     "execution_count": 41,
     "metadata": {},
     "output_type": "execute_result"
    }
   ],
   "source": [
    "p_shapiro[0,2\n",
    "]"
   ]
  },
  {
   "cell_type": "code",
   "execution_count": 45,
   "metadata": {},
   "outputs": [
    {
     "data": {
      "image/png": "[encoded data removed]",
      "text/plain": [
       "<Figure size 600x400 with 1 Axes>"
      ]
     },
     "metadata": {},
     "output_type": "display_data"
    }
   ],
   "source": [
    "\n",
    "plt.figure(figsize=(6, 4))  # Set figure size\n",
    "\n",
    "# Plot\n",
    "plt.plot(xis, score, linewidth=2, marker='o', markersize=4)\n",
    "\n",
    "# Labels and title\n",
    "plt.xlabel('ξ', fontsize=14, fontname='DejaVu Serif')\n",
    "plt.ylabel('Score', fontsize=14, fontname='DejaVu Serif')\n",
    "plt.title('Score vs ξ', fontsize=16, fontname='DejaVu Serif')\n",
    "\n",
    "# Tick parameters\n",
    "plt.xticks(fontsize=12, fontname='DejaVu Serif')\n",
    "plt.yticks(fontsize=12, fontname='DejaVu Serif')\n",
    "\n",
    "# Grid and layout\n",
    "plt.grid(True, linestyle='--', alpha=0.6)\n",
    "plt.tight_layout()\n",
    "plt.xscale(\"log\")\n",
    "plt.show()"
   ]
  },
  {
   "cell_type": "code",
   "execution_count": 27,
   "metadata": {},
   "outputs": [
    {
     "data": {
      "text/plain": [
       "(38140,)"
      ]
     },
     "execution_count": 27,
     "metadata": {},
     "output_type": "execute_result"
    }
   ],
   "source": [
    "p.shape"
   ]
  },
  {
   "cell_type": "code",
   "execution_count": null,
   "metadata": {},
   "outputs": [],
   "source": []
  },
  {
   "cell_type": "code",
   "execution_count": null,
   "metadata": {},
   "outputs": [],
   "source": []
  }
 ],
 "metadata": {
  "kernelspec": {
   "display_name": "learnmodel",
   "language": "python",
   "name": "python3"
  },
  "language_info": {
   "codemirror_mode": {
    "name": "ipython",
    "version": 3
   },
   "file_extension": ".py",
   "mimetype": "text/x-python",
   "name": "python",
   "nbconvert_exporter": "python",
   "pygments_lexer": "ipython3",
   "version": "3.7.12"
  }
 },
 "nbformat": 4,
 "nbformat_minor": 2
}
