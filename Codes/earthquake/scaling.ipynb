{
 "cells": [
  {
   "cell_type": "markdown",
   "metadata": {},
   "source": [
    "This function is written to plot the scaling law of the PDE and compare it with the scaling the we get from the ML model. This function can also we used to plot the other long term behaviour of the ML model."
   ]
  },
  {
   "cell_type": "markdown",
   "metadata": {},
   "source": [
    "To do list for today:\n",
    "1- Plotting rthe scaling for earthquakes first."
   ]
  },
  {
   "cell_type": "code",
   "execution_count": 28,
   "metadata": {},
   "outputs": [],
   "source": [
    "# loading the data \n",
    "from Forward2d import forwardmodel\n",
    "import cte_eq\n",
    "import pickle\n",
    "import numpy as np\n",
    "import sys\n",
    "sys.path.append('./..')\n",
    "import ProcessFunctions\n",
    "import matplotlib.pyplot as plt\n",
    "import cte\n",
    "from scipy import integrate"
   ]
  },
  {
   "cell_type": "code",
   "execution_count": 29,
   "metadata": {},
   "outputs": [],
   "source": [
    "T_final=10500\n",
    "drs=0.012\n",
    "Nxout=cte_eq.Nxout\n",
    "Ntout=cte_eq.Ntout\n",
    "direct='/central/groups/astuart/hkaveh/Data/LearnROM/transfer/2DSim_MainSimulation_Tf'+str(T_final)+\"Nx=\"+str(Nxout)+\"Nt=\"+str(Ntout)+'drs'+str(drs)+\".npz\"\n",
    "data=np.load(direct)\n",
    "v=data['v']\n",
    "# theta=data['theta']\n",
    "# tau=data['tau']\n",
    "# slip=data['slip']\n",
    "t=data['t']\n",
    "a=data['a']\n"
   ]
  },
  {
   "cell_type": "code",
   "execution_count": 18,
   "metadata": {},
   "outputs": [],
   "source": [
    "L=240e3\n",
    "Nx=a.shape[0]\n",
    "delta_x=L/Nx\n",
    "v=np.array(v)\n",
    "# theta=np.array(theta)\n",
    "t=np.array(t)\n",
    "Nt=t.shape[0]//Nx\n",
    "t=t.reshape((Nt,Nx)) \n",
    "v=v.reshape((Nt,Nx))"
   ]
  },
  {
   "cell_type": "code",
   "execution_count": 19,
   "metadata": {},
   "outputs": [],
   "source": [
    "# pdot is the the integral of v over space\n",
    "pdot=np.sum(v,axis=1)*delta_x"
   ]
  },
  {
   "cell_type": "code",
   "execution_count": 20,
   "metadata": {},
   "outputs": [
    {
     "data": {
      "text/plain": [
       "(38140,)"
      ]
     },
     "execution_count": 20,
     "metadata": {},
     "output_type": "execute_result"
    }
   ],
   "source": [
    "pdot.shape"
   ]
  },
  {
   "cell_type": "code",
   "execution_count": 21,
   "metadata": {},
   "outputs": [
    {
     "data": {
      "text/plain": [
       "[<matplotlib.lines.Line2D at 0x7ff13042c1d0>]"
      ]
     },
     "execution_count": 21,
     "metadata": {},
     "output_type": "execute_result"
    },
    {
     "data": {
      "image/png": "[encoded data removed]",
      "text/plain": [
       "<Figure size 640x480 with 1 Axes>"
      ]
     },
     "metadata": {},
     "output_type": "display_data"
    }
   ],
   "source": [
    "plt.plot(np.log10(v[600,:]))"
   ]
  },
  {
   "cell_type": "code",
   "execution_count": 23,
   "metadata": {},
   "outputs": [],
   "source": [
    "# finding the mements, durations, and are for each event\n",
    "flag_event=False\n",
    "V_event=1e-2\n",
    "T1s=[] # this is the time of the start of events\n",
    "T2s=[] # this is the time of the end of events\n",
    "length_ruptures=[] # this is the length of the rupture\n",
    "pots=[] # integral of pdot over the event duration\n",
    "for i in range(1,200):\n",
    "    if np.max(v[i,:])>V_event and flag_event==False:\n",
    "        start=i\n",
    "        T1s.append(t[i,0])\n",
    "        flag_event=True\n",
    "    if np.max(v[i,:])<V_event and flag_event==True:\n",
    "        end=i\n",
    "        flag_event=False\n",
    "        T2s.append(t[i,0])\n",
    "        # check from start to end for all elements of v[start,:] to v[end,:] which elements had v >v_event in one line, from this you can find the event extent\n",
    "        ruptured=np.where(v[start:end,:]>V_event,1,0)\n",
    "        # find the locations at which at least there is one element that is ruptured\n",
    "        ruptured=np.sum(ruptured,axis=0)\n",
    "        ruptured=(ruptured>0)\n",
    "        # summing number of ruptured elements\n",
    "        num_ruptured_elements=np.sum(ruptured)\n",
    "        # then the rupture length of this event is given by \n",
    "        length_rupture=num_ruptured_elements*delta_x\n",
    "        length_ruptures.append(length_rupture)\n",
    "        potency_of_event=integrate.cumtrapz(pdot[start:end],t[start:end,0])    \n",
    "        pots.append(potency_of_event[-1])\n",
    "# now I have everything to plot the scaling law for the earthquake problem"
   ]
  },
  {
   "cell_type": "code",
   "execution_count": null,
   "metadata": {},
   "outputs": [],
   "source": []
  },
  {
   "cell_type": "code",
   "execution_count": 24,
   "metadata": {},
   "outputs": [
    {
     "name": "stdout",
     "output_type": "stream",
     "text": [
      "T1s [51.1603698]\n",
      "T2s [51.16037385]\n",
      "length_rupture 77519.53125\n"
     ]
    }
   ],
   "source": [
    "print(\"T1s\",np.array(T1s)/cte.t_yr)\n",
    "print(\"T2s\",np.array(T2s)/cte.t_yr)\n",
    "print(\"length_rupture\",length_rupture)"
   ]
  },
  {
   "cell_type": "code",
   "execution_count": 25,
   "metadata": {},
   "outputs": [
    {
     "data": {
      "text/plain": [
       "10"
      ]
     },
     "execution_count": 25,
     "metadata": {},
     "output_type": "execute_result"
    }
   ],
   "source": [
    "start"
   ]
  },
  {
   "cell_type": "code",
   "execution_count": 26,
   "metadata": {},
   "outputs": [
    {
     "data": {
      "text/plain": [
       "196"
      ]
     },
     "execution_count": 26,
     "metadata": {},
     "output_type": "execute_result"
    }
   ],
   "source": [
    "end"
   ]
  },
  {
   "cell_type": "code",
   "execution_count": null,
   "metadata": {},
   "outputs": [],
   "source": []
  },
  {
   "cell_type": "code",
   "execution_count": 27,
   "metadata": {},
   "outputs": [
    {
     "data": {
      "image/png": "[encoded data removed]",
      "text/plain": [
       "<Figure size 800x300 with 3 Axes>"
      ]
     },
     "metadata": {},
     "output_type": "display_data"
    }
   ],
   "source": [
    "# make a figure with\n",
    "plt.rcParams.update({\n",
    "    'font.family': 'serif',\n",
    "    'font.serif': ['Times New Roman'],\n",
    "    'text.usetex': True,  # If you want to use LaTeX for rendering text\n",
    "})\n",
    "fig, axs = plt.subplots(1, 3, figsize=(8, 3))\n",
    "\n",
    "plt.rcParams.update({'font.family': 'serif', 'font.serif': 'Times New Roman','font.size': 8})\n",
    "\n",
    "\n"
   ]
  },
  {
   "cell_type": "code",
   "execution_count": null,
   "metadata": {},
   "outputs": [],
   "source": []
  }
 ],
 "metadata": {
  "kernelspec": {
   "display_name": "learnmodel",
   "language": "python",
   "name": "python3"
  },
  "language_info": {
   "codemirror_mode": {
    "name": "ipython",
    "version": 3
   },
   "file_extension": ".py",
   "mimetype": "text/x-python",
   "name": "python",
   "nbconvert_exporter": "python",
   "pygments_lexer": "ipython3",
   "version": "3.7.12"
  }
 },
 "nbformat": 4,
 "nbformat_minor": 2
}
