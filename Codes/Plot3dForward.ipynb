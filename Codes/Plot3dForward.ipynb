{
 "cells": [
  {
   "cell_type": "markdown",
   "metadata": {},
   "source": [
    "This code is written to plot the behaviour of the forward model used in most parts of the paper. "
   ]
  },
  {
   "cell_type": "code",
   "execution_count": null,
   "metadata": {},
   "outputs": [],
   "source": [
    "import numpy as np\n",
    "import cte\n",
    "import matplotlib.pyplot as plt\n",
    "import matplotlib.font_manager as fm\n",
    "import matplotlib.gridspec as gridspec\n",
    "import matplotlib.patches as patches\n",
    "from ProcessFunctions import FindMw_v2,Gut"
   ]
  },
  {
   "cell_type": "code",
   "execution_count": null,
   "metadata": {},
   "outputs": [],
   "source": [
    "# loading the data from /central/groups/astuart/hkaveh/Data/LearnROM/transfer directory\n",
    "data=np.load('/central/groups/astuart/hkaveh/Data/LearnROM/transfer/MainSimulation_Tf600Nt=5.npz')"
   ]
  },
  {
   "cell_type": "code",
   "execution_count": null,
   "metadata": {},
   "outputs": [],
   "source": [
    "data.files"
   ]
  },
  {
   "cell_type": "code",
   "execution_count": null,
   "metadata": {},
   "outputs": [],
   "source": [
    "V_thresh=5e-8\n",
    "T_filter=100\n",
    "mu=cte.G"
   ]
  },
  {
   "cell_type": "code",
   "execution_count": null,
   "metadata": {},
   "outputs": [],
   "source": []
  },
  {
   "cell_type": "code",
   "execution_count": null,
   "metadata": {},
   "outputs": [],
   "source": []
  },
  {
   "cell_type": "code",
   "execution_count": null,
   "metadata": {},
   "outputs": [],
   "source": [
    "x_ox=data['x_ox']\n",
    "z_ox=data['z_ox']\n",
    "t_ox=data['t_ox']\n",
    "v_ox=data['V_ox']\n",
    "theta_ox=data['theta_ox']\n",
    "stress_ox=data['stress']\n",
    "pot_ot=data['pot_ot']\n",
    "vmax_ot=data['vmax_ot']\n",
    "t_ot=data['t_ot']"
   ]
  },
  {
   "cell_type": "code",
   "execution_count": null,
   "metadata": {},
   "outputs": [],
   "source": [
    "print(t_ox.shape)\n",
    "print(t_ox[-1,:])\n",
    "print(t_ox[-1,-1])"
   ]
  },
  {
   "cell_type": "code",
   "execution_count": null,
   "metadata": {},
   "outputs": [],
   "source": [
    "start_time=280    # for plotting the slip rate\n",
    "end_time=340   # for plotting the slip rate\n"
   ]
  },
  {
   "cell_type": "code",
   "execution_count": null,
   "metadata": {},
   "outputs": [],
   "source": [
    "# The first two should be super easy. It is just copying\n",
    "\n",
    "Nx=256\n",
    "Nw=32\n",
    "W=cte.W\n",
    "L=cte.L_asp+cte.L_buffer    \n",
    "cmap=\"magma\"\n",
    "# Define a serif font and set its size\n",
    "serif_font = fm.FontProperties(family=\"serif\", size=8)\n",
    "\n",
    "# Create a sample figure\n",
    "fig = plt.figure(figsize=(7.4, 8))\n",
    "\n",
    "# Use serif font and set font size for all text in the figure\n",
    "plt.rc('font', family='serif')\n",
    "plt.rcParams.update({'font.family': 'serif'})\n",
    "plt.rcParams.update({'font.size': 8})\n",
    "gs = gridspec.GridSpec(nrows=2, ncols=2 ,height_ratios=[0.1, 1],width_ratios=[1,0.05])\n",
    "axes1 = fig.add_subplot(gs[0, :])  # for the geomtery\n",
    "axes2 = fig.add_subplot(gs[1,0])  # Max slip rate on the fault\n",
    "# axes3 = fig.add_subplot(gs[1, 2])  # Magnitude frequency distribution\n",
    "cax2 = fig.add_subplot(gs[1,1])  # colorbar for slip rate\n",
    "x = np.linspace(-L/2, L/2, Nx, dtype=float)\n",
    "z = np.linspace(0, W, Nw, dtype=float)\n",
    "X, Z = np.meshgrid(x, z)\n",
    "axes1.set_xlim(-L/2*1e-3,L/2*1e-3)\n",
    "axes1.set_xlabel(\"Along Strike (km)\",fontproperties=serif_font)\n",
    "axes1.set_ylabel(\"Along Depth (km)\",fontproperties=serif_font)\n",
    "axes1.invert_yaxis()\n",
    "rect = lambda color: plt.Rectangle((0,0),.5,.5, color=color)\n",
    "axes1.set_ylim(bottom=50,top=0)\n",
    "axes1.text(-150,-10,'(a)')\n",
    "left_bottom = (-150, 37.5)\n",
    "width = 300\n",
    "height = -25\n",
    "# Create a rectangle patch without fill\n",
    "rectangle = patches.Rectangle(left_bottom, width, height, fill=False, hatch='.....', edgecolor='black')\n",
    "# Add the rectangle patch to the plot\n",
    "axes1.add_patch(rectangle)\n",
    "left_bottom = (-160, 50)\n",
    "width = 320\n",
    "height = -50\n",
    "rectangle = patches.Rectangle(left_bottom, width, height,facecolor='black',alpha=.2)\n",
    "axes1.add_patch(rectangle)\n",
    "\n",
    "#axes2\n",
    "V_thresh_min=1e-9\n",
    "V_thresh_max=1e-6   \n",
    "x_ox=np.linspace(-L/2,L/2,Nx)\n",
    "V_dip_max=np.max(v_ox,axis=1).T   # Maximum Velocity along the dip\n",
    "Nt=t_ox.shape[0]\n",
    "x_ox_t=np.vstack([x_ox]*Nt).T \n",
    "time=np.max(t_ox,axis=1).T\n",
    "PrettyTime=np.reshape(time.T,-1)\n",
    "Prettyx=np.reshape(x_ox_t.T,-1)\n",
    "PrettyV=np.reshape(V_dip_max.T,-1)\n",
    "\n",
    "pl=axes2.scatter(PrettyTime/cte.t_yr,Prettyx*1e-3,marker=\".\",c=np.log10(PrettyV),cmap=cmap,linewidths=1,vmin=np.log10(V_thresh_min),vmax=np.log10(V_thresh_max))  \n",
    "axes2.set_xlabel(r'Time (year)',fontproperties=serif_font)\n",
    "axes2.set_ylabel(r'Distance along strike (km)',fontproperties=serif_font)\n",
    "axes2.set_xlim(left=start_time,right=end_time)\n",
    "b=fig.colorbar(pl,cax=cax2)\n",
    "b.set_label(label=r'$log_{10}(V(m/s))$',fontproperties=serif_font)\n",
    "axes2.set_ylim(bottom=-L/2/1000,top=L/2/1000)\n",
    "# b.ax.yaxis.set_label_position('left')  # Move label to the left\n",
    "# b.ax.yaxis.tick_left()  # Move ticks to the left\n",
    "\n",
    "#axes3\n",
    "Mw,_,_=FindMw_v2(pot_ot,vmax_ot,t_ot,cte.t_yr,T_filter,V_thresh,mu)\n",
    "Mags,Numbs=Gut(Mw)\n",
    "# axes3.set_xlim(left=6,right=7.5)\n",
    "# axes3.set_yscale(\"log\")\n",
    "# axes3.plot(Mags , Numbs,'.',color='black') \n",
    "# axes3.set_xlabel(r'$M$')\n",
    "# axes3.set_ylabel(r'$N_{\\geq M}$')   \n",
    "axes2.text(start_time+2,165,'(b)')\n",
    "# axes3.text(6.2,193,'(c)')\n",
    "plt.tight_layout()\n",
    "fig.savefig(\"/central/groups/astuart/hkaveh/Figs/ROM/Geom_Forward_3d.png\",dpi=300, bbox_inches='tight')\n"
   ]
  },
  {
   "cell_type": "code",
   "execution_count": null,
   "metadata": {},
   "outputs": [],
   "source": [
    "# saving the Mags,Numbs, and the total number of years which is (t_ox[-1,0]/t_yr-T_filter)"
   ]
  },
  {
   "cell_type": "code",
   "execution_count": null,
   "metadata": {},
   "outputs": [],
   "source": [
    "# define a ax and plot the MFD\n",
    "fig, ax = plt.subplots(figsize=(3, 2))  # This gives you both Figure and Axes\n",
    "ax.set_xlim(left=6, right=7.5)\n",
    "ax.set_yscale(\"log\")\n",
    "ax.plot(Mags, Numbs, '.', color='black')\n",
    "ax.set_xlabel(r'$M$', fontproperties=serif_font)\n",
    "ax.set_ylabel(r'$N_{\\geq M}$', fontproperties=serif_font)\n"
   ]
  },
  {
   "cell_type": "code",
   "execution_count": null,
   "metadata": {},
   "outputs": [],
   "source": [
    "total_years = t_ox[-1,0,0]/cte.t_yr- T_filter\n",
    "print(\"Total years: \", total_years)\n",
    "save_dir='/central/groups/astuart/hkaveh/Data/LearnROM/transfer/MFDMainSimulation_Tf600Nt=5.npz'\n",
    "np.savez(save_dir, Mags=Mags, Numbs=Numbs, TotalYears=total_years)\n"
   ]
  },
  {
   "cell_type": "code",
   "execution_count": null,
   "metadata": {},
   "outputs": [],
   "source": []
  },
  {
   "cell_type": "code",
   "execution_count": null,
   "metadata": {},
   "outputs": [],
   "source": []
  },
  {
   "cell_type": "code",
   "execution_count": null,
   "metadata": {},
   "outputs": [],
   "source": []
  }
 ],
 "metadata": {
  "kernelspec": {
   "display_name": "learnmodel",
   "language": "python",
   "name": "python3"
  },
  "language_info": {
   "codemirror_mode": {
    "name": "ipython",
    "version": 3
   },
   "file_extension": ".py",
   "mimetype": "text/x-python",
   "name": "python",
   "nbconvert_exporter": "python",
   "pygments_lexer": "ipython3",
   "version": "3.7.12"
  }
 },
 "nbformat": 4,
 "nbformat_minor": 2
}
