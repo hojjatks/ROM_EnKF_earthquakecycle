{
 "cells": [
  {
   "cell_type": "code",
   "execution_count": 1,
   "metadata": {},
   "outputs": [],
   "source": [
    "import numpy as np\n",
    "import cte\n",
    "import matplotlib.pyplot as plt\n",
    "import matplotlib.font_manager as fm\n",
    "import matplotlib.gridspec as gridspec\n",
    "from scipy.interpolate import interp1d\n",
    "from ProcessFunctions import Find_T_X_tau_without_p_input,FindStarts_ends\n",
    "from matplotlib.patches import Rectangle \n"
   ]
  },
  {
   "cell_type": "markdown",
   "metadata": {},
   "source": [
    "# To do:\n",
    "* Find the event timing for QDYN, model N_m=20, and model N_m=30. As a check point, time of the event should give you zero for the PDE. (done)\n",
    "* The next step is to plot the rectangles for all of the plots (done)\n",
    "* The next step is to write a piece of code that record TimeStarts and rectangles (done)\n",
    "* find the true positive rupture extent (done)\n",
    "* find the false positive probability (done)\n",
    "* plot the histogram and pdfs (done)\n",
    "* make the code robust to when there is no event in the data, conditions like having no events or multiple events in the prediction, I think if there are multiple events, to study the quality of prediction, you should aggregate all of them (done).\n",
    "* try to make it work for all of the numbers (done)\n",
    "* write what you have done: remember to write that in the forecast If multiple partial ruptures are predicted predicted rupture extent is considered to be the sum of all of them.\n",
    "* conclusion is that I need to work on model with n=60 to improve the results. The model wih n=40 works well."
   ]
  },
  {
   "cell_type": "code",
   "execution_count": null,
   "metadata": {},
   "outputs": [],
   "source": []
  },
  {
   "cell_type": "markdown",
   "metadata": {},
   "source": [
    "This code is written to plot the prediction using the PDE as governing equation and estimated initial condition using data assimilation with ROM.\n",
    "To generate data for this code, you need to run `Fig_Stress_Vel_inversion.ipynb`\n"
   ]
  },
  {
   "cell_type": "code",
   "execution_count": 2,
   "metadata": {},
   "outputs": [],
   "source": [
    "Tf = 250 # each initial condition is simulated for 250 years\n",
    "Nt=5     # it is recorded every Nt time stes\n",
    "N_m_load=30\n",
    "coeff=2 # How the inital conditions are from the chaotic attractor\n",
    "Obs_linear=0\n",
    "N_t=4000\n",
    "m=80\n",
    "sigma_kernel=2000\n",
    "gamma_ratio=0.0001*5\n",
    "version=2024.11\n",
    "Mag_thresh=6.9\n",
    "tau=0.1\n",
    "L=cte.L_asp+cte.L_buffer  \n",
    "Nx=256\n",
    "T_final=10*tau*cte.t_yr # plotting 30 tau of simulation\n",
    "V_thresh=(5e-8) # to define an event\n",
    "L_thresh=1e3 # to define an event\n",
    "t_yr=cte.t_yr\n",
    "size_x=256\n",
    "size_y=32\n",
    "W=cte.W  \n",
    "x_ox=np.linspace(-L/2,L/2,size_x)\n",
    "z_ox=np.linspace(0,W,size_y)\n",
    "L_fault=L\n",
    "mu=30e9\n",
    "t_pred=0.4"
   ]
  },
  {
   "cell_type": "code",
   "execution_count": 3,
   "metadata": {},
   "outputs": [],
   "source": [
    "# for different inversions (denoted by number) and differnet ROM (denoted by N_m_v), we need to load the corresponding data\n",
    "N_m_v_list = [20,30]\n",
    "#numbers = [101,102]\n",
    "numbers = [101,102,103,104,105,106,107,108,109,110]\n",
    "# numbers=[110]\n",
    "data_PDE = []\n",
    "data_prediction_20 = []\n",
    "data_prediction_30 = []\n",
    "data_inversion_20 = []\n",
    "data_inversion_30 = []\n",
    "for i in range(len(numbers)):\n",
    "    number=numbers[i]\n",
    "    data_dir=\"/central/groups/astuart/hkaveh/Data/LearnROM/Dataset2/SampleSimulation_Tf\"+str(Tf)+\"Nt=\"+str(Nt)+\"N_m\"+str(N_m_load)+\"coeff\"+str(coeff)+\"number\"+str(number)+\".npz\"\n",
    "    data=np.load(data_dir)\n",
    "    data_PDE.append(data)\n",
    "    for j in range(len(N_m_v_list)):\n",
    "\n",
    "        N_m_v=N_m_v_list[j]\n",
    "        N_m_theta=N_m_v\n",
    "        data_dir_pred=\"/central/groups/astuart/hkaveh/Data/LearnROM/PredictionN_m_v\"+str(N_m_v)+\"N_m_theta\"+str(N_m_theta)+\"Obs_linear\"+str(Obs_linear)+\"N_t\"+str(N_t)+\"m\"+str(m)+\"sigma_kernel\"+str(sigma_kernel)+\"gamma_ratio\"+str(gamma_ratio)+\"version\"+str(version)+\"NumberinDataset\"+str(number)+\"tau\"+str(tau)+\"Mag_thresh\"+str(Mag_thresh)+\".npz\"\n",
    "        data=np.load(data_dir_pred,allow_pickle=True)\n",
    "        if N_m_v==20:\n",
    "            data_inversion=np.load(\"/central/groups/astuart/hkaveh/Data/LearnROM/EnKF_N_m_v\"+str(N_m_v)+\"N_m_theta\"+str(N_m_theta)+\"Obs_linear\"+str(Obs_linear)+\"N_t\"+str(N_t)+\"m\"+str(m)+\"sigma_kernel\"+str(sigma_kernel)+\"gamma_ratio\"+str(gamma_ratio)+\"version\"+str(version)+\"NumberinDataset\"+str(number)+'.npz')\n",
    "            data_inversion_20.append(data_inversion)\n",
    "            data_prediction_20.append(data)\n",
    "        elif N_m_v==30:\n",
    "            data_inversion=np.load(\"/central/groups/astuart/hkaveh/Data/LearnROM/EnKF_N_m_v\"+str(N_m_v)+\"N_m_theta\"+str(N_m_theta)+\"Obs_linear\"+str(Obs_linear)+\"N_t\"+str(N_t)+\"m\"+str(m)+\"sigma_kernel\"+str(sigma_kernel)+\"gamma_ratio\"+str(gamma_ratio)+\"version\"+str(version)+\"NumberinDataset\"+str(number)+'.npz')\n",
    "            data_inversion_30.append(data_inversion)\n",
    "            data_prediction_30.append(data)\n",
    "    "
   ]
  },
  {
   "cell_type": "code",
   "execution_count": 4,
   "metadata": {},
   "outputs": [],
   "source": [
    "# The inversion data is saved like : np.savez('/central/groups/astuart/hkaveh/Data/LearnROM/Prediction'+\"N_m_v\"+str(N_m_v)+\"N_m_theta\"+str(N_m_theta)+\"Obs_linear\"+str(Obs_linear)+\"N_t\"+str(N_t)+\"m\"+str(m)+\"sigma_kernel\"+str(sigma_kernel)+\"gamma_ratio\"+str(gamma_ratio)+\"version\"+str(version)+\"NumberinDataset\"+str(number)+\"tau\"+str(tau)+\"Mag_thresh\"+str(Mag_thresh)+\".npz\",V_ox_pred_events=V_ox_pred_events,t_ox_pred_events=t_ox_pred_events,TimeStarts_preds_events=TimeStarts_preds_events,Mags_preds_events=Mags_preds_events,index_events=index_events,TimeStarts_filtered=TimeStarts_filtered,TimeEnds_filtered=TimeEnds_filtered,rectangles_filtered=rectangles_filtered,Mags_filtered=Mags_filtered)\n"
   ]
  },
  {
   "cell_type": "code",
   "execution_count": 5,
   "metadata": {},
   "outputs": [],
   "source": [
    "# finding total number of events=nroww: pick one N_m_v. for all of the inversions sum the number of elements in Mags_filtered\n",
    "# writing this in one line\n",
    "nrows=sum([data_prediction_20[i]['Mags_filtered'].shape[0] for i in range(len(data_prediction_20))])"
   ]
  },
  {
   "cell_type": "code",
   "execution_count": 6,
   "metadata": {},
   "outputs": [],
   "source": [
    "letters=['a','b','c','d','e','f','g','h','i','j','k','l','m','n','o','p','q','r','s','t','u','v','w','x','y','z']"
   ]
  },
  {
   "cell_type": "code",
   "execution_count": 7,
   "metadata": {},
   "outputs": [],
   "source": [
    "def interpolate(time_interpolation,original_time,original_data,size_y,size_x):\n",
    "    output=np.zeros((len(time_interpolation),size_y,size_x))\n",
    "    for i in range(size_y):\n",
    "        for j in range(size_x):\n",
    "            f = interp1d(original_time[:,i,j], original_data[:,i,j], kind='linear')\n",
    "            output[:,i,j]=f(time_interpolation)\n",
    "    return output"
   ]
  },
  {
   "cell_type": "code",
   "execution_count": 8,
   "metadata": {},
   "outputs": [],
   "source": [
    "# making a nice plot for the paper\n",
    "\n",
    "# I am thinking of of 3 collomn figure with the first coloumn to be the QDYN simulation, the second one with N_m=20 and the third one to be N_m=30. \n",
    "# This should be a good idea that you can also see the difference in the forecast as well.\n",
    "# this block is plotted without interpolation so you can see some white shades. \n",
    "# In the next block I interpolate things, so there is no white shade.\n",
    "# To make this plot, I think it is better that you have already saved everything in the variables.\n",
    "V_thresh_min=1e-9\n",
    "V_thresh_max=1e-6  \n",
    "x_ox=np.linspace(-L/2,L/2,Nx) \n",
    "# 1- define the figure size and the font size\n",
    "fig = plt.figure(figsize=(7.4, nrows*3.7))\n",
    "serif_font = fm.FontProperties(family=\"serif\", size=8)\n",
    "cmap='jet'\n",
    "    # Use serif font and set font size for all text in the figure\n",
    "plt.rc('font', family='serif')\n",
    "plt.rcParams.update({'font.family': 'serif'})\n",
    "plt.rcParams.update({'font.size': 8})\n",
    "height_ratios=([1]*nrows)\n",
    "height_ratios.append(0.1)\n",
    "gs = gridspec.GridSpec(nrows=nrows+1, ncols=3,width_ratios=[1,1,1],height_ratios=height_ratios) # I put 2 columns for now to wait to see how does the system look like for N_m=30\n",
    "index_row_plot=0\n",
    "cax=fig.add_subplot(gs[-1, :])  \n",
    "shift_string=10\n",
    "for index in range(len(numbers)):\n",
    "#for index in range(1): # for example when index=0 number =101\n",
    "    time_start_events_PDE=data_prediction_20[index]['TimeStarts_filtered']\n",
    "    t_0_inversion=data_inversion_20[index]['t_0']\n",
    "    V_ox_pred_events_20=data_prediction_20[index][\"V_ox_pred_events\"]\n",
    "    V_ox_pred_events_30=data_prediction_30[index][\"V_ox_pred_events\"]\n",
    "    t_ox_pred_events_20=data_prediction_20[index][\"t_ox_pred_events\"]\n",
    "    t_ox_pred_events_30=data_prediction_30[index][\"t_ox_pred_events\"]\n",
    "    # run the code to plot things\n",
    "    for event_counter in range(data_prediction_20[index]['Mags_filtered'].shape[0]): # number of events in the indexth number\n",
    "        ax_qdyn= fig.add_subplot(gs[index_row_plot, 0]) # True slip rate\n",
    "        ax_Nm20= fig.add_subplot(gs[index_row_plot, 1]) # Observed slip rate\n",
    "        ax_Nm30= fig.add_subplot(gs[index_row_plot, 2]) # Observed slip rate\n",
    "        string_qdyn='('+letters[index_row_plot]+'1)'\n",
    "        string_20='('+letters[index_row_plot]+'2)'\n",
    "        string_30='('+letters[index_row_plot]+'3)'\n",
    "        # cax1 = fig.add_subplot(gs[index_row_plot, 1])  \n",
    "        # cax2 = fig.add_subplot(gs[index_row_plot, 3]) \n",
    "        # cax3 = fig.add_subplot(gs[index_row_plot, 5])\n",
    "        # loading data in data_PDE[index]\n",
    "        V_ox=data_PDE[index]['array1']\n",
    "        theta_ox=data_PDE[index]['array2']\n",
    "        t_ox=data_PDE[index]['array3']\n",
    "        # loading time of the start of the events: TimeStarts_filtered, this number should be added to start time which is the time that inversion starts\n",
    "\n",
    "\n",
    "        # Plotting the QDYN acutual slip profile for the events\n",
    "        V_dip_mean=np.max(V_ox,axis=1).T   # Mean Velocity along the dip\n",
    "        Nt=t_ox.shape[0]\n",
    "        x_ox_t=np.vstack([x_ox]*Nt).T \n",
    "        time=np.max(t_ox,axis=1).T \n",
    "        PrettyTime=np.reshape(time.T,-1)\n",
    "        Prettyx=np.reshape(x_ox_t.T,-1)\n",
    "        PrettyV=np.reshape(V_dip_mean.T,-1)\n",
    "        xlimleft=((time_start_events_PDE[event_counter]+t_0_inversion)/cte.t_yr)\n",
    "        xlimright=((time_start_events_PDE[event_counter]+t_0_inversion)/cte.t_yr)+(T_final/cte.t_yr)\n",
    "        \n",
    "        pl=ax_qdyn.scatter(PrettyTime/cte.t_yr-xlimleft,Prettyx*1e-3,marker=\".\",c=np.log10(PrettyV),cmap=cmap,linewidths=1,vmin=np.log10(V_thresh_min),vmax=np.log10(V_thresh_max))  \n",
    "        ax_qdyn.set_ylabel(r'Distance along strike (km)',fontproperties=serif_font)\n",
    "\n",
    "        ax_qdyn.set_xlim(left=-tau,right=-tau+(T_final/cte.t_yr))\n",
    "        # b=fig.colorbar(pl,cax=cax1)\n",
    "        # b.set_label(label=r'$log_{10}(V(m/s))$',fontproperties=serif_font)\n",
    "        ax_qdyn.set_ylim(bottom=-L/2/1e3,top=L/2/1e3)\n",
    "        index_row_plot+=1\n",
    "        ax_qdyn.text(-tau,L/2/1000+shift_string,string_qdyn)\n",
    "\n",
    "        # plotting N_m_v=20\n",
    "        V_dip_mean=np.max(V_ox_pred_events_20[event_counter],axis=1).T   # Mean Velocity along the dip\n",
    "        Nt=t_ox_pred_events_20[event_counter].shape[0]\n",
    "        x_ox_t=np.vstack([x_ox]*Nt).T \n",
    "        x_ox_t=np.vstack([x_ox]*Nt).T \n",
    "        time=np.max(t_ox_pred_events_20[event_counter],axis=1).T # what? simply getting rid of the axis 1 because axis 0 and 1 have the same value for time\n",
    "        \n",
    "        PrettyTime=np.reshape(time.T,-1)\n",
    "        Prettyx=np.reshape(x_ox_t.T,-1)\n",
    "        PrettyV=np.reshape(V_dip_mean.T,-1)\n",
    "        pl=ax_Nm20.scatter(PrettyTime/cte.t_yr-tau,Prettyx*1e-3,marker=\".\",c=np.log10(PrettyV),cmap=cmap,linewidths=1,vmin=np.log10(V_thresh_min),vmax=np.log10(V_thresh_max))\n",
    "        ax_Nm20.set_xlim(left=-tau,right=-tau+T_final/cte.t_yr)\n",
    "\n",
    "        # ax_Nm20.set_xlabel(r'Time (year)',fontproperties=serif_font)\n",
    "        # ax_Nm20.set_ylabel(r'Distance along strike (km)',fontproperties=serif_font)\n",
    "        # b=fig.colorbar(pl,cax=cax2)\n",
    "        # b.set_label(label=r'$log_{10}(V(m/s))$',fontproperties=serif_font)\n",
    "        ax_Nm20.set_ylim(bottom=-L/2/1e3,top=L/2/1e3)\n",
    "        ax_Nm20.text(-tau,L/2/1000+shift_string,string_20)\n",
    "\n",
    "        # plotting N_m_v=30\n",
    "        V_dip_mean=np.max(V_ox_pred_events_30[event_counter],axis=1).T   # Mean Velocity along the dip\n",
    "        Nt=t_ox_pred_events_30[event_counter].shape[0]\n",
    "        x_ox_t=np.vstack([x_ox]*Nt).T\n",
    "        time=np.max(t_ox_pred_events_30[event_counter],axis=1).T \n",
    "        PrettyTime=np.reshape(time.T,-1)\n",
    "        Prettyx=np.reshape(x_ox_t.T,-1)\n",
    "        PrettyV=np.reshape(V_dip_mean.T,-1)\n",
    "        pl=ax_Nm30.scatter(PrettyTime/cte.t_yr-tau,Prettyx*1e-3,marker=\".\",c=np.log10(PrettyV),cmap=cmap,linewidths=1,vmin=np.log10(V_thresh_min),vmax=np.log10(V_thresh_max))\n",
    "        ax_Nm30.set_xlim(left=-tau,right=-tau+T_final/cte.t_yr)\n",
    "        # ax_Nm30.set_xlabel(r'Time (year)',fontproperties=serif_font)\n",
    "        # ax_Nm30.set_ylabel(r'Distance along strike (km)',fontproperties=serif_font)\n",
    "        # b=fig.colorbar(pl,cax=cax3)\n",
    "        # b.set_label(label=r'$log_{10}(V(m/s))$',fontproperties=serif_font)\n",
    "        ax_Nm30.set_ylim(bottom=-L/2/1e3,top=L/2/1e3)\n",
    "        ax_Nm30.text(-tau,L/2/1000+shift_string,string_30)\n",
    "        # removing y ticks and y numbers \n",
    "        #ax_qdyn.set_yticks([])\n",
    "        ax_Nm20.set_yticks([])\n",
    "        ax_Nm30.set_yticks([])\n",
    "        \n",
    "    \n",
    "    # putting the xlable outside both of the loops to only print the lable for the last row\n",
    "ax_qdyn.set_xlabel(r'Time (year)',fontproperties=serif_font)\n",
    "ax_Nm20.set_xlabel(r'Time (year)',fontproperties=serif_font)\n",
    "ax_Nm30.set_xlabel(r'Time (year)',fontproperties=serif_font)\n",
    "b=fig.colorbar(pl,cax=cax,orientation='horizontal')\n",
    "b.set_label(label=r'$log_{10}(V(m/s))$',fontproperties=serif_font)\n",
    "\n",
    "    \n",
    "    \n",
    "plt.show()\n"
   ]
  },
  {
   "cell_type": "code",
   "execution_count": null,
   "metadata": {},
   "outputs": [],
   "source": [
    "N_time=int(T_final/(2*3600))\n",
    "time_interpolation=np.linspace(0,T_final,N_time)\n"
   ]
  },
  {
   "cell_type": "code",
   "execution_count": null,
   "metadata": {},
   "outputs": [
    {
     "data": {
      "text/plain": [
       "7884.0"
      ]
     },
     "execution_count": 11,
     "metadata": {},
     "output_type": "execute_result"
    }
   ],
   "source": [
    "1*365*24*3600/4000"
   ]
  },
  {
   "cell_type": "code",
   "execution_count": null,
   "metadata": {},
   "outputs": [],
   "source": [
    "# Expand the dimensions of 'a' to make it (1000, 1, 1)\n",
    "t_expanded = time_interpolation[:, np.newaxis, np.newaxis]\n",
    "\n",
    "# Use np.tile to copy the values along the other dimensions\n",
    "t_expanded = np.tile(t_expanded, (1, 32, 256))\n"
   ]
  },
  {
   "cell_type": "code",
   "execution_count": null,
   "metadata": {},
   "outputs": [],
   "source": [
    "def PlotRectangle(axes,rectangles):\n",
    "    # This is a function to plot rectangles for to show the event start and end and the rupture extent\n",
    "    Nrectangles=int(rectangles.size/4)\n",
    "    rectangles=np.reshape(rectangles,(Nrectangles,4))\n",
    "        \n",
    "    for i in range(Nrectangles):\n",
    "        axes.add_patch( Rectangle((rectangles[i,0], rectangles[i,1]), rectangles[i,2], rectangles[i,3], fc ='none',  ec ='w', lw = 3) ) \n",
    "    return axes\n",
    "        "
   ]
  },
  {
   "cell_type": "code",
   "execution_count": null,
   "metadata": {},
   "outputs": [],
   "source": [
    "def add_array(events,event_name, rectangles):\n",
    "    # this function is written to add the rectangles to the dictionary\n",
    "    if event_name not in events:\n",
    "        events[event_name] = []  # Create a new list for the event\n",
    "    \n",
    "    Nrectangles=int(rectangles.size/4) # counding number of rectangles\n",
    "    rectangles=np.reshape(rectangles,(Nrectangles,4))\n",
    "    for index in range(Nrectangles):\n",
    "        events[event_name].append(rectangles[index,:].reshape(4, 1))  # Append the array to the event's list\n",
    "        print(rectangles[index,:].reshape(4, 1))\n",
    "    return events"
   ]
  },
  {
   "cell_type": "code",
   "execution_count": null,
   "metadata": {},
   "outputs": [],
   "source": [
    "Time_lag20=[] # recording the time lags here for N_m=20\n",
    "Time_lag30=[] # recording the time lags here for N_m=30\n",
    "# All_rectangles_PDE= np.empty((4, 1)) \n",
    "# All_rectangles_20= np.empty((4, 1)) \n",
    "# All_rectangles_30= np.empty((4, 1)) \n",
    "events_PDE= {}\n",
    "events_20 ={}\n",
    "events_30 ={}\n",
    "\n"
   ]
  },
  {
   "cell_type": "code",
   "execution_count": null,
   "metadata": {},
   "outputs": [
    {
     "name": "stdout",
     "output_type": "stream",
     "text": [
      "(4382, 256)\n",
      "(4382, 256)\n",
      "456\n",
      "2099\n",
      "Time Starts for PDE is[0.00408583]\n",
      "[[ 4.08582515e-03]\n",
      " [-9.60000000e+01]\n",
      " [ 3.75028532e-01]\n",
      " [ 1.36784314e+02]]\n",
      "(4382, 256)\n",
      "(4382, 256)\n",
      "2335\n",
      "2980\n",
      "Time Starts for N_m=20 is[0.43298334]\n",
      "[[  0.43298334]\n",
      " [-14.43137255]\n",
      " [  0.14722666]\n",
      " [ 35.1372549 ]]\n",
      "(4382, 256)\n",
      "(4382, 256)\n",
      "472\n",
      "870\n",
      "(4382, 256)\n",
      "(4382, 256)\n",
      "0.00773795937000684\n",
      "(4382, 256)\n",
      "(4382, 256)\n",
      "843\n",
      "1265\n",
      "(4382, 256)\n",
      "(4382, 256)\n",
      "0.09242182150194017\n",
      "Time Starts for N_m=30 is[0.00773796 0.09242182]\n",
      "[[ 7.73795937e-03]\n",
      " [-6.33725490e+01]\n",
      " [ 9.08468386e-02]\n",
      " [ 4.39215686e+01]]\n",
      "[[9.24218215e-02]\n",
      " [1.07294118e+02]\n",
      " [9.63250399e-02]\n",
      " [4.39215686e+01]]\n"
     ]
    },
    {
     "data": {
      "image/png": "[encoded data removed]",
      "text/plain": [
       "<Figure size 370x370 with 4 Axes>"
      ]
     },
     "metadata": {},
     "output_type": "display_data"
    }
   ],
   "source": [
    "# making a nice plot for the paper\n",
    "# I am thinking of of 3 collomn figure with the first coloumn to be the QDYN simulation, the second one with N_m=20 and the third one to be N_m=30. \n",
    "# This should be a good idea that you can also see the difference in the forecast as well.\n",
    "\n",
    "# To make this plot, I think it is better that you have already saved everything in the variables.\n",
    "V_thresh_min=1e-9\n",
    "V_thresh_max=1e-6  \n",
    "x_ox=np.linspace(-L/2,L/2,Nx) \n",
    "# 1- define the figure size and the font size\n",
    "fig = plt.figure(figsize=(3.7, nrows*3.7))\n",
    "serif_font = fm.FontProperties(family=\"serif\", size=8)\n",
    "cmap='jet'\n",
    "    # Use serif font and set font size for all text in the figure\n",
    "plt.rc('font', family='serif')\n",
    "plt.rcParams.update({'font.family': 'serif'})\n",
    "plt.rcParams.update({'font.size': 8})\n",
    "height_ratios=([1]*nrows)\n",
    "height_ratios.append(0.1)\n",
    "gs = gridspec.GridSpec(nrows=nrows+1, ncols=3,width_ratios=[1,1,1],height_ratios=height_ratios) # I put 2 columns for now to wait to see how does the system look like for N_m=30\n",
    "index_row_plot=0\n",
    "cax=fig.add_subplot(gs[-1, :])  \n",
    "shift_string=10\n",
    "for index in range(len(numbers)):\n",
    "    time_start_events_PDE=data_prediction_20[index]['TimeStarts_filtered']\n",
    "    t_0_inversion=data_inversion_20[index]['t_0']\n",
    "    V_ox_pred_events_20=data_prediction_20[index][\"V_ox_pred_events\"]\n",
    "    V_ox_pred_events_30=data_prediction_30[index][\"V_ox_pred_events\"]\n",
    "    t_ox_pred_events_20=data_prediction_20[index][\"t_ox_pred_events\"]\n",
    "    t_ox_pred_events_30=data_prediction_30[index][\"t_ox_pred_events\"]\n",
    "    # run the code to plot things\n",
    "    for event_counter in range(data_prediction_20[index]['Mags_filtered'].shape[0]): # number of events in the indexth number\n",
    "        event_name=\"event #\"+str(index_row_plot)\n",
    "        ax_qdyn= fig.add_subplot(gs[index_row_plot, 0]) # True slip rate\n",
    "        ax_Nm20= fig.add_subplot(gs[index_row_plot, 1]) # Observed slip rate\n",
    "        ax_Nm30= fig.add_subplot(gs[index_row_plot, 2]) # Observed slip rate\n",
    "        string_qdyn='('+letters[index_row_plot]+'1)'\n",
    "        string_20='('+letters[index_row_plot]+'2)'\n",
    "        string_30='('+letters[index_row_plot]+'3)'\n",
    "        # cax1 = fig.add_subplot(gs[index_row_plot, 1])  \n",
    "        # cax2 = fig.add_subplot(gs[index_row_plot, 3]) \n",
    "        # cax3 = fig.add_subplot(gs[index_row_plot, 5])\n",
    "        # loading data in data_PDE[index]\n",
    "        V_ox=data_PDE[index]['array1']\n",
    "        theta_ox=data_PDE[index]['array2']\n",
    "        t_ox=data_PDE[index]['array3']\n",
    "        xlimleft=((time_start_events_PDE[event_counter]+t_0_inversion)/cte.t_yr)-tau # time when event happen plus the time of the start of inversion gives the absolute time when an event start in t_ox, note that we use estimation at taw before the absolute time of an event, so if you want to interpolate and compare you need to subtract taw from the abolute time of an event \n",
    "        V_ox_interpolated=interpolate(time_interpolation+xlimleft*cte.t_yr,t_ox,V_ox,V_ox.shape[1],V_ox.shape[2])\n",
    "        # loading time of the start of the events: TimeStarts_filtered, this number should be added to start time which is the time that inversion starts\n",
    "\n",
    "        TimeStarts_PDE,TimeEnds_PDE,rectangles_PDE,Mags_PDE=Find_T_X_tau_without_p_input(V_ox_interpolated,t_expanded-tau*t_yr,V_thresh,L_thresh,t_yr,x_ox,z_ox,L_fault,mu) # finding the timing and the extent of the PDE. If everything is correct TimeStarts should be very close to zero\n",
    "        print(\"Time Starts for PDE is\" +str(TimeStarts_PDE/t_yr))\n",
    "        i=0\n",
    "        \n",
    "        \n",
    "        # Plotting the QDYN acutual slip profile for the events\n",
    "        V_dip_mean=np.max(V_ox_interpolated,axis=1).T   # Mean Velocity along the dip\n",
    "        Nt=time_interpolation.shape[0]\n",
    "        x_ox_t=np.vstack([x_ox]*Nt).T \n",
    "        time=np.max(t_expanded,axis=1).T \n",
    "        PrettyTime=np.reshape(time.T,-1)\n",
    "        Prettyx=np.reshape(x_ox_t.T,-1)\n",
    "        PrettyV=np.reshape(V_dip_mean.T,-1)\n",
    "        pl=ax_qdyn.scatter(PrettyTime/cte.t_yr-tau,Prettyx*1e-3,marker=\".\",c=np.log10(PrettyV),cmap=cmap,linewidths=1,vmin=np.log10(V_thresh_min),vmax=np.log10(V_thresh_max))  \n",
    "        ax_qdyn.set_ylabel(r'Distance along strike (km)',fontproperties=serif_font)\n",
    "        ax_qdyn=PlotRectangle(ax_qdyn,rectangles_PDE)\n",
    "        # All_rectangles_PDE = np.append(All_rectangles_PDE, rectangles_PDE[:4].reshape(4, 1), axis=1)\n",
    "        events_PDE=add_array(events_PDE,event_name, rectangles_PDE)\n",
    "        #xlimleft=(time_start_events_PDE[event_counter]+t_0_inversion)/cte.t_yr\n",
    "        #xlimright=(time_start_events_PDE[event_counter]+t_0_inversion)/cte.t_yr+T_final/cte.t_yr\n",
    "        ax_qdyn.set_xlim(left=-tau,right=-tau+T_final/cte.t_yr)\n",
    "        # b=fig.colorbar(pl,cax=cax1)\n",
    "        # b.set_label(label=r'$log_{10}(V(m/s))$',fontproperties=serif_font)\n",
    "        ax_qdyn.set_ylim(bottom=-L/2/1e3,top=L/2/1e3)\n",
    "        index_row_plot+=1\n",
    "        ax_qdyn.text(-tau,L/2/1000+shift_string,string_qdyn)\n",
    "        # plotting N_m_v=20\n",
    "        V_ox_pred_events_20_interpolated=interpolate(time_interpolation,t_ox_pred_events_20[event_counter],V_ox_pred_events_20[event_counter],V_ox_pred_events_20[event_counter].shape[1],V_ox_pred_events_20[event_counter].shape[2])\n",
    "        TimeStarts_20,TimeEnds_20,rectangles_20,Mags_20=Find_T_X_tau_without_p_input(V_ox_pred_events_20_interpolated,t_expanded-tau*t_yr,V_thresh,L_thresh,t_yr,x_ox,z_ox,L_fault,mu)\n",
    "        print(\"Time Starts for N_m=20 is\" +str(TimeStarts_20/t_yr))\n",
    "        #PlotRectangle(axes,rectangles)\n",
    "        V_dip_mean=np.max(V_ox_pred_events_20_interpolated,axis=1).T   # Mean Velocity along the dip\n",
    "        Nt=time_interpolation.shape[0]\n",
    "        x_ox_t=np.vstack([x_ox]*Nt).T \n",
    "        x_ox_t=np.vstack([x_ox]*Nt).T \n",
    "        time=np.max(t_expanded,axis=1).T # what? simply getting rid of the axis 1 because axis 0 and 1 have the same value for time\n",
    "        \n",
    "        PrettyTime=np.reshape(time.T,-1)\n",
    "        Prettyx=np.reshape(x_ox_t.T,-1)\n",
    "        PrettyV=np.reshape(V_dip_mean.T,-1)\n",
    "        pl=ax_Nm20.scatter(PrettyTime/cte.t_yr-tau,Prettyx*1e-3,marker=\".\",c=np.log10(PrettyV),cmap=cmap,linewidths=1,vmin=np.log10(V_thresh_min),vmax=np.log10(V_thresh_max))\n",
    "        ax_Nm20.set_xlim(left=-tau,right=-tau+(T_final/cte.t_yr))\n",
    "\n",
    "        # ax_Nm20.set_xlabel(r'Time (year)',fontproperties=serif_font)\n",
    "        # ax_Nm20.set_ylabel(r'Distance along strike (km)',fontproperties=serif_font)\n",
    "        # b=fig.colorbar(pl,cax=cax2)\n",
    "        # b.set_label(label=r'$log_{10}(V(m/s))$',fontproperties=serif_font)\n",
    "        ax_Nm20.set_ylim(bottom=-L/2/1e3,top=L/2/1e3)\n",
    "        ax_Nm20.text(-tau,L/2/1000+shift_string,string_20)\n",
    "        ax_Nm20=PlotRectangle(ax_Nm20,rectangles_20)\n",
    "        Time_lag20.append((TimeStarts_20[0]-TimeStarts_PDE[0])/t_yr)\n",
    "        # All_rectangles_20 = np.append(All_rectangles_20, rectangles_20[:4].reshape(4, 1), axis=1)\n",
    "        \n",
    "        events_20=add_array(events_20,event_name, rectangles_20)\n",
    "        \n",
    "        # plotting N_m_v=30\n",
    "        V_ox_pred_events_30_interpolated=interpolate(time_interpolation,t_ox_pred_events_30[event_counter],V_ox_pred_events_30[event_counter],V_ox_pred_events_30[event_counter].shape[1],V_ox_pred_events_30[event_counter].shape[2])\n",
    "        TimeStarts_30,TimeEnds_30,rectangles_30,Mags_30=Find_T_X_tau_without_p_input(V_ox_pred_events_30_interpolated,t_expanded-tau*t_yr,V_thresh,L_thresh,t_yr,x_ox,z_ox,L_fault,mu)\n",
    "        print(\"Time Starts for N_m=30 is\" +str(TimeStarts_30/t_yr)) \n",
    "        V_dip_mean=np.max(V_ox_pred_events_30_interpolated,axis=1).T   # Mean Velocity along the dip\n",
    "        Nt=time_interpolation.shape[0]\n",
    "        x_ox_t=np.vstack([x_ox]*Nt).T\n",
    "        time=np.max(t_expanded,axis=1).T \n",
    "        PrettyTime=np.reshape(time.T,-1)\n",
    "        Prettyx=np.reshape(x_ox_t.T,-1)\n",
    "        PrettyV=np.reshape(V_dip_mean.T,-1)\n",
    "        pl=ax_Nm30.scatter(PrettyTime/cte.t_yr-tau,Prettyx*1e-3,marker=\".\",c=np.log10(PrettyV),cmap=cmap,linewidths=1,vmin=np.log10(V_thresh_min),vmax=np.log10(V_thresh_max))\n",
    "        ax_Nm30.set_xlim(left=-tau,right=-tau+(T_final/cte.t_yr))\n",
    "        # ax_Nm30.set_xlabel(r'Time (year)',fontproperties=serif_font)\n",
    "        # ax_Nm30.set_ylabel(r'Distance along strike (km)',fontproperties=serif_font)\n",
    "        # b=fig.colorbar(pl,cax=cax3)\n",
    "        # b.set_label(label=r'$log_{10}(V(m/s))$',fontproperties=serif_font)\n",
    "        ax_Nm30.set_ylim(bottom=-L/2/1e3,top=L/2/1e3)\n",
    "        ax_Nm30.text(-tau,L/2/1000+shift_string,string_30)\n",
    "        ax_Nm30=PlotRectangle(ax_Nm30,rectangles_30)\n",
    "        Time_lag30.append((TimeStarts_30[0]-TimeStarts_PDE[0])/t_yr)\n",
    "        # All_rectangles_30 = np.append(All_rectangles_30, rectangles_30[:4].reshape(4, 1), axis=1)\n",
    "\n",
    "        events_30=add_array(events_30,event_name, rectangles_30)\n",
    "\n",
    "        # removing y ticks and y numbers \n",
    "        #ax_qdyn.set_yticks([])\n",
    "        ax_Nm20.set_yticks([])\n",
    "        ax_Nm30.set_yticks([])\n",
    "        \n",
    "    \n",
    "    # putting the xlable outside both of the loops to only print the lable for the last row\n",
    "ax_qdyn.set_xlabel(r'Time (year)',fontproperties=serif_font)\n",
    "ax_Nm20.set_xlabel(r'Time (year)',fontproperties=serif_font)\n",
    "ax_Nm30.set_xlabel(r'Time (year)',fontproperties=serif_font)\n",
    "b=fig.colorbar(pl,cax=cax,orientation='horizontal')\n",
    "b.set_label(label=r'$log_{10}(V(m/s))$',fontproperties=serif_font)\n",
    "\n",
    "# All_rectangles_PDE=All_rectangles_PDE[:,1:]\n",
    "# All_rectangles_20=All_rectangles_20[:,1:]\n",
    "# All_rectangles_30=All_rectangles_30[:,1:]\n",
    "\n",
    "plt.tight_layout()\n",
    "plt.savefig('/central/groups/astuart/hkaveh/Figs/ROM/prediction_performace.png',dpi=300,bbox_inches='tight')\n",
    "plt.show()\n",
    "\n"
   ]
  },
  {
   "cell_type": "code",
   "execution_count": null,
   "metadata": {},
   "outputs": [],
   "source": [
    "# writing a function to find the rupture extent, given the rectangles for the PDE and the rectangles from the prediction"
   ]
  },
  {
   "cell_type": "code",
   "execution_count": null,
   "metadata": {},
   "outputs": [],
   "source": []
  },
  {
   "cell_type": "code",
   "execution_count": null,
   "metadata": {},
   "outputs": [],
   "source": [
    "def find_rup_extent(x_ox,Recs_Pred):\n",
    "    # This function is written to find the rupture extent of prediction. It works when you have more than one event in your prediction.\n",
    "    N_events_pred=len(Recs_Pred)\n",
    "    # make a false like array as in x_ox\n",
    "    x_ruptured_pred=np.full(x_ox.shape, False, dtype=bool)\n",
    "    for index in range(N_events_pred):\n",
    "        x_ruptured_inedx=((x_ox/1e3>= Recs_Pred[index][1]) & (x_ox/1e3<= Recs_Pred[index][1] + Recs_Pred[index][3]))\n",
    "        x_ruptured_pred=x_ruptured_inedx | x_ruptured_pred # This or here, aggregates the rupture extent of all the events\n",
    "    return x_ruptured_pred"
   ]
  },
  {
   "cell_type": "code",
   "execution_count": null,
   "metadata": {},
   "outputs": [],
   "source": []
  },
  {
   "cell_type": "code",
   "execution_count": null,
   "metadata": {},
   "outputs": [],
   "source": [
    "True_pos_ratio_20=[]\n",
    "True_pos_ratio_30=[]\n",
    "False_pos_ratio_20=[]\n",
    "False_pos_ratio_30=[]"
   ]
  },
  {
   "cell_type": "code",
   "execution_count": null,
   "metadata": {},
   "outputs": [],
   "source": []
  },
  {
   "cell_type": "code",
   "execution_count": null,
   "metadata": {},
   "outputs": [
    {
     "data": {
      "image/png": "[encoded data removed]",
      "text/plain": [
       "<Figure size 640x480 with 1 Axes>"
      ]
     },
     "metadata": {},
     "output_type": "display_data"
    }
   ],
   "source": [
    "for index in range(len(events_30)):\n",
    "    event_name='event #'+str(index)\n",
    "    x_ruptured_PDE=find_rup_extent(x_ox,events_PDE[event_name])\n",
    "    x_ruptured_20=find_rup_extent(x_ox,events_20[event_name])\n",
    "    x_ruptured_30=find_rup_extent(x_ox,events_30[event_name])\n",
    "    \n",
    "    plt.figure()\n",
    "    plt.scatter(x_ox/1e3,x_ruptured_PDE,color='black',label='PDE',linewidth=10)\n",
    "    plt.scatter(x_ox/1e3,x_ruptured_20,color='red',label='N_m=20',linewidth=5)\n",
    "    plt.scatter(x_ox/1e3,x_ruptured_30,color='blue',label='N_m=30',linewidth=1)\n",
    "    plt.legend()\n",
    "    plt.xlabel('Distance along strike (km)')\n",
    "    plt.ylabel('Rupture extent')\n",
    "    \n",
    "    \n",
    "    \n",
    "    \n",
    "    \n",
    "    True_pos_ratio_20.append(np.sum(x_ruptured_PDE & x_ruptured_20)/np.sum(x_ruptured_PDE))   # x_ruptured_PDE & x_ruptured_20 gives me the intersection of the two arrays\n",
    "    True_pos_ratio_30.append(np.sum(x_ruptured_PDE & x_ruptured_30)/np.sum(x_ruptured_PDE))    # same as previous but for N_m=30\n",
    "    False_pos_ratio_20.append(np.sum(x_ruptured_20 & ~x_ruptured_PDE)/np.sum(~x_ruptured_PDE)) # x_ruptured_20 & ~x_ruptured_PDE gives the extent that we have predicted to rupture but has not ruptured in the PDE\n",
    "    False_pos_ratio_30.append(np.sum(x_ruptured_30 & ~x_ruptured_PDE)/np.sum(~x_ruptured_PDE)) # same as previous but for N_m=30"
   ]
  },
  {
   "cell_type": "code",
   "execution_count": null,
   "metadata": {},
   "outputs": [
    {
     "name": "stdout",
     "output_type": "stream",
     "text": [
      "[0.2636363636363636]\n",
      "[0.32727272727272727]\n",
      "[0.0]\n",
      "[0.2465753424657534]\n"
     ]
    }
   ],
   "source": [
    "print(True_pos_ratio_20)\n",
    "print(True_pos_ratio_30)\n",
    "print(False_pos_ratio_20)\n",
    "print(False_pos_ratio_30)"
   ]
  },
  {
   "cell_type": "code",
   "execution_count": null,
   "metadata": {},
   "outputs": [
    {
     "data": {
      "text/plain": [
       "[0.0036521342159324347]"
      ]
     },
     "execution_count": 22,
     "metadata": {},
     "output_type": "execute_result"
    }
   ],
   "source": [
    "Time_lag30"
   ]
  },
  {
   "cell_type": "code",
   "execution_count": null,
   "metadata": {},
   "outputs": [
    {
     "data": {
      "text/plain": [
       "[0.2636363636363636]"
      ]
     },
     "execution_count": 23,
     "metadata": {},
     "output_type": "execute_result"
    }
   ],
   "source": [
    "True_pos_ratio_20"
   ]
  },
  {
   "cell_type": "code",
   "execution_count": null,
   "metadata": {},
   "outputs": [
    {
     "data": {
      "text/plain": [
       "[0.32727272727272727]"
      ]
     },
     "execution_count": 24,
     "metadata": {},
     "output_type": "execute_result"
    }
   ],
   "source": [
    "True_pos_ratio_30"
   ]
  },
  {
   "cell_type": "code",
   "execution_count": null,
   "metadata": {},
   "outputs": [],
   "source": [
    "dt=0.05\n",
    "dp=0.1\n",
    "bins_t = np.arange(-tau-dt/2, T_final/cte.t_yr+dt/2, dt) \n",
    "bins_prob=np.arange(0,1.0001,0.1)\n"
   ]
  },
  {
   "cell_type": "code",
   "execution_count": null,
   "metadata": {},
   "outputs": [
    {
     "data": {
      "text/plain": [
       "array([-0.125, -0.075, -0.025,  0.025,  0.075,  0.125,  0.175,  0.225,\n",
       "        0.275,  0.325,  0.375,  0.425,  0.475,  0.525,  0.575,  0.625,\n",
       "        0.675,  0.725,  0.775,  0.825,  0.875,  0.925,  0.975])"
      ]
     },
     "execution_count": 26,
     "metadata": {},
     "output_type": "execute_result"
    }
   ],
   "source": [
    "bins_t"
   ]
  },
  {
   "cell_type": "code",
   "execution_count": null,
   "metadata": {},
   "outputs": [
    {
     "data": {
      "image/png": "[encoded data removed]",
      "text/plain": [
       "<Figure size 740x370 with 3 Axes>"
      ]
     },
     "metadata": {},
     "output_type": "display_data"
    }
   ],
   "source": [
    "# Plotting a figure with three subplots, first subplot shows the distribution of Time_starts, second subplot shows the distribution of True_pos_ratio and the third subplot shows the distribution of False_pos_ratio\n",
    "fig, axs = plt.subplots(1, 3, figsize=(7.4, 3.7))\n",
    "# find the index in which Time_lag20 is nan\n",
    "\n",
    "axs[0].hist(Time_lag20, bins=bins_t, color='red',alpha=0.5)\n",
    "axs[0].hist(Time_lag30, bins=bins_t, color='blue',alpha=0.5)\n",
    "axs[1].hist(True_pos_ratio_20, bins=bins_prob, color='red',alpha=0.5)\n",
    "axs[1].hist(True_pos_ratio_30, bins=bins_prob, color='blue',alpha=0.5)\n",
    "axs[2].hist(False_pos_ratio_20, bins=bins_prob, color='red',alpha=0.5)\n",
    "axs[2].hist(False_pos_ratio_30, bins=bins_prob, color='blue',alpha=0.5)\n",
    "axs[0].legend([r'$n=40$', r'$n=60$'])\n",
    "axs[1].legend([r'$n=40$', r'$n=60$'])\n",
    "axs[2].legend([r'$n=40$', r'$n=60$'])\n",
    "axs[0].set_xlabel('Time lag (year)')\n",
    "axs[0].set_ylabel('Frequency')\n",
    "axs[1].set_xlabel('True positive ratio')\n",
    "axs[1].set_ylabel('Frequency')\n",
    "axs[2].set_xlabel('False positive ratio')\n",
    "axs[2].set_ylabel('Frequency')\n",
    "axs[1].set_xlim(0,1)\n",
    "axs[2].set_xlim(0,1)\n",
    "plt.tight_layout()\n",
    "# save the figure\n",
    "plt.savefig('/central/groups/astuart/hkaveh/Figs/ROM/Performance_metrics.png',dpi=300,bbox_inches='tight')"
   ]
  },
  {
   "cell_type": "code",
   "execution_count": null,
   "metadata": {},
   "outputs": [],
   "source": []
  },
  {
   "cell_type": "code",
   "execution_count": null,
   "metadata": {},
   "outputs": [
    {
     "data": {
      "text/plain": [
       "array([0. , 0.1, 0.2, 0.3, 0.4, 0.5, 0.6, 0.7, 0.8, 0.9, 1. ])"
      ]
     },
     "execution_count": 28,
     "metadata": {},
     "output_type": "execute_result"
    }
   ],
   "source": [
    "bins_prob"
   ]
  },
  {
   "cell_type": "code",
   "execution_count": null,
   "metadata": {},
   "outputs": [
    {
     "data": {
      "text/plain": [
       "[0.2465753424657534]"
      ]
     },
     "execution_count": 29,
     "metadata": {},
     "output_type": "execute_result"
    }
   ],
   "source": [
    "False_pos_ratio_30"
   ]
  },
  {
   "cell_type": "code",
   "execution_count": null,
   "metadata": {},
   "outputs": [
    {
     "name": "stdout",
     "output_type": "stream",
     "text": [
      "[0.2636363636363636] [0.32727272727272727] [0.0] [0.2465753424657534]\n"
     ]
    }
   ],
   "source": [
    "print(True_pos_ratio_20, True_pos_ratio_30, False_pos_ratio_20, False_pos_ratio_30)"
   ]
  },
  {
   "cell_type": "code",
   "execution_count": null,
   "metadata": {},
   "outputs": [
    {
     "data": {
      "text/plain": [
       "[0.42889751198356546]"
      ]
     },
     "execution_count": 31,
     "metadata": {},
     "output_type": "execute_result"
    }
   ],
   "source": [
    "Time_lag20"
   ]
  },
  {
   "cell_type": "code",
   "execution_count": null,
   "metadata": {},
   "outputs": [
    {
     "data": {
      "text/plain": [
       "[0.0036521342159324347]"
      ]
     },
     "execution_count": 32,
     "metadata": {},
     "output_type": "execute_result"
    }
   ],
   "source": [
    "Time_lag30"
   ]
  },
  {
   "cell_type": "code",
   "execution_count": null,
   "metadata": {},
   "outputs": [
    {
     "data": {
      "text/plain": [
       "1"
      ]
     },
     "execution_count": 33,
     "metadata": {},
     "output_type": "execute_result"
    }
   ],
   "source": [
    "len(True_pos_ratio_20)"
   ]
  },
  {
   "cell_type": "code",
   "execution_count": null,
   "metadata": {},
   "outputs": [
    {
     "data": {
      "text/plain": [
       "1"
      ]
     },
     "execution_count": 34,
     "metadata": {},
     "output_type": "execute_result"
    }
   ],
   "source": [
    "len(False_pos_ratio_20)"
   ]
  },
  {
   "cell_type": "code",
   "execution_count": null,
   "metadata": {},
   "outputs": [
    {
     "data": {
      "image/png": "[encoded data removed]",
      "text/plain": [
       "<Figure size 740x370 with 3 Axes>"
      ]
     },
     "metadata": {},
     "output_type": "display_data"
    }
   ],
   "source": [
    "# Plotting a figure with three subplots, first subplot shows the distribution of Time_starts, second subplot shows the distribution of True_pos_ratio and the third subplot shows the distribution of False_pos_ratio\n",
    "fig, axs = plt.subplots(1, 3, figsize=(7.4, 3.7))\n",
    "# if Time_lag20 is greater than t_pred-tau put nan in Time_lag20\n",
    "print(Time_lag20)\n",
    "Time_lag20=[Time_lag20[i] if Time_lag20[i]<(t_pred-tau) else np.nan for i in range(len(Time_lag20))]\n",
    "print(Time_lag20)\n",
    "\n",
    "index_nan=[i for i in range(len(Time_lag20)) if np.isnan(Time_lag20[i])]\n",
    "\n",
    "\n",
    "# removing the nan values from True_pos_ratio_20 and False_pos_ratio_20 signal\n",
    "True_pos_ratio_20=[True_pos_ratio_20[i] for i in range(len(True_pos_ratio_20)) if i not in index_nan]\n",
    "False_pos_ratio_20=[False_pos_ratio_20[i] for i in range(len(False_pos_ratio_20)) if i not in index_nan]\n",
    "\n",
    "axs[0].hist(Time_lag20, bins=bins_t, color='red',alpha=0.5)\n",
    "# axs[0].hist(Time_lag30, bins=bins_t, color='blue',alpha=0.5)\n",
    "axs[1].hist(True_pos_ratio_20, bins=bins_prob, color='red',alpha=0.5)\n",
    "# axs[1].hist(True_pos_ratio_30, bins=bins_prob, color='blue',alpha=0.5)\n",
    "axs[2].hist(False_pos_ratio_20, bins=bins_prob, color='red',alpha=0.5)\n",
    "# axs[2].hist(False_pos_ratio_30, bins=bins_prob, color='blue',alpha=0.5)\n",
    "# axs[0].legend([r'$n=40$', r'$n=60$'])\n",
    "# axs[1].legend([r'$n=40$', r'$n=60$'])\n",
    "# axs[2].legend([r'$n=40$', r'$n=60$'])\n",
    "axs[0].set_xlabel('Time lag (year)')\n",
    "axs[0].set_ylabel('Frequency')\n",
    "axs[1].set_xlabel('TPER')\n",
    "axs[1].set_ylabel('Frequency')\n",
    "axs[2].set_xlabel('FPER')\n",
    "axs[2].set_ylabel('Frequency')\n",
    "axs[1].set_xlim(0,1)\n",
    "axs[2].set_xlim(0,1)\n",
    "axs[0].set_ylim(top=5)\n",
    "axs[1].set_ylim(top=7)\n",
    "axs[2].set_ylim(top=10)\n",
    "axs[0].set_xlim(right=t_pred-tau)\n",
    "axs[0].text(-0.15,5.07,'(a)')\n",
    "axs[1].text(0.1,7.1,'(b)')\n",
    "axs[2].text(0.1,10.15,'(c)')\n",
    "plt.tight_layout()\n",
    "# save the figure\n",
    "plt.savefig('/central/groups/astuart/hkaveh/Figs/ROM/Performance_metrics_only20.png',dpi=300,bbox_inches='tight')"
   ]
  },
  {
   "cell_type": "code",
   "execution_count": null,
   "metadata": {},
   "outputs": [
    {
     "data": {
      "text/plain": [
       "1"
      ]
     },
     "execution_count": 36,
     "metadata": {},
     "output_type": "execute_result"
    }
   ],
   "source": [
    "len(True_pos_ratio_20)"
   ]
  },
  {
   "cell_type": "code",
   "execution_count": null,
   "metadata": {},
   "outputs": [
    {
     "data": {
      "text/plain": [
       "1"
      ]
     },
     "execution_count": 37,
     "metadata": {},
     "output_type": "execute_result"
    }
   ],
   "source": [
    "len(False_pos_ratio_20)"
   ]
  },
  {
   "cell_type": "code",
   "execution_count": null,
   "metadata": {},
   "outputs": [],
   "source": []
  },
  {
   "cell_type": "code",
   "execution_count": null,
   "metadata": {},
   "outputs": [],
   "source": []
  },
  {
   "cell_type": "code",
   "execution_count": null,
   "metadata": {},
   "outputs": [],
   "source": []
  },
  {
   "cell_type": "code",
   "execution_count": null,
   "metadata": {},
   "outputs": [],
   "source": []
  },
  {
   "cell_type": "code",
   "execution_count": null,
   "metadata": {},
   "outputs": [],
   "source": []
  }
 ],
 "metadata": {
  "kernelspec": {
   "display_name": "learnmodel",
   "language": "python",
   "name": "python3"
  },
  "language_info": {
   "codemirror_mode": {
    "name": "ipython",
    "version": 3
   },
   "file_extension": ".py",
   "mimetype": "text/x-python",
   "name": "python",
   "nbconvert_exporter": "python",
   "pygments_lexer": "ipython3",
   "version": "3.7.0"
  }
 },
 "nbformat": 4,
 "nbformat_minor": 2
}
